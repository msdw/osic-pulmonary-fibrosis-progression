{
 "cells": [
  {
   "cell_type": "code",
   "execution_count": 1,
   "metadata": {
    "execution": {
     "iopub.execute_input": "2020-10-06T20:47:47.858591Z",
     "iopub.status.busy": "2020-10-06T20:47:47.857599Z",
     "iopub.status.idle": "2020-10-06T20:47:50.580965Z",
     "shell.execute_reply": "2020-10-06T20:47:50.582078Z"
    },
    "papermill": {
     "duration": 2.819376,
     "end_time": "2020-10-06T20:47:50.582345",
     "exception": false,
     "start_time": "2020-10-06T20:47:47.762969",
     "status": "completed"
    },
    "tags": []
   },
   "outputs": [],
   "source": [
    "import SimpleITK as sitk\n",
    "import numpy as np\n",
    "import pandas as pd\n",
    "from torch.utils.data import Dataset, DataLoader\n",
    "import cv2\n",
    "import os\n",
    "import re\n",
    "from tqdm.notebook import tqdm\n",
    "import torch\n",
    "import torch.nn as nn\n",
    "from torch.utils.data import Dataset, DataLoader\n",
    "from mish_activation import *\n",
    "import torchvision.models"
   ]
  },
  {
   "cell_type": "code",
   "execution_count": 2,
   "metadata": {
    "execution": {
     "iopub.execute_input": "2020-10-06T20:47:51.062971Z",
     "iopub.status.busy": "2020-10-06T20:47:51.062204Z",
     "iopub.status.idle": "2020-10-06T20:47:51.070522Z",
     "shell.execute_reply": "2020-10-06T20:47:51.071747Z"
    },
    "papermill": {
     "duration": 0.38105,
     "end_time": "2020-10-06T20:47:51.071943",
     "exception": false,
     "start_time": "2020-10-06T20:47:50.690893",
     "status": "completed"
    },
    "tags": []
   },
   "outputs": [],
   "source": [
    "LABELS = '../input/osic-pulmonary-fibrosis-progression/train.csv'\n",
    "DATA = '../input/osic-pulmonary-fibrosis-progression/test.csv'\n",
    "PATH = '../input/osic-pulmonary-fibrosis-progression/test/'\n",
    "MODELS1 = [f'../input/osic-models/model3c_{i}.pth' for i in range(4)] + \\\n",
    "         [f'../input/osic-models/model5c_feature_{i}.pth' for i in range(4)]\n",
    "MODELS2 = [f'../input/osic-models/model0c_{i}.pth' for i in range(4)]\n",
    "NUM_WORKERS = 2\n",
    "sz = 224\n",
    "r1,r2 = -12,134\n",
    "Nmax = 256#384#256\n",
    "device = torch.device('cuda' if torch.cuda.is_available() else 'cpu')"
   ]
  },
  {
   "cell_type": "code",
   "execution_count": 3,
   "metadata": {
    "execution": {
     "iopub.execute_input": "2020-10-06T20:47:51.227463Z",
     "iopub.status.busy": "2020-10-06T20:47:51.226305Z",
     "iopub.status.idle": "2020-10-06T20:47:51.457645Z",
     "shell.execute_reply": "2020-10-06T20:47:51.456940Z"
    },
    "papermill": {
     "duration": 0.313496,
     "end_time": "2020-10-06T20:47:51.457778",
     "exception": false,
     "start_time": "2020-10-06T20:47:51.144282",
     "status": "completed"
    },
    "tags": []
   },
   "outputs": [
    {
     "data": {
      "text/html": [
       "<div>\n",
       "<style scoped>\n",
       "    .dataframe tbody tr th:only-of-type {\n",
       "        vertical-align: middle;\n",
       "    }\n",
       "\n",
       "    .dataframe tbody tr th {\n",
       "        vertical-align: top;\n",
       "    }\n",
       "\n",
       "    .dataframe thead th {\n",
       "        text-align: right;\n",
       "    }\n",
       "</style>\n",
       "<table border=\"1\" class=\"dataframe\">\n",
       "  <thead>\n",
       "    <tr style=\"text-align: right;\">\n",
       "      <th></th>\n",
       "      <th>Patient</th>\n",
       "      <th>Weeks</th>\n",
       "      <th>FVC</th>\n",
       "      <th>Percent</th>\n",
       "      <th>Age</th>\n",
       "      <th>Sex</th>\n",
       "      <th>SmokingStatus</th>\n",
       "      <th>V0</th>\n",
       "      <th>smoke_feature</th>\n",
       "      <th>sex_feature</th>\n",
       "      <th>age_feature</th>\n",
       "    </tr>\n",
       "  </thead>\n",
       "  <tbody>\n",
       "    <tr>\n",
       "      <th>0</th>\n",
       "      <td>ID00419637202311204720264</td>\n",
       "      <td>6</td>\n",
       "      <td>3020</td>\n",
       "      <td>0.701869</td>\n",
       "      <td>73</td>\n",
       "      <td>Male</td>\n",
       "      <td>Ex-smoker</td>\n",
       "      <td>4302.8</td>\n",
       "      <td>0</td>\n",
       "      <td>0</td>\n",
       "      <td>0.809626</td>\n",
       "    </tr>\n",
       "    <tr>\n",
       "      <th>1</th>\n",
       "      <td>ID00421637202311550012437</td>\n",
       "      <td>15</td>\n",
       "      <td>2739</td>\n",
       "      <td>0.820453</td>\n",
       "      <td>68</td>\n",
       "      <td>Male</td>\n",
       "      <td>Ex-smoker</td>\n",
       "      <td>3338.4</td>\n",
       "      <td>0</td>\n",
       "      <td>0</td>\n",
       "      <td>0.104209</td>\n",
       "    </tr>\n",
       "    <tr>\n",
       "      <th>2</th>\n",
       "      <td>ID00422637202311677017371</td>\n",
       "      <td>6</td>\n",
       "      <td>1930</td>\n",
       "      <td>0.766725</td>\n",
       "      <td>73</td>\n",
       "      <td>Male</td>\n",
       "      <td>Ex-smoker</td>\n",
       "      <td>2517.2</td>\n",
       "      <td>0</td>\n",
       "      <td>0</td>\n",
       "      <td>0.809626</td>\n",
       "    </tr>\n",
       "    <tr>\n",
       "      <th>3</th>\n",
       "      <td>ID00423637202312137826377</td>\n",
       "      <td>17</td>\n",
       "      <td>3294</td>\n",
       "      <td>0.792589</td>\n",
       "      <td>72</td>\n",
       "      <td>Male</td>\n",
       "      <td>Ex-smoker</td>\n",
       "      <td>4156.0</td>\n",
       "      <td>0</td>\n",
       "      <td>0</td>\n",
       "      <td>0.668543</td>\n",
       "    </tr>\n",
       "    <tr>\n",
       "      <th>4</th>\n",
       "      <td>ID00426637202313170790466</td>\n",
       "      <td>0</td>\n",
       "      <td>2925</td>\n",
       "      <td>0.718250</td>\n",
       "      <td>73</td>\n",
       "      <td>Male</td>\n",
       "      <td>Never smoked</td>\n",
       "      <td>4072.4</td>\n",
       "      <td>1</td>\n",
       "      <td>0</td>\n",
       "      <td>0.809626</td>\n",
       "    </tr>\n",
       "  </tbody>\n",
       "</table>\n",
       "</div>"
      ],
      "text/plain": [
       "                     Patient  Weeks   FVC   Percent  Age   Sex SmokingStatus  \\\n",
       "0  ID00419637202311204720264      6  3020  0.701869   73  Male     Ex-smoker   \n",
       "1  ID00421637202311550012437     15  2739  0.820453   68  Male     Ex-smoker   \n",
       "2  ID00422637202311677017371      6  1930  0.766725   73  Male     Ex-smoker   \n",
       "3  ID00423637202312137826377     17  3294  0.792589   72  Male     Ex-smoker   \n",
       "4  ID00426637202313170790466      0  2925  0.718250   73  Male  Never smoked   \n",
       "\n",
       "       V0  smoke_feature  sex_feature  age_feature  \n",
       "0  4302.8              0            0     0.809626  \n",
       "1  3338.4              0            0     0.104209  \n",
       "2  2517.2              0            0     0.809626  \n",
       "3  4156.0              0            0     0.668543  \n",
       "4  4072.4              1            0     0.809626  "
      ]
     },
     "execution_count": 3,
     "metadata": {},
     "output_type": "execute_result"
    }
   ],
   "source": [
    "df0 = pd.read_csv(LABELS)\n",
    "df0['Percent'] = df0['Percent']/100.0\n",
    "df0['V0'] = df0['FVC']/df0['Percent']\n",
    "df0 = df0.groupby('Patient')[['Weeks','FVC','Percent']].agg(list).\\\n",
    "       join(df0.groupby('Patient')[['Age','Sex','SmokingStatus','V0']].max())\n",
    "df0 = df0.reset_index()\n",
    "smoke_map = {'Ex-smoker':0, 'Never smoked':1, 'Currently smokes':2}\n",
    "sex_map = {'Male':0, 'Female':1}\n",
    "df0['smoke_feature'] = df0.SmokingStatus.map(smoke_map)\n",
    "df0['sex_feature'] = df0.Sex.map(sex_map)\n",
    "df0['age_feature'] = (df0['Age'] - df0['Age'].mean())/df0['Age'].std()\n",
    "\n",
    "df = pd.read_csv(DATA)\n",
    "df['Percent'] = df['Percent']/100.0\n",
    "df['V0'] = df['FVC']/df['Percent']\n",
    "df['smoke_feature'] = df.SmokingStatus.map(smoke_map)\n",
    "df['sex_feature'] = df.Sex.map(sex_map)\n",
    "df['age_feature'] = (df['Age'] - df0['Age'].mean())/df0['Age'].std()\n",
    "df.head()"
   ]
  },
  {
   "cell_type": "code",
   "execution_count": 4,
   "metadata": {
    "execution": {
     "iopub.execute_input": "2020-10-06T20:47:51.624561Z",
     "iopub.status.busy": "2020-10-06T20:47:51.623379Z",
     "iopub.status.idle": "2020-10-06T20:47:51.629251Z",
     "shell.execute_reply": "2020-10-06T20:47:51.629782Z"
    },
    "papermill": {
     "duration": 0.104203,
     "end_time": "2020-10-06T20:47:51.629944",
     "exception": false,
     "start_time": "2020-10-06T20:47:51.525741",
     "status": "completed"
    },
    "tags": []
   },
   "outputs": [],
   "source": [
    "mean = torch.Tensor([0.3428277166956346])\n",
    "std = torch.Tensor([0.3143923981299627])\n",
    "\n",
    "def img2tensor(img,dtype:np.dtype=np.float32):\n",
    "    if img.ndim==2 : img = np.expand_dims(img,2)\n",
    "    img = np.transpose(img,(2,0,1))\n",
    "    return torch.from_numpy(img.astype(dtype, copy=False))\n",
    "\n",
    "def atoi(text):\n",
    "    return int(text) if text.isdigit() else text\n",
    "\n",
    "def natural_keys(text):\n",
    "    return [ atoi(c) for c in re.split(r'(\\d+)', text) ]\n",
    "\n",
    "class OSICDataset(Dataset):\n",
    "    def __init__(self, path):\n",
    "        self.path = path\n",
    "        self.names = []\n",
    "        for pi in os.listdir(path):\n",
    "            try:\n",
    "                image = sitk.ReadImage(os.path.join(path,pi))\n",
    "                inimg_raw = sitk.GetArrayFromImage(image)\n",
    "                self.names.append(pi)\n",
    "            except Exception as e:\n",
    "                print('corrupted image:',os.path.join(path,pi))\n",
    "        self.names.sort(key=natural_keys)\n",
    "        l = len(self.names)\n",
    "        self.names = self.names[int(0.1*l):int(0.9*l)] #remove images without lungs\n",
    "        l = len(self.names)\n",
    "        self.names = self.names[(l//2-min(Nmax,l)//2):(l//2+min(Nmax,l)//2)]\n",
    "\n",
    "    def __len__(self):\n",
    "        return len(self.names)\n",
    "\n",
    "    def __getitem__(self, idx):\n",
    "        pi = self.names[idx]\n",
    "        image = sitk.ReadImage(os.path.join(self.path,pi))\n",
    "        inimg_raw = sitk.GetArrayFromImage(image)\n",
    "        s = min(inimg_raw.shape[1:])\n",
    "        inimg_raw = inimg_raw[(inimg_raw.shape[0]//2-s//2):(inimg_raw.shape[0]//2+s//2),\n",
    "                              (inimg_raw.shape[1]//2-s//2):(inimg_raw.shape[1]//2+s//2)]\n",
    "        del image\n",
    "\n",
    "        #while inimg_raw.mean() < -1024: inimg_raw += 1024\n",
    "        while inimg_raw.mean() < -1150 and inimg_raw.max() < 3000: inimg_raw += 1024\n",
    "        inimg_raw[inimg_raw > 600] = 600\n",
    "        inimg_raw[inimg_raw < -1024] = -1024\n",
    "        inimg_raw = ((inimg_raw + 1024)/1624)[0]\n",
    "        if inimg_raw.shape[-1] != sz: inimg_raw = cv2.resize(inimg_raw, (sz, sz), interpolation=cv2.INTER_AREA)\n",
    "        \n",
    "        img = (img2tensor(inimg_raw) - mean)/std\n",
    "        return img"
   ]
  },
  {
   "cell_type": "code",
   "execution_count": 5,
   "metadata": {
    "execution": {
     "iopub.execute_input": "2020-10-06T20:47:51.805451Z",
     "iopub.status.busy": "2020-10-06T20:47:51.785326Z",
     "iopub.status.idle": "2020-10-06T20:47:51.807758Z",
     "shell.execute_reply": "2020-10-06T20:47:51.808321Z"
    },
    "papermill": {
     "duration": 0.112827,
     "end_time": "2020-10-06T20:47:51.808492",
     "exception": false,
     "start_time": "2020-10-06T20:47:51.695665",
     "status": "completed"
    },
    "tags": []
   },
   "outputs": [],
   "source": [
    "from torchvision.models.resnet import ResNet, Bottleneck\n",
    "\n",
    "def AdaptiveConcatMaskPool2d(x,m,output_size=1):\n",
    "    result = []\n",
    "    for xi,mi in zip(x,m):\n",
    "        xi = xi[:mi].unsqueeze(0)\n",
    "        shape = xi.shape\n",
    "        xi = xi.permute(0,2,1,3,4).contiguous().view(-1,shape[2],shape[3]*mi,shape[4])\n",
    "        result.append(torch.cat([F.adaptive_max_pool2d(xi,output_size),\n",
    "                                 F.adaptive_avg_pool2d(xi,output_size)],1))\n",
    "    return torch.cat(result, 0)\n",
    "\n",
    "class Model1(nn.Module):\n",
    "    def __init__(self, arch='resnext50_32x4d_ssl', n=4, pre=True, ps=0.5):\n",
    "        super().__init__()\n",
    "        m = ResNet(Bottleneck, [3, 4, 6, 3], groups=32, width_per_group=4)\n",
    "        nc = list(m.children())[-1].in_features\n",
    "        \n",
    "        self.enc = nn.Sequential(*list(m.children())[:-2])\n",
    "        shape = self.enc[0].weight.shape\n",
    "        w = self.enc[0].weight.sum(1).unsqueeze(1)\n",
    "        self.enc[0] = nn.Conv2d(1, 64, kernel_size=(7, 7), stride=(2, 2), padding=(3, 3), bias=False)\n",
    "        self.enc[0].weight = nn.Parameter(w)\n",
    "        self.head = nn.Sequential(nn.Linear(2*nc+9,512),Mish(),nn.GroupNorm(32,512),\n",
    "                                  nn.Dropout(ps),nn.Linear(512,n))\n",
    "        self.emb_sm,self.emb_sx = nn.Embedding(3,4),nn.Embedding(2,4)\n",
    "        \n",
    "    def forward(self, x, m, smf, sxf, af):\n",
    "        shape = x.shape\n",
    "        n = shape[1]\n",
    "        x = x.view(-1,shape[2],shape[3],shape[4])\n",
    "        x = self.enc(x)\n",
    "        \n",
    "        shape = x.shape\n",
    "        x = AdaptiveConcatMaskPool2d(x.view(-1,n,shape[1],shape[2],shape[3]),m)\n",
    "        x = torch.cat([x.view(x.size(0), -1),self.emb_sm(smf),self.emb_sx(sxf),af.unsqueeze(-1)],1)\n",
    "        x = self.head(x)\n",
    "        return x\n",
    "\n",
    "class Model2(nn.Module):\n",
    "    def __init__(self, n=4, ps=0.5):\n",
    "        super().__init__()\n",
    "        m = torchvision.models.resnet18()\n",
    "        nc = list(m.children())[-1].in_features\n",
    "        \n",
    "        self.enc = nn.Sequential(*list(m.children())[:-2])\n",
    "        shape = self.enc[0].weight.shape\n",
    "        w = self.enc[0].weight.sum(1).unsqueeze(1)\n",
    "        self.enc[0] = nn.Conv2d(1, 64, kernel_size=(7, 7), stride=(2, 2), padding=(3, 3), bias=False)\n",
    "        self.enc[0].weight = nn.Parameter(w)\n",
    "        self.head = nn.Sequential(nn.Linear(2*nc+9,512),Mish(),nn.GroupNorm(32,512),\n",
    "                                  nn.Dropout(ps),nn.Linear(512,n))\n",
    "        self.emb_sm,self.emb_sx = nn.Embedding(3,4),nn.Embedding(2,4)\n",
    "        \n",
    "    def forward(self, x, m, smf, sxf, af):\n",
    "        shape = x.shape\n",
    "        n = shape[1]\n",
    "        x = x.view(-1,shape[2],shape[3],shape[4])\n",
    "        x = self.enc(x)\n",
    "        \n",
    "        shape = x.shape\n",
    "        x = AdaptiveConcatMaskPool2d(x.view(-1,n,shape[1],shape[2],shape[3]),m)\n",
    "        x = torch.cat([x.view(x.size(0), -1),self.emb_sm(smf),self.emb_sx(sxf),af.unsqueeze(-1)],1)\n",
    "        x = self.head(x)\n",
    "        return x"
   ]
  },
  {
   "cell_type": "code",
   "execution_count": 6,
   "metadata": {
    "execution": {
     "iopub.execute_input": "2020-10-06T20:47:51.952020Z",
     "iopub.status.busy": "2020-10-06T20:47:51.951122Z",
     "iopub.status.idle": "2020-10-06T20:48:04.947416Z",
     "shell.execute_reply": "2020-10-06T20:48:04.946298Z"
    },
    "papermill": {
     "duration": 13.07351,
     "end_time": "2020-10-06T20:48:04.947572",
     "exception": false,
     "start_time": "2020-10-06T20:47:51.874062",
     "status": "completed"
    },
    "tags": []
   },
   "outputs": [],
   "source": [
    "models = []\n",
    "for path in MODELS1:\n",
    "    state_dict = torch.load(path,map_location=torch.device('cpu'))\n",
    "    model = Model1()\n",
    "    model.load_state_dict(state_dict)\n",
    "    model.float()\n",
    "    model.eval()\n",
    "    model.to(device)\n",
    "    models.append(model)\n",
    "\n",
    "for path in MODELS2:\n",
    "    state_dict = torch.load(path,map_location=torch.device('cpu'))\n",
    "    model = Model2()\n",
    "    model.load_state_dict(state_dict)\n",
    "    model.float()\n",
    "    model.eval()\n",
    "    model.to(device)\n",
    "    models.append(model)\n",
    "    \n",
    "del state_dict"
   ]
  },
  {
   "cell_type": "code",
   "execution_count": 7,
   "metadata": {
    "execution": {
     "iopub.execute_input": "2020-10-06T20:48:05.099691Z",
     "iopub.status.busy": "2020-10-06T20:48:05.098836Z",
     "iopub.status.idle": "2020-10-06T20:48:59.518336Z",
     "shell.execute_reply": "2020-10-06T20:48:59.517694Z"
    },
    "papermill": {
     "duration": 54.505219,
     "end_time": "2020-10-06T20:48:59.518485",
     "exception": false,
     "start_time": "2020-10-06T20:48:05.013266",
     "status": "completed"
    },
    "tags": []
   },
   "outputs": [],
   "source": [
    "Patient_Week,FVC,Confidence = [],[],[]\n",
    "for idx in range(len(df)):\n",
    "    idx,pt,w,v0,smf,sxf,af = df.iloc[idx][['Patient','Percent','Weeks','V0','smoke_feature',\n",
    "                                                  'sex_feature','age_feature']]\n",
    "    ds = OSICDataset(os.path.join(PATH,idx))\n",
    "    dl = DataLoader(ds,Nmax,num_workers=NUM_WORKERS,shuffle=False)\n",
    "    x = next(iter(dl)).unsqueeze(0).to(device)\n",
    "    smf,sxf,af = torch.LongTensor([smf]).to(device),torch.LongTensor([sxf]).to(device),torch.Tensor([af]).to(device)\n",
    "    #print(x.shape[1])\n",
    "    nm = torch.LongTensor([x.shape[1]]).to(device)\n",
    "    \n",
    "    with torch.no_grad():\n",
    "        p = [m(x,nm,smf,sxf,af) for m in models]\n",
    "    p = torch.cat(p,0).mean(0).cpu()\n",
    "    \n",
    "    for i in range(r1,r2):\n",
    "        vp = v0*(p[0] + p[1]*i/132.0 + 100.0*pt - p[1]*w/132.0)/100.0\n",
    "        sp = v0*F.softplus(p[2] + p[3]*i/132.0)\n",
    "        Patient_Week.append(idx+'_'+str(i))\n",
    "        FVC.append(vp.item())\n",
    "        Confidence.append(sp.item())"
   ]
  },
  {
   "cell_type": "code",
   "execution_count": 8,
   "metadata": {
    "execution": {
     "iopub.execute_input": "2020-10-06T20:48:59.660057Z",
     "iopub.status.busy": "2020-10-06T20:48:59.659164Z",
     "iopub.status.idle": "2020-10-06T20:49:00.017551Z",
     "shell.execute_reply": "2020-10-06T20:49:00.016679Z"
    },
    "papermill": {
     "duration": 0.432612,
     "end_time": "2020-10-06T20:49:00.017690",
     "exception": false,
     "start_time": "2020-10-06T20:48:59.585078",
     "status": "completed"
    },
    "tags": []
   },
   "outputs": [
    {
     "data": {
      "text/html": [
       "<div>\n",
       "<style scoped>\n",
       "    .dataframe tbody tr th:only-of-type {\n",
       "        vertical-align: middle;\n",
       "    }\n",
       "\n",
       "    .dataframe tbody tr th {\n",
       "        vertical-align: top;\n",
       "    }\n",
       "\n",
       "    .dataframe thead th {\n",
       "        text-align: right;\n",
       "    }\n",
       "</style>\n",
       "<table border=\"1\" class=\"dataframe\">\n",
       "  <thead>\n",
       "    <tr style=\"text-align: right;\">\n",
       "      <th></th>\n",
       "      <th>Patient_Week</th>\n",
       "      <th>FVC</th>\n",
       "      <th>Confidence</th>\n",
       "    </tr>\n",
       "  </thead>\n",
       "  <tbody>\n",
       "    <tr>\n",
       "      <th>0</th>\n",
       "      <td>ID00419637202311204720264_-12</td>\n",
       "      <td>2951.215576</td>\n",
       "      <td>367.666565</td>\n",
       "    </tr>\n",
       "    <tr>\n",
       "      <th>1</th>\n",
       "      <td>ID00419637202311204720264_-11</td>\n",
       "      <td>2949.578125</td>\n",
       "      <td>367.859619</td>\n",
       "    </tr>\n",
       "    <tr>\n",
       "      <th>2</th>\n",
       "      <td>ID00419637202311204720264_-10</td>\n",
       "      <td>2947.940918</td>\n",
       "      <td>368.052734</td>\n",
       "    </tr>\n",
       "    <tr>\n",
       "      <th>3</th>\n",
       "      <td>ID00419637202311204720264_-9</td>\n",
       "      <td>2946.303467</td>\n",
       "      <td>368.245941</td>\n",
       "    </tr>\n",
       "    <tr>\n",
       "      <th>4</th>\n",
       "      <td>ID00419637202311204720264_-8</td>\n",
       "      <td>2944.666016</td>\n",
       "      <td>368.439362</td>\n",
       "    </tr>\n",
       "  </tbody>\n",
       "</table>\n",
       "</div>"
      ],
      "text/plain": [
       "                    Patient_Week          FVC  Confidence\n",
       "0  ID00419637202311204720264_-12  2951.215576  367.666565\n",
       "1  ID00419637202311204720264_-11  2949.578125  367.859619\n",
       "2  ID00419637202311204720264_-10  2947.940918  368.052734\n",
       "3   ID00419637202311204720264_-9  2946.303467  368.245941\n",
       "4   ID00419637202311204720264_-8  2944.666016  368.439362"
      ]
     },
     "execution_count": 8,
     "metadata": {},
     "output_type": "execute_result"
    }
   ],
   "source": [
    "df1 = pd.DataFrame({'Patient_Week':Patient_Week,'FVC':FVC,'Confidence':Confidence})\n",
    "df1.to_csv('submission1.csv', index=False)\n",
    "df1.head()"
   ]
  },
  {
   "cell_type": "code",
   "execution_count": 9,
   "metadata": {
    "execution": {
     "iopub.execute_input": "2020-10-06T20:49:00.167967Z",
     "iopub.status.busy": "2020-10-06T20:49:00.167195Z",
     "iopub.status.idle": "2020-10-06T20:49:00.172930Z",
     "shell.execute_reply": "2020-10-06T20:49:00.172339Z"
    },
    "papermill": {
     "duration": 0.079424,
     "end_time": "2020-10-06T20:49:00.173084",
     "exception": false,
     "start_time": "2020-10-06T20:49:00.093660",
     "status": "completed"
    },
    "tags": []
   },
   "outputs": [],
   "source": [
    "import numpy as np\n",
    "import pandas as pd\n",
    "import os\n",
    "import re\n",
    "from tqdm.notebook import tqdm\n",
    "import torch\n",
    "import torch.nn as nn\n",
    "from torch.utils.data import Dataset, DataLoader\n",
    "from mish_activation import *"
   ]
  },
  {
   "cell_type": "code",
   "execution_count": 10,
   "metadata": {
    "execution": {
     "iopub.execute_input": "2020-10-06T20:49:00.338640Z",
     "iopub.status.busy": "2020-10-06T20:49:00.336068Z",
     "iopub.status.idle": "2020-10-06T20:49:00.339618Z",
     "shell.execute_reply": "2020-10-06T20:49:00.340295Z"
    },
    "papermill": {
     "duration": 0.097979,
     "end_time": "2020-10-06T20:49:00.340481",
     "exception": false,
     "start_time": "2020-10-06T20:49:00.242502",
     "status": "completed"
    },
    "tags": []
   },
   "outputs": [],
   "source": [
    "LABELS = '../input/osic-pulmonary-fibrosis-progression/train.csv'\n",
    "DATA = '../input/osic-pulmonary-fibrosis-progression/test.csv'\n",
    "PATH = '../input/osic-pulmonary-fibrosis-progression/test/'\n",
    "MODELS1 =[f'../input/osic-tabular-models/model0c_{i}.pth' for i in range(4)] + \\\n",
    "         [f'../input/osic-tabular-models/model1c_{i}.pth' for i in range(4)] + \\\n",
    "         [f'../input/osic-tabular-models/model2c_{i}.pth' for i in range(4)] + \\\n",
    "         [f'../input/osic-tabular-models/model3c_{i}.pth' for i in range(4)] + \\\n",
    "         [f'../input/osic-tabular-models/model4c_{i}.pth' for i in range(4)]\n",
    "\n",
    "MODELS2 =[f'../input/osic-tabular-models/model5c_{i}.pth' for i in range(1,5)] + \\\n",
    "         [f'../input/osic-tabular-models/model6c_{i}.pth' for i in range(4)] + \\\n",
    "         [f'../input/osic-tabular-models/model7c_{i}.pth' for i in range(4)] + \\\n",
    "         [f'../input/osic-tabular-models/model8c_{i}.pth' for i in range(4)] + \\\n",
    "         [f'../input/osic-tabular-models/model9c_{i}.pth' for i in range(4)]\n",
    "\n",
    "MODELS3 =[f'../input/osic-tabular-models/model10c_{i}.pth' for i in range(4)] + \\\n",
    "         [f'../input/osic-tabular-models/model11c_{i}.pth' for i in range(4)] + \\\n",
    "         [f'../input/osic-tabular-models/model12c_{i}.pth' for i in range(4)] + \\\n",
    "         [f'../input/osic-tabular-models/model13c_{i}.pth' for i in range(4)] + \\\n",
    "         [f'../input/osic-tabular-models/model14c_{i}.pth' for i in range(4)]\n",
    "\n",
    "NUM_WORKERS = 1\n",
    "weeks = list(range(-12,134))\n",
    "Np = len(weeks)\n",
    "device = torch.device('cpu')"
   ]
  },
  {
   "cell_type": "code",
   "execution_count": 11,
   "metadata": {
    "execution": {
     "iopub.execute_input": "2020-10-06T20:49:00.524096Z",
     "iopub.status.busy": "2020-10-06T20:49:00.504956Z",
     "iopub.status.idle": "2020-10-06T20:49:00.763760Z",
     "shell.execute_reply": "2020-10-06T20:49:00.764485Z"
    },
    "papermill": {
     "duration": 0.346746,
     "end_time": "2020-10-06T20:49:00.764664",
     "exception": false,
     "start_time": "2020-10-06T20:49:00.417918",
     "status": "completed"
    },
    "tags": []
   },
   "outputs": [
    {
     "data": {
      "text/html": [
       "<div>\n",
       "<style scoped>\n",
       "    .dataframe tbody tr th:only-of-type {\n",
       "        vertical-align: middle;\n",
       "    }\n",
       "\n",
       "    .dataframe tbody tr th {\n",
       "        vertical-align: top;\n",
       "    }\n",
       "\n",
       "    .dataframe thead th {\n",
       "        text-align: right;\n",
       "    }\n",
       "</style>\n",
       "<table border=\"1\" class=\"dataframe\">\n",
       "  <thead>\n",
       "    <tr style=\"text-align: right;\">\n",
       "      <th></th>\n",
       "      <th>Patient</th>\n",
       "      <th>Weeks</th>\n",
       "      <th>FVC</th>\n",
       "      <th>Percent</th>\n",
       "      <th>Weeks_feature</th>\n",
       "      <th>Age</th>\n",
       "      <th>Sex</th>\n",
       "      <th>SmokingStatus</th>\n",
       "      <th>V0</th>\n",
       "      <th>first</th>\n",
       "      <th>first_w</th>\n",
       "      <th>Age_feature</th>\n",
       "      <th>first_feature</th>\n",
       "      <th>V0_feature</th>\n",
       "      <th>Male</th>\n",
       "      <th>Female</th>\n",
       "      <th>Ex-smoker</th>\n",
       "      <th>Never smoked</th>\n",
       "      <th>Currently smokes</th>\n",
       "    </tr>\n",
       "  </thead>\n",
       "  <tbody>\n",
       "    <tr>\n",
       "      <th>0</th>\n",
       "      <td>ID00419637202311204720264</td>\n",
       "      <td>[6]</td>\n",
       "      <td>[3020]</td>\n",
       "      <td>[0.7018685507111652]</td>\n",
       "      <td>[0.04477611940298507]</td>\n",
       "      <td>73</td>\n",
       "      <td>Male</td>\n",
       "      <td>Ex-smoker</td>\n",
       "      <td>4302.8</td>\n",
       "      <td>3020.0</td>\n",
       "      <td>0.044776</td>\n",
       "      <td>0.809626</td>\n",
       "      <td>0.297108</td>\n",
       "      <td>1.093480</td>\n",
       "      <td>1</td>\n",
       "      <td>0</td>\n",
       "      <td>1</td>\n",
       "      <td>0</td>\n",
       "      <td>0</td>\n",
       "    </tr>\n",
       "    <tr>\n",
       "      <th>1</th>\n",
       "      <td>ID00421637202311550012437</td>\n",
       "      <td>[15]</td>\n",
       "      <td>[2739]</td>\n",
       "      <td>[0.820452911574407]</td>\n",
       "      <td>[0.11194029850746269]</td>\n",
       "      <td>68</td>\n",
       "      <td>Male</td>\n",
       "      <td>Ex-smoker</td>\n",
       "      <td>3338.4</td>\n",
       "      <td>2739.0</td>\n",
       "      <td>0.111940</td>\n",
       "      <td>0.104209</td>\n",
       "      <td>-0.039188</td>\n",
       "      <td>-0.201816</td>\n",
       "      <td>1</td>\n",
       "      <td>0</td>\n",
       "      <td>1</td>\n",
       "      <td>0</td>\n",
       "      <td>0</td>\n",
       "    </tr>\n",
       "    <tr>\n",
       "      <th>2</th>\n",
       "      <td>ID00422637202311677017371</td>\n",
       "      <td>[6]</td>\n",
       "      <td>[1930]</td>\n",
       "      <td>[0.766724932464643]</td>\n",
       "      <td>[0.04477611940298507]</td>\n",
       "      <td>73</td>\n",
       "      <td>Male</td>\n",
       "      <td>Ex-smoker</td>\n",
       "      <td>2517.2</td>\n",
       "      <td>1930.0</td>\n",
       "      <td>0.044776</td>\n",
       "      <td>0.809626</td>\n",
       "      <td>-1.007384</td>\n",
       "      <td>-1.304778</td>\n",
       "      <td>1</td>\n",
       "      <td>0</td>\n",
       "      <td>1</td>\n",
       "      <td>0</td>\n",
       "      <td>0</td>\n",
       "    </tr>\n",
       "    <tr>\n",
       "      <th>3</th>\n",
       "      <td>ID00423637202312137826377</td>\n",
       "      <td>[17]</td>\n",
       "      <td>[3294]</td>\n",
       "      <td>[0.792589027911453]</td>\n",
       "      <td>[0.12686567164179105]</td>\n",
       "      <td>72</td>\n",
       "      <td>Male</td>\n",
       "      <td>Ex-smoker</td>\n",
       "      <td>4156.0</td>\n",
       "      <td>3294.0</td>\n",
       "      <td>0.126866</td>\n",
       "      <td>0.668543</td>\n",
       "      <td>0.625026</td>\n",
       "      <td>0.896311</td>\n",
       "      <td>1</td>\n",
       "      <td>0</td>\n",
       "      <td>1</td>\n",
       "      <td>0</td>\n",
       "      <td>0</td>\n",
       "    </tr>\n",
       "    <tr>\n",
       "      <th>4</th>\n",
       "      <td>ID00426637202313170790466</td>\n",
       "      <td>[0]</td>\n",
       "      <td>[2925]</td>\n",
       "      <td>[0.71824968077792]</td>\n",
       "      <td>[0.0]</td>\n",
       "      <td>73</td>\n",
       "      <td>Male</td>\n",
       "      <td>Never smoked</td>\n",
       "      <td>4072.4</td>\n",
       "      <td>2925.0</td>\n",
       "      <td>0.000000</td>\n",
       "      <td>0.809626</td>\n",
       "      <td>0.183414</td>\n",
       "      <td>0.784027</td>\n",
       "      <td>1</td>\n",
       "      <td>0</td>\n",
       "      <td>0</td>\n",
       "      <td>1</td>\n",
       "      <td>0</td>\n",
       "    </tr>\n",
       "  </tbody>\n",
       "</table>\n",
       "</div>"
      ],
      "text/plain": [
       "                     Patient Weeks     FVC               Percent  \\\n",
       "0  ID00419637202311204720264   [6]  [3020]  [0.7018685507111652]   \n",
       "1  ID00421637202311550012437  [15]  [2739]   [0.820452911574407]   \n",
       "2  ID00422637202311677017371   [6]  [1930]   [0.766724932464643]   \n",
       "3  ID00423637202312137826377  [17]  [3294]   [0.792589027911453]   \n",
       "4  ID00426637202313170790466   [0]  [2925]    [0.71824968077792]   \n",
       "\n",
       "           Weeks_feature  Age   Sex SmokingStatus      V0   first   first_w  \\\n",
       "0  [0.04477611940298507]   73  Male     Ex-smoker  4302.8  3020.0  0.044776   \n",
       "1  [0.11194029850746269]   68  Male     Ex-smoker  3338.4  2739.0  0.111940   \n",
       "2  [0.04477611940298507]   73  Male     Ex-smoker  2517.2  1930.0  0.044776   \n",
       "3  [0.12686567164179105]   72  Male     Ex-smoker  4156.0  3294.0  0.126866   \n",
       "4                  [0.0]   73  Male  Never smoked  4072.4  2925.0  0.000000   \n",
       "\n",
       "   Age_feature  first_feature  V0_feature  Male  Female  Ex-smoker  \\\n",
       "0     0.809626       0.297108    1.093480     1       0          1   \n",
       "1     0.104209      -0.039188   -0.201816     1       0          1   \n",
       "2     0.809626      -1.007384   -1.304778     1       0          1   \n",
       "3     0.668543       0.625026    0.896311     1       0          1   \n",
       "4     0.809626       0.183414    0.784027     1       0          0   \n",
       "\n",
       "   Never smoked  Currently smokes  \n",
       "0             0                 0  \n",
       "1             0                 0  \n",
       "2             0                 0  \n",
       "3             0                 0  \n",
       "4             1                 0  "
      ]
     },
     "execution_count": 11,
     "metadata": {},
     "output_type": "execute_result"
    }
   ],
   "source": [
    "df0 = pd.read_csv(LABELS)\n",
    "df0['Percent'] = df0['Percent']/100.0\n",
    "df0['V0'] = df0['FVC']/df0['Percent']\n",
    "df0 = df0.groupby('Patient')[['Weeks','FVC','Percent']].agg(list).\\\n",
    "       join(df0.groupby('Patient')[['Age','Sex','SmokingStatus','V0']].max())\n",
    "df0 = df0.reset_index()\n",
    "first,first_w = [],[]\n",
    "for index, row in df0.iterrows():\n",
    "    v = row['FVC'][0]\n",
    "    first.append(float(v))\n",
    "df0['first'] = first\n",
    "\n",
    "df = pd.read_csv(DATA)\n",
    "df['Percent'] = df['Percent']/100.0\n",
    "df['V0'] = df['FVC']/df['Percent']\n",
    "df['Weeks_feature'] = df['Weeks']/134\n",
    "df = df.groupby('Patient')[['Weeks','FVC','Percent','Weeks_feature']].agg(list).\\\n",
    "       join(df.groupby('Patient')[['Age','Sex','SmokingStatus','V0']].max())\n",
    "df = df.reset_index()\n",
    "first,first_w = [],[]\n",
    "for index, row in df.iterrows():\n",
    "    v = row['FVC'][0]\n",
    "    first.append(float(v))\n",
    "    first_w.append(float(row['Weeks_feature'][0]))\n",
    "df['first'] = first\n",
    "df['first_w'] = first_w\n",
    "\n",
    "df['Age_feature'] = ((df['Age'] - df0['Age'].mean())/df0['Age'].std()).astype(np.float)\n",
    "df['first_feature'] = (df['first'] - df0['first'].mean())/df0['first'].std()\n",
    "df['V0_feature'] = (df['V0'] - df0['V0'].mean())/df0['V0'].std()\n",
    "df['Male'] = (df['Sex'] == 'Male').astype(np.int)\n",
    "df['Female'] = (df['Sex'] == 'Female').astype(np.int)\n",
    "df['Ex-smoker'] = (df['SmokingStatus'] == 'Ex-smoker').astype(np.int)\n",
    "df['Never smoked'] = (df['SmokingStatus'] == 'Never smoked').astype(np.int)\n",
    "df['Currently smokes'] = (df['SmokingStatus'] == 'Currently smokes').astype(np.int)\n",
    "\n",
    "df.head()"
   ]
  },
  {
   "cell_type": "code",
   "execution_count": 12,
   "metadata": {
    "execution": {
     "iopub.execute_input": "2020-10-06T20:49:00.943992Z",
     "iopub.status.busy": "2020-10-06T20:49:00.942154Z",
     "iopub.status.idle": "2020-10-06T20:49:00.944934Z",
     "shell.execute_reply": "2020-10-06T20:49:00.945558Z"
    },
    "papermill": {
     "duration": 0.102576,
     "end_time": "2020-10-06T20:49:00.945740",
     "exception": false,
     "start_time": "2020-10-06T20:49:00.843164",
     "status": "completed"
    },
    "tags": []
   },
   "outputs": [],
   "source": [
    "features = ['Age_feature','Male','Female','Ex-smoker','Never smoked','Currently smokes',\n",
    "            'V0_feature','first_feature','first_w']\n",
    "\n",
    "def expand_list(l, n, pad=0):\n",
    "    if len(l) >= n: del l[n:]\n",
    "    else: l.extend([pad] * (n - len(l)))\n",
    "\n",
    "class OSICDataset(Dataset):\n",
    "    def __init__(self, df):\n",
    "        self.df = df\n",
    "        \n",
    "    def __len__(self):\n",
    "        return len(self.df)\n",
    "\n",
    "    def __getitem__(self, idx):\n",
    "        x = self.df.iloc[idx][features].values\n",
    "        idx,w = self.df.iloc[idx][['Patient','Weeks']]\n",
    "        return (torch.Tensor(x.astype(np.float)),torch.Tensor([(wi - w[0])/134.0 for wi in weeks])), idx"
   ]
  },
  {
   "cell_type": "code",
   "execution_count": 13,
   "metadata": {
    "execution": {
     "iopub.execute_input": "2020-10-06T20:49:01.140229Z",
     "iopub.status.busy": "2020-10-06T20:49:01.137566Z",
     "iopub.status.idle": "2020-10-06T20:49:01.141073Z",
     "shell.execute_reply": "2020-10-06T20:49:01.141652Z"
    },
    "papermill": {
     "duration": 0.118328,
     "end_time": "2020-10-06T20:49:01.141813",
     "exception": false,
     "start_time": "2020-10-06T20:49:01.023485",
     "status": "completed"
    },
    "tags": []
   },
   "outputs": [],
   "source": [
    "def batchnorm_1d(nf:int, norm_type=1):\n",
    "    bn = nn.BatchNorm1d(nf)\n",
    "    with torch.no_grad():\n",
    "        bn.bias.fill_(1e-3)\n",
    "        bn.weight.fill_(0.0 if norm_type==0 else 1.0)\n",
    "    return bn\n",
    "\n",
    "class LinearBlock(nn.Module):\n",
    "    def __init__ (self, in_sz, out_sz, activation=nn.ReLU(inplace=True), ps=None):\n",
    "        super().__init__()\n",
    "        self.block = nn.Sequential(nn.Linear(in_sz,out_sz), activation, batchnorm_1d(out_sz), nn.Dropout(ps)) if ps is not None \\\n",
    "            else nn.Sequential(nn.Linear(in_sz,out_sz), activation, batchnorm_1d(out_sz))\n",
    "        \n",
    "    def forward(self, x):\n",
    "        return self.block(x)\n",
    "\n",
    "class Model1(nn.Module):\n",
    "    def __init__(self, n=3, pre=True, ps=0.25):\n",
    "        super().__init__()\n",
    "        self.b0 = LinearBlock(len(features)+1, 512, Mish(), ps)\n",
    "        self.b1 = LinearBlock(512, 256, Mish(), ps)\n",
    "        self.b2 = LinearBlock(256, 128, Mish(), ps)\n",
    "        self.out = nn.Linear(512+256+128,n*2)\n",
    "        \n",
    "    def forward(self, x, w):\n",
    "        x = torch.cat([x.unsqueeze(1).repeat(1,Np,1),w.unsqueeze(-1)],-1)\n",
    "        shape = x.shape\n",
    "        x = x.view(-1,shape[-1])\n",
    "        x0 = self.b0(x)\n",
    "        x1 = self.b1(x0)\n",
    "        x2 = self.b2(x1)\n",
    "        x = self.out(torch.cat([x0,x1,x2], dim=-1))\n",
    "        x = x.view(shape[0],shape[1],-1)\n",
    "        n = x.shape[-1]\n",
    "        x = x[:,:,:n//2] + torch.cumsum(x[:,:,n//2:],-1)\n",
    "        return x\n",
    "    \n",
    "class Model2(nn.Module):\n",
    "    def __init__(self, n=3, pre=True, ps=0.25):\n",
    "        super().__init__()\n",
    "        self.b0 = LinearBlock(len(features)+1, 512, Mish(), ps)\n",
    "        self.b1 = LinearBlock(512, 256, Mish(), ps)\n",
    "        self.b2 = LinearBlock(256, 128, Mish(), ps)\n",
    "        self.out = nn.Linear(512+256+128,n)\n",
    "        \n",
    "    def forward(self, x, w):\n",
    "        x = torch.cat([x.unsqueeze(1).repeat(1,w.shape[-1],1),w.unsqueeze(-1)],-1)\n",
    "        shape = x.shape\n",
    "        x = x.view(-1,shape[-1])\n",
    "        x0 = self.b0(x)\n",
    "        x1 = self.b1(x0)\n",
    "        x2 = self.b2(x1)\n",
    "        x = self.out(torch.cat([x0,x1,x2], dim=-1))\n",
    "        return x.view(shape[0],shape[1],-1)\n",
    "    \n",
    "class Model3(nn.Module):\n",
    "    def __init__(self, n=3, pre=True, ps=0.25):\n",
    "        super().__init__()\n",
    "        self.net = nn.Sequential(nn.Linear(len(features)+1, 128),nn.ReLU(inplace=True),\n",
    "                                 nn.Linear(128, 128),nn.ReLU(inplace=True),\n",
    "                                 nn.Linear(128, n, bias=False))\n",
    "        \n",
    "    def forward(self, x, w):\n",
    "        x = torch.cat([x.unsqueeze(1).repeat(1,w.shape[-1],1),w.unsqueeze(-1)],-1)\n",
    "        shape = x.shape\n",
    "        x = x.view(-1,shape[-1])\n",
    "        x = self.net(x)\n",
    "        #x = 0.5*(x + torch.cumsum(F.relu(x),-1))\n",
    "        return x.view(shape[0],shape[1],-1)"
   ]
  },
  {
   "cell_type": "code",
   "execution_count": 14,
   "metadata": {
    "execution": {
     "iopub.execute_input": "2020-10-06T20:49:01.307349Z",
     "iopub.status.busy": "2020-10-06T20:49:01.306473Z",
     "iopub.status.idle": "2020-10-06T20:49:01.861534Z",
     "shell.execute_reply": "2020-10-06T20:49:01.859855Z"
    },
    "papermill": {
     "duration": 0.644976,
     "end_time": "2020-10-06T20:49:01.861686",
     "exception": false,
     "start_time": "2020-10-06T20:49:01.216710",
     "status": "completed"
    },
    "tags": []
   },
   "outputs": [],
   "source": [
    "models = []\n",
    "for path in MODELS1:\n",
    "    state_dict = torch.load(path,map_location=torch.device('cpu'))\n",
    "    model = Model1()\n",
    "    model.load_state_dict(state_dict)\n",
    "    model.float()\n",
    "    model.eval()\n",
    "    model.to(device)\n",
    "    models.append(model)\n",
    "    \n",
    "for path in MODELS2:\n",
    "    state_dict = torch.load(path,map_location=torch.device('cpu'))\n",
    "    model = Model2()\n",
    "    model.load_state_dict(state_dict)\n",
    "    model.float()\n",
    "    model.eval()\n",
    "    model.to(device)\n",
    "    models.append(model)\n",
    "    \n",
    "for path in MODELS3:\n",
    "    state_dict = torch.load(path,map_location=torch.device('cpu'))\n",
    "    model = Model3()\n",
    "    model.load_state_dict(state_dict)\n",
    "    model.float()\n",
    "    model.eval()\n",
    "    model.to(device)\n",
    "    models.append(model)\n",
    "\n",
    "del state_dict"
   ]
  },
  {
   "cell_type": "code",
   "execution_count": 15,
   "metadata": {
    "execution": {
     "iopub.execute_input": "2020-10-06T20:49:02.022064Z",
     "iopub.status.busy": "2020-10-06T20:49:02.020845Z",
     "iopub.status.idle": "2020-10-06T20:49:02.998199Z",
     "shell.execute_reply": "2020-10-06T20:49:02.997519Z"
    },
    "papermill": {
     "duration": 1.06129,
     "end_time": "2020-10-06T20:49:02.998350",
     "exception": false,
     "start_time": "2020-10-06T20:49:01.937060",
     "status": "completed"
    },
    "tags": []
   },
   "outputs": [],
   "source": [
    "ds = OSICDataset(df)\n",
    "dl = DataLoader(ds,128,num_workers=NUM_WORKERS,shuffle=False)\n",
    "idxs, vps, sps = [],[],[]\n",
    "for x,idx in dl:\n",
    "    idxs += idx\n",
    "    w = x[1].to(device)\n",
    "    x = x[0].to(device)\n",
    "    with torch.no_grad():\n",
    "        p = [m(x,w) for m in models]\n",
    "    p = torch.stack(p,0).mean(0).cpu()\n",
    "    vps.append(p[:,:,0])\n",
    "    sps.append(torch.clamp(p[:,:,2] - p[:,:,1],min=70.0))\n",
    "vps = torch.cat(vps,0)\n",
    "sps = torch.cat(sps,0)"
   ]
  },
  {
   "cell_type": "code",
   "execution_count": 16,
   "metadata": {
    "execution": {
     "iopub.execute_input": "2020-10-06T20:49:03.148201Z",
     "iopub.status.busy": "2020-10-06T20:49:03.147357Z",
     "iopub.status.idle": "2020-10-06T20:49:03.178000Z",
     "shell.execute_reply": "2020-10-06T20:49:03.178675Z"
    },
    "papermill": {
     "duration": 0.111345,
     "end_time": "2020-10-06T20:49:03.178844",
     "exception": false,
     "start_time": "2020-10-06T20:49:03.067499",
     "status": "completed"
    },
    "tags": []
   },
   "outputs": [
    {
     "data": {
      "text/html": [
       "<div>\n",
       "<style scoped>\n",
       "    .dataframe tbody tr th:only-of-type {\n",
       "        vertical-align: middle;\n",
       "    }\n",
       "\n",
       "    .dataframe tbody tr th {\n",
       "        vertical-align: top;\n",
       "    }\n",
       "\n",
       "    .dataframe thead th {\n",
       "        text-align: right;\n",
       "    }\n",
       "</style>\n",
       "<table border=\"1\" class=\"dataframe\">\n",
       "  <thead>\n",
       "    <tr style=\"text-align: right;\">\n",
       "      <th></th>\n",
       "      <th>Patient_Week</th>\n",
       "      <th>FVC</th>\n",
       "      <th>Confidence</th>\n",
       "    </tr>\n",
       "  </thead>\n",
       "  <tbody>\n",
       "    <tr>\n",
       "      <th>0</th>\n",
       "      <td>ID00419637202311204720264_-12</td>\n",
       "      <td>3001.948730</td>\n",
       "      <td>278.244873</td>\n",
       "    </tr>\n",
       "    <tr>\n",
       "      <th>1</th>\n",
       "      <td>ID00419637202311204720264_-11</td>\n",
       "      <td>2998.301270</td>\n",
       "      <td>278.830566</td>\n",
       "    </tr>\n",
       "    <tr>\n",
       "      <th>2</th>\n",
       "      <td>ID00419637202311204720264_-10</td>\n",
       "      <td>2994.658936</td>\n",
       "      <td>279.420410</td>\n",
       "    </tr>\n",
       "    <tr>\n",
       "      <th>3</th>\n",
       "      <td>ID00419637202311204720264_-9</td>\n",
       "      <td>2991.000000</td>\n",
       "      <td>280.012207</td>\n",
       "    </tr>\n",
       "    <tr>\n",
       "      <th>4</th>\n",
       "      <td>ID00419637202311204720264_-8</td>\n",
       "      <td>2987.340332</td>\n",
       "      <td>280.611572</td>\n",
       "    </tr>\n",
       "  </tbody>\n",
       "</table>\n",
       "</div>"
      ],
      "text/plain": [
       "                    Patient_Week          FVC  Confidence\n",
       "0  ID00419637202311204720264_-12  3001.948730  278.244873\n",
       "1  ID00419637202311204720264_-11  2998.301270  278.830566\n",
       "2  ID00419637202311204720264_-10  2994.658936  279.420410\n",
       "3   ID00419637202311204720264_-9  2991.000000  280.012207\n",
       "4   ID00419637202311204720264_-8  2987.340332  280.611572"
      ]
     },
     "execution_count": 16,
     "metadata": {},
     "output_type": "execute_result"
    }
   ],
   "source": [
    "Patient_Week,FVC,Confidence = [],[],[]\n",
    "for idx,vp,sp in zip(idxs,vps,sps):\n",
    "    for i,w in enumerate(weeks):\n",
    "        Patient_Week.append(idx+'_'+str(w))\n",
    "        FVC.append(vp[i].item())\n",
    "        Confidence.append(sp[i].item())\n",
    "\n",
    "df2 = pd.DataFrame({'Patient_Week':Patient_Week,'FVC':FVC,'Confidence':Confidence})\n",
    "df2.to_csv('submission2.csv', index=False)\n",
    "df2.head()"
   ]
  },
  {
   "cell_type": "code",
   "execution_count": 17,
   "metadata": {
    "execution": {
     "iopub.execute_input": "2020-10-06T20:49:03.328689Z",
     "iopub.status.busy": "2020-10-06T20:49:03.327780Z",
     "iopub.status.idle": "2020-10-06T20:49:04.532803Z",
     "shell.execute_reply": "2020-10-06T20:49:04.531461Z"
    },
    "papermill": {
     "duration": 1.281213,
     "end_time": "2020-10-06T20:49:04.532948",
     "exception": false,
     "start_time": "2020-10-06T20:49:03.251735",
     "status": "completed"
    },
    "tags": []
   },
   "outputs": [],
   "source": [
    "import numpy as np\n",
    "import pandas as pd\n",
    "\n",
    "import matplotlib.pyplot as plt\n",
    "import seaborn as sns"
   ]
  },
  {
   "cell_type": "code",
   "execution_count": 18,
   "metadata": {
    "execution": {
     "iopub.execute_input": "2020-10-06T20:49:04.682504Z",
     "iopub.status.busy": "2020-10-06T20:49:04.681429Z",
     "iopub.status.idle": "2020-10-06T20:49:04.703804Z",
     "shell.execute_reply": "2020-10-06T20:49:04.703149Z"
    },
    "papermill": {
     "duration": 0.1007,
     "end_time": "2020-10-06T20:49:04.703983",
     "exception": false,
     "start_time": "2020-10-06T20:49:04.603283",
     "status": "completed"
    },
    "tags": []
   },
   "outputs": [
    {
     "name": "stdout",
     "output_type": "stream",
     "text": [
      "Train shape:  (1549, 7)\n",
      "Number of unique customers in train: 176\n",
      "Test shape: (5, 7)\n"
     ]
    }
   ],
   "source": [
    "df_train = pd.read_csv('../input/osic-pulmonary-fibrosis-progression/train.csv')\n",
    "df_test = pd.read_csv('../input/osic-pulmonary-fibrosis-progression/test.csv')\n",
    "sub = pd.read_csv('../input/osic-pulmonary-fibrosis-progression/sample_submission.csv')\n",
    "\n",
    "print('Train shape: ', df_train.shape)\n",
    "print('Number of unique customers in train: {}'.format(df_train['Patient'].nunique()))\n",
    "print('Test shape:', df_test.shape)"
   ]
  },
  {
   "cell_type": "code",
   "execution_count": 19,
   "metadata": {
    "execution": {
     "iopub.execute_input": "2020-10-06T20:49:04.863868Z",
     "iopub.status.busy": "2020-10-06T20:49:04.862705Z",
     "iopub.status.idle": "2020-10-06T20:49:04.917818Z",
     "shell.execute_reply": "2020-10-06T20:49:04.918427Z"
    },
    "papermill": {
     "duration": 0.144797,
     "end_time": "2020-10-06T20:49:04.918602",
     "exception": false,
     "start_time": "2020-10-06T20:49:04.773805",
     "status": "completed"
    },
    "tags": []
   },
   "outputs": [
    {
     "name": "stdout",
     "output_type": "stream",
     "text": [
      "/!\\ Missing columns in test:  ['Sex_Female' 'SmokingStatus_Currently smokes']\n"
     ]
    }
   ],
   "source": [
    "df_base = df_train.drop_duplicates(subset='Patient', keep='first')\n",
    "df_base = df_base[['Patient', 'Weeks', 'FVC', \n",
    "                   'Percent', 'Age']].rename(columns={'Weeks': 'base_week',\n",
    "                                                      'Percent': 'base_percent',\n",
    "                                                      'Age': 'base_age',\n",
    "                                                      'FVC': 'base_FVC'})\n",
    "df_train['visit'] = 1\n",
    "df_train['visit'] = df_train[['Patient', 'visit']].groupby('Patient').cumsum()\n",
    "df_train = df_train.loc[df_train['visit'] > 1, :]\n",
    "df_train = pd.merge(df_train,\n",
    "                    df_base,\n",
    "                    on='Patient',\n",
    "                    how='left')\n",
    "df_train['weeks_passed'] = df_train['Weeks'] - df_train['base_week']\n",
    "df_train = pd.get_dummies(df_train, columns=['Sex', 'SmokingStatus'])\n",
    "\n",
    "sub['Patient'] = sub['Patient_Week'].apply(lambda x: x.split('_')[0])\n",
    "sub['Weeks'] = sub['Patient_Week'].apply(lambda x: x.split('_')[1]).astype(int)\n",
    "df_test = df_test.rename(columns={'Weeks': 'base_week', \n",
    "                                  'Percent': 'base_percent',\n",
    "                                  'Age': 'base_age',\n",
    "                                  'FVC': 'base_FVC'})\n",
    "df_test = pd.merge(sub,\n",
    "                   df_test,\n",
    "                   on='Patient',\n",
    "                   how='right')\n",
    "df_test = pd.get_dummies(df_test, columns=['Sex', 'SmokingStatus'])\n",
    "df_test['weeks_passed'] = df_test['Weeks'] - df_test['base_week']\n",
    "\n",
    "missing_columns = np.setdiff1d(df_train.drop(['Patient', 'FVC', 'Percent', 'Age', 'visit'], axis = 1).columns, df_test.columns)\n",
    "if len(missing_columns) > 0:\n",
    "    print('/!\\ Missing columns in test: ', missing_columns)\n",
    "    for col in missing_columns:\n",
    "        df_test[col] = 0"
   ]
  },
  {
   "cell_type": "code",
   "execution_count": 20,
   "metadata": {
    "execution": {
     "iopub.execute_input": "2020-10-06T20:49:05.096170Z",
     "iopub.status.busy": "2020-10-06T20:49:05.076076Z",
     "iopub.status.idle": "2020-10-06T20:49:05.340149Z",
     "shell.execute_reply": "2020-10-06T20:49:05.339445Z"
    },
    "papermill": {
     "duration": 0.349731,
     "end_time": "2020-10-06T20:49:05.340289",
     "exception": false,
     "start_time": "2020-10-06T20:49:04.990558",
     "status": "completed"
    },
    "tags": []
   },
   "outputs": [],
   "source": [
    "def OSIC_metric(y_true, y_pred, y_pred_std):\n",
    "    delta = np.clip(abs(y_true - y_pred), 0, 1000)\n",
    "    std_clipped = np.clip(y_pred_std, 70, np.inf)\n",
    "    return np.mean(-(np.sqrt(2)*delta/std_clipped) - np.log(np.sqrt(2)*std_clipped))\n",
    "\n",
    "def RandomGroupKFold_split(groups, n, seed=None):\n",
    "    \"\"\"\n",
    "    Random analogous of sklearn.model_selection.GroupKFold.split.\n",
    "\n",
    "    :return: list of (train, test) indices\n",
    "    \"\"\"\n",
    "    groups = pd.Series(groups)\n",
    "    ix = np.arange(len(groups))\n",
    "    unique = np.unique(groups)\n",
    "    np.random.RandomState(seed).shuffle(unique)\n",
    "    result = []\n",
    "    for split in np.array_split(unique, n):\n",
    "        mask = groups.isin(split)\n",
    "        train, test = ix[~mask], ix[mask]\n",
    "        result.append((train, test))\n",
    "\n",
    "    return result\n",
    "\n",
    "from sklearn.model_selection import GroupKFold\n",
    "from sklearn.metrics import mean_squared_error\n",
    "from sklearn.linear_model import BayesianRidge\n",
    "\n",
    "class ModelB():\n",
    "    def __init__(self, model=BayesianRidge(), n_splits=4, seed=2020):\n",
    "        self.regressor = model\n",
    "        self.n_splits = n_splits\n",
    "        self.seed = seed\n",
    "        #self.gkf = GroupShuffleSplit(n_splits=n_splits, random_state=seed)\n",
    "        #self.gkf = GroupKFold(n_splits=n_splits)\n",
    "        self.train_cols = ['Weeks', 'base_week', 'base_FVC', \n",
    "                           'base_percent', 'base_age', 'weeks_passed', 'Sex_Female',\n",
    "                           'Sex_Male', 'SmokingStatus_Currently smokes', \n",
    "                           'SmokingStatus_Ex-smoker', 'SmokingStatus_Never smoked']\n",
    "    \n",
    "    def fit(self, X, y):\n",
    "        self.regressor.fit(X, y)\n",
    "            \n",
    "    def predict(self, X):\n",
    "        pred = self.regressor.predict(X, return_std=True)        \n",
    "        return pred\n",
    "    \n",
    "    def fit_predict_cv(self, df, df_test=pd.DataFrame()):\n",
    "        \n",
    "        scores = np.zeros((self.n_splits, ))\n",
    "        oof = np.zeros((len(df), ))\n",
    "        oof_std = np.zeros_like(oof)\n",
    "        \n",
    "        if len(df_test) > 0:\n",
    "            pred_sub = np.zeros((len(df_test), self.n_splits))\n",
    "            pred_sub_std = np.zeros_like(pred_sub)\n",
    "        \n",
    "        target = 'FVC'\n",
    "        \n",
    "        #for i, (train_idx, val_idx) in enumerate(self.gkf.split(df, groups=df['Patient'])):\n",
    "        for i, (train_idx, val_idx) in enumerate(RandomGroupKFold_split(df['Patient'],self.n_splits,self.seed)):\n",
    "            X_train = df.loc[train_idx, self.train_cols]\n",
    "            y_train = df.loc[train_idx, target]\n",
    "            X_val = df.loc[val_idx, self.train_cols]\n",
    "            y_val = df.loc[val_idx, target]\n",
    "            \n",
    "            self.fit(X_train, y_train)\n",
    "            \n",
    "            pred_train, pred_train_std = self.predict(X_train)\n",
    "            pred_val, pred_val_std = self.predict(X_val)\n",
    "            \n",
    "            if len(df_test) > 0:\n",
    "                pred_sub[:, i], pred_sub_std[:, i] = self.predict(df_test[self.train_cols])\n",
    "            \n",
    "            oof[val_idx] = pred_val\n",
    "            oof_std[val_idx] = pred_val_std\n",
    "            print('Train score: {0:.2f} | Test score: {1:.2f}'.format(OSIC_metric(y_train, pred_train, pred_train_std),\n",
    "                                                                    OSIC_metric(y_val, pred_val, pred_val_std)))\n",
    "        print('OOF score: {0:.4f}'.format(OSIC_metric(df[target], oof, oof_std)))\n",
    "        res = dict()\n",
    "        res['oof'] = oof\n",
    "        res['oof_std'] = oof_std\n",
    "        \n",
    "        if len(df_test) > 0:\n",
    "            res['pred_sub'] = pred_sub.mean(axis=1)\n",
    "            res['pred_sub_std'] = pred_sub_std.mean(axis=1)\n",
    "        \n",
    "        return res"
   ]
  },
  {
   "cell_type": "code",
   "execution_count": 21,
   "metadata": {
    "execution": {
     "iopub.execute_input": "2020-10-06T20:49:05.498393Z",
     "iopub.status.busy": "2020-10-06T20:49:05.497186Z",
     "iopub.status.idle": "2020-10-06T20:49:07.063568Z",
     "shell.execute_reply": "2020-10-06T20:49:07.062819Z"
    },
    "papermill": {
     "duration": 1.652774,
     "end_time": "2020-10-06T20:49:07.063729",
     "exception": false,
     "start_time": "2020-10-06T20:49:05.410955",
     "status": "completed"
    },
    "tags": []
   },
   "outputs": [
    {
     "name": "stdout",
     "output_type": "stream",
     "text": [
      "Train score: -6.76 | Test score: -6.87\n",
      "Train score: -6.80 | Test score: -6.74\n",
      "Train score: -6.78 | Test score: -6.82\n",
      "Train score: -6.79 | Test score: -6.78\n",
      "OOF score: -6.8021\n",
      "Train score: -6.77 | Test score: -6.83\n",
      "Train score: -6.80 | Test score: -6.73\n",
      "Train score: -6.81 | Test score: -6.76\n",
      "Train score: -6.75 | Test score: -6.90\n",
      "OOF score: -6.8035\n",
      "Train score: -6.81 | Test score: -6.74\n",
      "Train score: -6.81 | Test score: -6.74\n",
      "Train score: -6.77 | Test score: -6.83\n",
      "Train score: -6.74 | Test score: -6.94\n",
      "OOF score: -6.8123\n",
      "Train score: -6.79 | Test score: -6.79\n",
      "Train score: -6.80 | Test score: -6.78\n",
      "Train score: -6.76 | Test score: -6.85\n",
      "Train score: -6.79 | Test score: -6.82\n",
      "OOF score: -6.8075\n",
      "Train score: -6.76 | Test score: -6.84\n",
      "Train score: -6.81 | Test score: -6.72\n",
      "Train score: -6.78 | Test score: -6.80\n",
      "Train score: -6.79 | Test score: -6.83\n",
      "OOF score: -6.7978\n",
      "Train score: -6.80 | Test score: -6.81\n",
      "Train score: -6.82 | Test score: -6.69\n",
      "Train score: -6.75 | Test score: -6.91\n",
      "Train score: -6.76 | Test score: -6.86\n",
      "OOF score: -6.8167\n",
      "Train score: -6.78 | Test score: -6.82\n",
      "Train score: -6.73 | Test score: -6.95\n",
      "Train score: -6.79 | Test score: -6.82\n",
      "Train score: -6.83 | Test score: -6.67\n",
      "OOF score: -6.8140\n",
      "Train score: -6.79 | Test score: -6.78\n",
      "Train score: -6.79 | Test score: -6.80\n",
      "Train score: -6.75 | Test score: -6.87\n",
      "Train score: -6.81 | Test score: -6.75\n",
      "OOF score: -6.8020\n",
      "Train score: -6.75 | Test score: -6.89\n",
      "Train score: -6.83 | Test score: -6.68\n",
      "Train score: -6.79 | Test score: -6.79\n",
      "Train score: -6.77 | Test score: -6.88\n",
      "OOF score: -6.8106\n",
      "Train score: -6.80 | Test score: -6.74\n",
      "Train score: -6.78 | Test score: -6.80\n",
      "Train score: -6.82 | Test score: -6.70\n",
      "Train score: -6.74 | Test score: -6.98\n",
      "OOF score: -6.8052\n"
     ]
    }
   ],
   "source": [
    "nfolds = 4\n",
    "SEEDS = [2020,43,28,24,777,2019,23,17,48,11]\n",
    "fvc_models = [ModelB(n_splits=nfolds,seed=s) for s in SEEDS]\n",
    "res = [m.fit_predict_cv(df_train, df_test) for m in fvc_models]\n",
    "res = {'oof':np.stack([r['oof'] for r in res],1).mean(1),'oof_std':np.stack([r['oof_std'] for r in res],1).mean(1),\n",
    " 'pred_sub':np.stack([r['pred_sub'] for r in res],1).mean(1),'pred_sub_std':np.stack([r['pred_sub_std'] for r in res],1).mean(1)}"
   ]
  },
  {
   "cell_type": "code",
   "execution_count": 22,
   "metadata": {
    "execution": {
     "iopub.execute_input": "2020-10-06T20:49:07.236627Z",
     "iopub.status.busy": "2020-10-06T20:49:07.230726Z",
     "iopub.status.idle": "2020-10-06T20:49:07.272785Z",
     "shell.execute_reply": "2020-10-06T20:49:07.271735Z"
    },
    "papermill": {
     "duration": 0.126054,
     "end_time": "2020-10-06T20:49:07.273007",
     "exception": false,
     "start_time": "2020-10-06T20:49:07.146953",
     "status": "completed"
    },
    "tags": []
   },
   "outputs": [
    {
     "data": {
      "text/html": [
       "<div>\n",
       "<style scoped>\n",
       "    .dataframe tbody tr th:only-of-type {\n",
       "        vertical-align: middle;\n",
       "    }\n",
       "\n",
       "    .dataframe tbody tr th {\n",
       "        vertical-align: top;\n",
       "    }\n",
       "\n",
       "    .dataframe thead th {\n",
       "        text-align: right;\n",
       "    }\n",
       "</style>\n",
       "<table border=\"1\" class=\"dataframe\">\n",
       "  <thead>\n",
       "    <tr style=\"text-align: right;\">\n",
       "      <th></th>\n",
       "      <th>Patient_Week</th>\n",
       "      <th>FVC</th>\n",
       "      <th>Confidence</th>\n",
       "    </tr>\n",
       "  </thead>\n",
       "  <tbody>\n",
       "    <tr>\n",
       "      <th>0</th>\n",
       "      <td>ID00419637202311204720264_-12</td>\n",
       "      <td>3017.378500</td>\n",
       "      <td>237.943976</td>\n",
       "    </tr>\n",
       "    <tr>\n",
       "      <th>1</th>\n",
       "      <td>ID00421637202311550012437_-12</td>\n",
       "      <td>2785.626231</td>\n",
       "      <td>236.901437</td>\n",
       "    </tr>\n",
       "    <tr>\n",
       "      <th>2</th>\n",
       "      <td>ID00422637202311677017371_-12</td>\n",
       "      <td>1968.935221</td>\n",
       "      <td>237.136944</td>\n",
       "    </tr>\n",
       "    <tr>\n",
       "      <th>3</th>\n",
       "      <td>ID00423637202312137826377_-12</td>\n",
       "      <td>3326.517063</td>\n",
       "      <td>238.398506</td>\n",
       "    </tr>\n",
       "    <tr>\n",
       "      <th>4</th>\n",
       "      <td>ID00426637202313170790466_-12</td>\n",
       "      <td>2899.881612</td>\n",
       "      <td>237.732488</td>\n",
       "    </tr>\n",
       "  </tbody>\n",
       "</table>\n",
       "</div>"
      ],
      "text/plain": [
       "                    Patient_Week          FVC  Confidence\n",
       "0  ID00419637202311204720264_-12  3017.378500  237.943976\n",
       "1  ID00421637202311550012437_-12  2785.626231  236.901437\n",
       "2  ID00422637202311677017371_-12  1968.935221  237.136944\n",
       "3  ID00423637202312137826377_-12  3326.517063  238.398506\n",
       "4  ID00426637202313170790466_-12  2899.881612  237.732488"
      ]
     },
     "execution_count": 22,
     "metadata": {},
     "output_type": "execute_result"
    }
   ],
   "source": [
    "df_test['FVC'] = res['pred_sub']\n",
    "df_test['Confidence'] = res['pred_sub_std']\n",
    "\n",
    "df3 = sub[['Patient_Week']]\n",
    "df3 = pd.merge(df3,\n",
    "                      df_test[['Patient_Week', 'FVC', 'Confidence']],\n",
    "                      on='Patient_Week',\n",
    "                      how='left')\n",
    "df3.to_csv('submission3.csv', index=False)\n",
    "df3.head()"
   ]
  },
  {
   "cell_type": "code",
   "execution_count": null,
   "metadata": {
    "papermill": {
     "duration": 0.132946,
     "end_time": "2020-10-06T20:49:07.537233",
     "exception": false,
     "start_time": "2020-10-06T20:49:07.404287",
     "status": "completed"
    },
    "tags": []
   },
   "outputs": [],
   "source": []
  },
  {
   "cell_type": "code",
   "execution_count": 23,
   "metadata": {
    "execution": {
     "iopub.execute_input": "2020-10-06T20:49:07.799702Z",
     "iopub.status.busy": "2020-10-06T20:49:07.798588Z",
     "iopub.status.idle": "2020-10-06T20:49:14.865711Z",
     "shell.execute_reply": "2020-10-06T20:49:14.864498Z"
    },
    "papermill": {
     "duration": 7.207141,
     "end_time": "2020-10-06T20:49:14.865857",
     "exception": false,
     "start_time": "2020-10-06T20:49:07.658716",
     "status": "completed"
    },
    "tags": []
   },
   "outputs": [],
   "source": [
    "import numpy as np\n",
    "import pandas as pd\n",
    "import pydicom\n",
    "import os\n",
    "import random\n",
    "import matplotlib.pyplot as plt\n",
    "from tqdm import tqdm\n",
    "from PIL import Image\n",
    "from sklearn.metrics import mean_absolute_error\n",
    "from sklearn.model_selection import KFold\n",
    "\n",
    "import tensorflow as tf\n",
    "import tensorflow.keras.backend as K\n",
    "import tensorflow.keras.layers as L\n",
    "import tensorflow.keras.models as M\n",
    "import random\n",
    "from tensorflow import keras\n",
    "import torch"
   ]
  },
  {
   "cell_type": "code",
   "execution_count": 24,
   "metadata": {
    "execution": {
     "iopub.execute_input": "2020-10-06T20:49:15.025664Z",
     "iopub.status.busy": "2020-10-06T20:49:15.024436Z",
     "iopub.status.idle": "2020-10-06T20:49:15.027731Z",
     "shell.execute_reply": "2020-10-06T20:49:15.028402Z"
    },
    "papermill": {
     "duration": 0.086651,
     "end_time": "2020-10-06T20:49:15.028582",
     "exception": false,
     "start_time": "2020-10-06T20:49:14.941931",
     "status": "completed"
    },
    "tags": []
   },
   "outputs": [],
   "source": [
    "def seed_everything(seed=2020):\n",
    "    random.seed(seed)\n",
    "    os.environ['PYTHONHASHSEED'] = str(seed)\n",
    "    np.random.seed(seed)\n",
    "    tf.random.set_seed(seed)\n",
    "    \n",
    "seed_everything(42)"
   ]
  },
  {
   "cell_type": "code",
   "execution_count": 25,
   "metadata": {
    "execution": {
     "iopub.execute_input": "2020-10-06T20:49:15.184937Z",
     "iopub.status.busy": "2020-10-06T20:49:15.184213Z",
     "iopub.status.idle": "2020-10-06T20:49:15.189413Z",
     "shell.execute_reply": "2020-10-06T20:49:15.188573Z"
    },
    "papermill": {
     "duration": 0.085638,
     "end_time": "2020-10-06T20:49:15.189572",
     "exception": false,
     "start_time": "2020-10-06T20:49:15.103934",
     "status": "completed"
    },
    "tags": []
   },
   "outputs": [],
   "source": [
    "ROOT = \"../input/osic-pulmonary-fibrosis-progression\"\n",
    "BATCH_SIZE=128"
   ]
  },
  {
   "cell_type": "code",
   "execution_count": 26,
   "metadata": {
    "execution": {
     "iopub.execute_input": "2020-10-06T20:49:15.365593Z",
     "iopub.status.busy": "2020-10-06T20:49:15.364523Z",
     "iopub.status.idle": "2020-10-06T20:49:16.183013Z",
     "shell.execute_reply": "2020-10-06T20:49:16.181904Z"
    },
    "papermill": {
     "duration": 0.917739,
     "end_time": "2020-10-06T20:49:16.183232",
     "exception": false,
     "start_time": "2020-10-06T20:49:15.265493",
     "status": "completed"
    },
    "tags": []
   },
   "outputs": [
    {
     "name": "stdout",
     "output_type": "stream",
     "text": [
      "185\n",
      "18\n",
      "185\n",
      "185\n",
      "18\n"
     ]
    },
    {
     "data": {
      "text/html": [
       "<div>\n",
       "<style scoped>\n",
       "    .dataframe tbody tr th:only-of-type {\n",
       "        vertical-align: middle;\n",
       "    }\n",
       "\n",
       "    .dataframe tbody tr th {\n",
       "        vertical-align: top;\n",
       "    }\n",
       "\n",
       "    .dataframe thead th {\n",
       "        text-align: right;\n",
       "    }\n",
       "</style>\n",
       "<table border=\"1\" class=\"dataframe\">\n",
       "  <thead>\n",
       "    <tr style=\"text-align: right;\">\n",
       "      <th></th>\n",
       "      <th>Patient</th>\n",
       "      <th>n_dicom</th>\n",
       "      <th>list_dicom</th>\n",
       "    </tr>\n",
       "  </thead>\n",
       "  <tbody>\n",
       "    <tr>\n",
       "      <th>0</th>\n",
       "      <td>ID00422637202311677017371</td>\n",
       "      <td>473</td>\n",
       "      <td>[1, 2, 3, 4, 5, 6, 7, 8, 9, 10, 11, 12, 13, 14...</td>\n",
       "    </tr>\n",
       "    <tr>\n",
       "      <th>1</th>\n",
       "      <td>ID00421637202311550012437</td>\n",
       "      <td>62</td>\n",
       "      <td>[1, 2, 3, 4, 5, 6, 7, 8, 9, 10, 11, 12, 13, 14...</td>\n",
       "    </tr>\n",
       "    <tr>\n",
       "      <th>2</th>\n",
       "      <td>ID00426637202313170790466</td>\n",
       "      <td>408</td>\n",
       "      <td>[1, 2, 3, 4, 5, 6, 7, 8, 9, 10, 11, 12, 13, 14...</td>\n",
       "    </tr>\n",
       "    <tr>\n",
       "      <th>3</th>\n",
       "      <td>ID00423637202312137826377</td>\n",
       "      <td>290</td>\n",
       "      <td>[1, 2, 3, 4, 5, 6, 7, 8, 9, 10, 11, 12, 13, 14...</td>\n",
       "    </tr>\n",
       "    <tr>\n",
       "      <th>4</th>\n",
       "      <td>ID00419637202311204720264</td>\n",
       "      <td>28</td>\n",
       "      <td>[1, 2, 3, 4, 5, 6, 7, 8, 9, 10, 11, 12, 13, 14...</td>\n",
       "    </tr>\n",
       "  </tbody>\n",
       "</table>\n",
       "</div>"
      ],
      "text/plain": [
       "                     Patient  n_dicom  \\\n",
       "0  ID00422637202311677017371      473   \n",
       "1  ID00421637202311550012437       62   \n",
       "2  ID00426637202313170790466      408   \n",
       "3  ID00423637202312137826377      290   \n",
       "4  ID00419637202311204720264       28   \n",
       "\n",
       "                                          list_dicom  \n",
       "0  [1, 2, 3, 4, 5, 6, 7, 8, 9, 10, 11, 12, 13, 14...  \n",
       "1  [1, 2, 3, 4, 5, 6, 7, 8, 9, 10, 11, 12, 13, 14...  \n",
       "2  [1, 2, 3, 4, 5, 6, 7, 8, 9, 10, 11, 12, 13, 14...  \n",
       "3  [1, 2, 3, 4, 5, 6, 7, 8, 9, 10, 11, 12, 13, 14...  \n",
       "4  [1, 2, 3, 4, 5, 6, 7, 8, 9, 10, 11, 12, 13, 14...  "
      ]
     },
     "execution_count": 26,
     "metadata": {},
     "output_type": "execute_result"
    }
   ],
   "source": [
    "import scipy.ndimage as ndimage\n",
    "from scipy.ndimage import zoom\n",
    "from scipy.stats import kurtosis\n",
    "from scipy.stats import skew\n",
    "\n",
    "import glob\n",
    "from skimage import measure, morphology, segmentation\n",
    "from mpl_toolkits.mplot3d.art3d import Poly3DCollection\n",
    "#import gdcm\n",
    "import pydicom\n",
    "from pydicom.tag import Tag\n",
    "\n",
    "dicom_root_path = '../input/osic-pulmonary-fibrosis-progression/test/'\n",
    "Patients_id = os.listdir(dicom_root_path)\n",
    "n_dicom_dict = {\"Patient\":[],\"n_dicom\":[],\"list_dicom\":[]}\n",
    "\n",
    "for Patient_id in Patients_id:\n",
    "    dicom_id_path = glob.glob(dicom_root_path + Patient_id + \"/*\")\n",
    "    print(dicom_id_path[0].split(\"/\")[-1][:-4])\n",
    "    n_dicom_dict[\"n_dicom\"].append(len(dicom_id_path))\n",
    "    n_dicom_dict[\"Patient\"].append(Patient_id)\n",
    "    list_dicom_id = sorted([int(i.split(\"/\")[-1][:-4]) for i in dicom_id_path])\n",
    "    n_dicom_dict[\"list_dicom\"].append(list_dicom_id)\n",
    "\n",
    "dicom_pd = pd.DataFrame(n_dicom_dict)\n",
    "dicom_pd.head()\n",
    "#dicom_pd['resize_type'] = 'no'"
   ]
  },
  {
   "cell_type": "code",
   "execution_count": 27,
   "metadata": {
    "execution": {
     "iopub.execute_input": "2020-10-06T20:49:16.395418Z",
     "iopub.status.busy": "2020-10-06T20:49:16.394613Z",
     "iopub.status.idle": "2020-10-06T20:49:16.425999Z",
     "shell.execute_reply": "2020-10-06T20:49:16.424898Z"
    },
    "papermill": {
     "duration": 0.145046,
     "end_time": "2020-10-06T20:49:16.426186",
     "exception": false,
     "start_time": "2020-10-06T20:49:16.281140",
     "status": "completed"
    },
    "tags": []
   },
   "outputs": [],
   "source": [
    "dicom_pd['height'],dicom_pd['width'] = -1,-1\n",
    "for Patient_id in Patients_id:\n",
    "    dicom_id_path = glob.glob(dicom_root_path + Patient_id + \"/*\")\n",
    "    for patient_dicom_id_path in dicom_id_path:\n",
    "        dicom = pydicom.dcmread(patient_dicom_id_path)\n",
    "        dicom_pd.loc[dicom_pd.Patient==Patient_id,'height'] = dicom.Rows\n",
    "        dicom_pd.loc[dicom_pd.Patient==Patient_id,'width'] = dicom.Columns\n",
    "        break"
   ]
  },
  {
   "cell_type": "code",
   "execution_count": 28,
   "metadata": {
    "execution": {
     "iopub.execute_input": "2020-10-06T20:49:16.617221Z",
     "iopub.status.busy": "2020-10-06T20:49:16.616007Z",
     "iopub.status.idle": "2020-10-06T20:49:16.620639Z",
     "shell.execute_reply": "2020-10-06T20:49:16.621320Z"
    },
    "papermill": {
     "duration": 0.118177,
     "end_time": "2020-10-06T20:49:16.621487",
     "exception": false,
     "start_time": "2020-10-06T20:49:16.503310",
     "status": "completed"
    },
    "tags": []
   },
   "outputs": [
    {
     "data": {
      "text/html": [
       "<div>\n",
       "<style scoped>\n",
       "    .dataframe tbody tr th:only-of-type {\n",
       "        vertical-align: middle;\n",
       "    }\n",
       "\n",
       "    .dataframe tbody tr th {\n",
       "        vertical-align: top;\n",
       "    }\n",
       "\n",
       "    .dataframe thead th {\n",
       "        text-align: right;\n",
       "    }\n",
       "</style>\n",
       "<table border=\"1\" class=\"dataframe\">\n",
       "  <thead>\n",
       "    <tr style=\"text-align: right;\">\n",
       "      <th></th>\n",
       "      <th>Patient</th>\n",
       "      <th>n_dicom</th>\n",
       "      <th>list_dicom</th>\n",
       "      <th>height</th>\n",
       "      <th>width</th>\n",
       "    </tr>\n",
       "  </thead>\n",
       "  <tbody>\n",
       "    <tr>\n",
       "      <th>0</th>\n",
       "      <td>ID00421637202311550012437</td>\n",
       "      <td>62</td>\n",
       "      <td>[1, 2, 3, 4, 5, 6, 7, 8, 9, 10, 11, 12, 13, 14...</td>\n",
       "      <td>768</td>\n",
       "      <td>768</td>\n",
       "    </tr>\n",
       "    <tr>\n",
       "      <th>1</th>\n",
       "      <td>ID00419637202311204720264</td>\n",
       "      <td>28</td>\n",
       "      <td>[1, 2, 3, 4, 5, 6, 7, 8, 9, 10, 11, 12, 13, 14...</td>\n",
       "      <td>1100</td>\n",
       "      <td>888</td>\n",
       "    </tr>\n",
       "  </tbody>\n",
       "</table>\n",
       "</div>"
      ],
      "text/plain": [
       "                     Patient  n_dicom  \\\n",
       "0  ID00421637202311550012437       62   \n",
       "1  ID00419637202311204720264       28   \n",
       "\n",
       "                                          list_dicom  height  width  \n",
       "0  [1, 2, 3, 4, 5, 6, 7, 8, 9, 10, 11, 12, 13, 14...     768    768  \n",
       "1  [1, 2, 3, 4, 5, 6, 7, 8, 9, 10, 11, 12, 13, 14...    1100    888  "
      ]
     },
     "execution_count": 28,
     "metadata": {},
     "output_type": "execute_result"
    }
   ],
   "source": [
    "reshape_dicom_pd = dicom_pd.loc[(dicom_pd.height!=512) | (dicom_pd.width!=512),:]\n",
    "reshape_dicom_pd = reshape_dicom_pd.reset_index(drop=True)\n",
    "reshape_dicom_pd.head()"
   ]
  },
  {
   "cell_type": "code",
   "execution_count": 29,
   "metadata": {
    "execution": {
     "iopub.execute_input": "2020-10-06T20:49:16.814555Z",
     "iopub.status.busy": "2020-10-06T20:49:16.813306Z",
     "iopub.status.idle": "2020-10-06T20:49:16.817202Z",
     "shell.execute_reply": "2020-10-06T20:49:16.816524Z"
    },
    "papermill": {
     "duration": 0.104842,
     "end_time": "2020-10-06T20:49:16.817347",
     "exception": false,
     "start_time": "2020-10-06T20:49:16.712505",
     "status": "completed"
    },
    "tags": []
   },
   "outputs": [],
   "source": [
    "crop_id = ['ID00240637202264138860065','ID00122637202216437668965','ID00086637202203494931510',\n",
    "            'ID00419637202311204720264','ID00014637202177757139317','ID00094637202205333947361',\n",
    "            'ID00067637202189903532242',]\n",
    "reshape_dicom_pd['resize_type'] = 'resize'\n",
    "reshape_dicom_pd.loc[reshape_dicom_pd.Patient.isin(crop_id),'resize_type'] = 'crop'"
   ]
  },
  {
   "cell_type": "code",
   "execution_count": 30,
   "metadata": {
    "execution": {
     "iopub.execute_input": "2020-10-06T20:49:17.010683Z",
     "iopub.status.busy": "2020-10-06T20:49:17.009574Z",
     "iopub.status.idle": "2020-10-06T20:49:17.086529Z",
     "shell.execute_reply": "2020-10-06T20:49:17.087210Z"
    },
    "papermill": {
     "duration": 0.180082,
     "end_time": "2020-10-06T20:49:17.087382",
     "exception": false,
     "start_time": "2020-10-06T20:49:16.907300",
     "status": "completed"
    },
    "tags": []
   },
   "outputs": [
    {
     "data": {
      "text/html": [
       "<div>\n",
       "<style scoped>\n",
       "    .dataframe tbody tr th:only-of-type {\n",
       "        vertical-align: middle;\n",
       "    }\n",
       "\n",
       "    .dataframe tbody tr th {\n",
       "        vertical-align: top;\n",
       "    }\n",
       "\n",
       "    .dataframe thead th {\n",
       "        text-align: right;\n",
       "    }\n",
       "</style>\n",
       "<table border=\"1\" class=\"dataframe\">\n",
       "  <thead>\n",
       "    <tr style=\"text-align: right;\">\n",
       "      <th></th>\n",
       "      <th>Patient</th>\n",
       "      <th>n_dicom</th>\n",
       "      <th>list_dicom</th>\n",
       "      <th>height</th>\n",
       "      <th>width</th>\n",
       "      <th>Weeks</th>\n",
       "      <th>FVC</th>\n",
       "      <th>Percent</th>\n",
       "      <th>Age</th>\n",
       "      <th>Sex</th>\n",
       "      <th>SmokingStatus</th>\n",
       "    </tr>\n",
       "  </thead>\n",
       "  <tbody>\n",
       "    <tr>\n",
       "      <th>0</th>\n",
       "      <td>ID00422637202311677017371</td>\n",
       "      <td>473</td>\n",
       "      <td>[1, 2, 3, 4, 5, 6, 7, 8, 9, 10, 11, 12, 13, 14...</td>\n",
       "      <td>512</td>\n",
       "      <td>512</td>\n",
       "      <td>6</td>\n",
       "      <td>1930</td>\n",
       "      <td>76.672493</td>\n",
       "      <td>73</td>\n",
       "      <td>Male</td>\n",
       "      <td>Ex-smoker</td>\n",
       "    </tr>\n",
       "    <tr>\n",
       "      <th>1</th>\n",
       "      <td>ID00421637202311550012437</td>\n",
       "      <td>62</td>\n",
       "      <td>[1, 2, 3, 4, 5, 6, 7, 8, 9, 10, 11, 12, 13, 14...</td>\n",
       "      <td>768</td>\n",
       "      <td>768</td>\n",
       "      <td>15</td>\n",
       "      <td>2739</td>\n",
       "      <td>82.045291</td>\n",
       "      <td>68</td>\n",
       "      <td>Male</td>\n",
       "      <td>Ex-smoker</td>\n",
       "    </tr>\n",
       "    <tr>\n",
       "      <th>2</th>\n",
       "      <td>ID00426637202313170790466</td>\n",
       "      <td>408</td>\n",
       "      <td>[1, 2, 3, 4, 5, 6, 7, 8, 9, 10, 11, 12, 13, 14...</td>\n",
       "      <td>512</td>\n",
       "      <td>512</td>\n",
       "      <td>0</td>\n",
       "      <td>2925</td>\n",
       "      <td>71.824968</td>\n",
       "      <td>73</td>\n",
       "      <td>Male</td>\n",
       "      <td>Never smoked</td>\n",
       "    </tr>\n",
       "    <tr>\n",
       "      <th>3</th>\n",
       "      <td>ID00423637202312137826377</td>\n",
       "      <td>290</td>\n",
       "      <td>[1, 2, 3, 4, 5, 6, 7, 8, 9, 10, 11, 12, 13, 14...</td>\n",
       "      <td>512</td>\n",
       "      <td>512</td>\n",
       "      <td>17</td>\n",
       "      <td>3294</td>\n",
       "      <td>79.258903</td>\n",
       "      <td>72</td>\n",
       "      <td>Male</td>\n",
       "      <td>Ex-smoker</td>\n",
       "    </tr>\n",
       "    <tr>\n",
       "      <th>4</th>\n",
       "      <td>ID00419637202311204720264</td>\n",
       "      <td>28</td>\n",
       "      <td>[1, 2, 3, 4, 5, 6, 7, 8, 9, 10, 11, 12, 13, 14...</td>\n",
       "      <td>1100</td>\n",
       "      <td>888</td>\n",
       "      <td>6</td>\n",
       "      <td>3020</td>\n",
       "      <td>70.186855</td>\n",
       "      <td>73</td>\n",
       "      <td>Male</td>\n",
       "      <td>Ex-smoker</td>\n",
       "    </tr>\n",
       "  </tbody>\n",
       "</table>\n",
       "</div>"
      ],
      "text/plain": [
       "                     Patient  n_dicom  \\\n",
       "0  ID00422637202311677017371      473   \n",
       "1  ID00421637202311550012437       62   \n",
       "2  ID00426637202313170790466      408   \n",
       "3  ID00423637202312137826377      290   \n",
       "4  ID00419637202311204720264       28   \n",
       "\n",
       "                                          list_dicom  height  width Weeks  \\\n",
       "0  [1, 2, 3, 4, 5, 6, 7, 8, 9, 10, 11, 12, 13, 14...     512    512     6   \n",
       "1  [1, 2, 3, 4, 5, 6, 7, 8, 9, 10, 11, 12, 13, 14...     768    768    15   \n",
       "2  [1, 2, 3, 4, 5, 6, 7, 8, 9, 10, 11, 12, 13, 14...     512    512     0   \n",
       "3  [1, 2, 3, 4, 5, 6, 7, 8, 9, 10, 11, 12, 13, 14...     512    512    17   \n",
       "4  [1, 2, 3, 4, 5, 6, 7, 8, 9, 10, 11, 12, 13, 14...    1100    888     6   \n",
       "\n",
       "    FVC    Percent Age   Sex SmokingStatus  \n",
       "0  1930  76.672493  73  Male     Ex-smoker  \n",
       "1  2739  82.045291  68  Male     Ex-smoker  \n",
       "2  2925  71.824968  73  Male  Never smoked  \n",
       "3  3294  79.258903  72  Male     Ex-smoker  \n",
       "4  3020  70.186855  73  Male     Ex-smoker  "
      ]
     },
     "execution_count": 30,
     "metadata": {},
     "output_type": "execute_result"
    }
   ],
   "source": [
    "train_pd = pd.read_csv('../input/osic-pulmonary-fibrosis-progression/test.csv')\n",
    "temp_pd = pd.DataFrame(columns=train_pd.columns)\n",
    "for i in range(len(dicom_pd)):\n",
    "    patient_pd = train_pd[train_pd.Patient==dicom_pd.iloc[i].Patient]\n",
    "    zeroweek = patient_pd['Weeks'].min()\n",
    "    #if sum(patient_pd.Weeks==zeroweek)>1:\n",
    "    #    print(pd.unique(patient_pd.Patient))\n",
    "    temp_pd = temp_pd.append(patient_pd[patient_pd.Weeks==zeroweek].iloc[0])\n",
    "dicom_pd = pd.merge(dicom_pd, temp_pd, on=['Patient'])\n",
    "dicom_pd.head()"
   ]
  },
  {
   "cell_type": "code",
   "execution_count": 31,
   "metadata": {
    "execution": {
     "iopub.execute_input": "2020-10-06T20:49:17.293822Z",
     "iopub.status.busy": "2020-10-06T20:49:17.292472Z",
     "iopub.status.idle": "2020-10-06T20:49:17.297482Z",
     "shell.execute_reply": "2020-10-06T20:49:17.298130Z"
    },
    "papermill": {
     "duration": 0.123484,
     "end_time": "2020-10-06T20:49:17.298296",
     "exception": false,
     "start_time": "2020-10-06T20:49:17.174812",
     "status": "completed"
    },
    "tags": []
   },
   "outputs": [
    {
     "data": {
      "text/html": [
       "<div>\n",
       "<style scoped>\n",
       "    .dataframe tbody tr th:only-of-type {\n",
       "        vertical-align: middle;\n",
       "    }\n",
       "\n",
       "    .dataframe tbody tr th {\n",
       "        vertical-align: top;\n",
       "    }\n",
       "\n",
       "    .dataframe thead th {\n",
       "        text-align: right;\n",
       "    }\n",
       "</style>\n",
       "<table border=\"1\" class=\"dataframe\">\n",
       "  <thead>\n",
       "    <tr style=\"text-align: right;\">\n",
       "      <th></th>\n",
       "      <th>Patient</th>\n",
       "      <th>n_dicom</th>\n",
       "      <th>list_dicom</th>\n",
       "      <th>height</th>\n",
       "      <th>width</th>\n",
       "      <th>Weeks</th>\n",
       "      <th>FVC</th>\n",
       "      <th>Percent</th>\n",
       "      <th>Age</th>\n",
       "      <th>Sex</th>\n",
       "      <th>SmokingStatus</th>\n",
       "      <th>resize_type</th>\n",
       "    </tr>\n",
       "  </thead>\n",
       "  <tbody>\n",
       "    <tr>\n",
       "      <th>0</th>\n",
       "      <td>ID00422637202311677017371</td>\n",
       "      <td>473</td>\n",
       "      <td>[1, 2, 3, 4, 5, 6, 7, 8, 9, 10, 11, 12, 13, 14...</td>\n",
       "      <td>512</td>\n",
       "      <td>512</td>\n",
       "      <td>6</td>\n",
       "      <td>1930</td>\n",
       "      <td>76.672493</td>\n",
       "      <td>73</td>\n",
       "      <td>Male</td>\n",
       "      <td>Ex-smoker</td>\n",
       "      <td>no</td>\n",
       "    </tr>\n",
       "    <tr>\n",
       "      <th>1</th>\n",
       "      <td>ID00421637202311550012437</td>\n",
       "      <td>62</td>\n",
       "      <td>[1, 2, 3, 4, 5, 6, 7, 8, 9, 10, 11, 12, 13, 14...</td>\n",
       "      <td>768</td>\n",
       "      <td>768</td>\n",
       "      <td>15</td>\n",
       "      <td>2739</td>\n",
       "      <td>82.045291</td>\n",
       "      <td>68</td>\n",
       "      <td>Male</td>\n",
       "      <td>Ex-smoker</td>\n",
       "      <td>resize</td>\n",
       "    </tr>\n",
       "    <tr>\n",
       "      <th>2</th>\n",
       "      <td>ID00426637202313170790466</td>\n",
       "      <td>408</td>\n",
       "      <td>[1, 2, 3, 4, 5, 6, 7, 8, 9, 10, 11, 12, 13, 14...</td>\n",
       "      <td>512</td>\n",
       "      <td>512</td>\n",
       "      <td>0</td>\n",
       "      <td>2925</td>\n",
       "      <td>71.824968</td>\n",
       "      <td>73</td>\n",
       "      <td>Male</td>\n",
       "      <td>Never smoked</td>\n",
       "      <td>no</td>\n",
       "    </tr>\n",
       "    <tr>\n",
       "      <th>3</th>\n",
       "      <td>ID00423637202312137826377</td>\n",
       "      <td>290</td>\n",
       "      <td>[1, 2, 3, 4, 5, 6, 7, 8, 9, 10, 11, 12, 13, 14...</td>\n",
       "      <td>512</td>\n",
       "      <td>512</td>\n",
       "      <td>17</td>\n",
       "      <td>3294</td>\n",
       "      <td>79.258903</td>\n",
       "      <td>72</td>\n",
       "      <td>Male</td>\n",
       "      <td>Ex-smoker</td>\n",
       "      <td>no</td>\n",
       "    </tr>\n",
       "    <tr>\n",
       "      <th>4</th>\n",
       "      <td>ID00419637202311204720264</td>\n",
       "      <td>28</td>\n",
       "      <td>[1, 2, 3, 4, 5, 6, 7, 8, 9, 10, 11, 12, 13, 14...</td>\n",
       "      <td>1100</td>\n",
       "      <td>888</td>\n",
       "      <td>6</td>\n",
       "      <td>3020</td>\n",
       "      <td>70.186855</td>\n",
       "      <td>73</td>\n",
       "      <td>Male</td>\n",
       "      <td>Ex-smoker</td>\n",
       "      <td>crop</td>\n",
       "    </tr>\n",
       "  </tbody>\n",
       "</table>\n",
       "</div>"
      ],
      "text/plain": [
       "                     Patient  n_dicom  \\\n",
       "0  ID00422637202311677017371      473   \n",
       "1  ID00421637202311550012437       62   \n",
       "2  ID00426637202313170790466      408   \n",
       "3  ID00423637202312137826377      290   \n",
       "4  ID00419637202311204720264       28   \n",
       "\n",
       "                                          list_dicom  height  width Weeks  \\\n",
       "0  [1, 2, 3, 4, 5, 6, 7, 8, 9, 10, 11, 12, 13, 14...     512    512     6   \n",
       "1  [1, 2, 3, 4, 5, 6, 7, 8, 9, 10, 11, 12, 13, 14...     768    768    15   \n",
       "2  [1, 2, 3, 4, 5, 6, 7, 8, 9, 10, 11, 12, 13, 14...     512    512     0   \n",
       "3  [1, 2, 3, 4, 5, 6, 7, 8, 9, 10, 11, 12, 13, 14...     512    512    17   \n",
       "4  [1, 2, 3, 4, 5, 6, 7, 8, 9, 10, 11, 12, 13, 14...    1100    888     6   \n",
       "\n",
       "    FVC    Percent Age   Sex SmokingStatus resize_type  \n",
       "0  1930  76.672493  73  Male     Ex-smoker          no  \n",
       "1  2739  82.045291  68  Male     Ex-smoker      resize  \n",
       "2  2925  71.824968  73  Male  Never smoked          no  \n",
       "3  3294  79.258903  72  Male     Ex-smoker          no  \n",
       "4  3020  70.186855  73  Male     Ex-smoker        crop  "
      ]
     },
     "execution_count": 31,
     "metadata": {},
     "output_type": "execute_result"
    }
   ],
   "source": [
    "#dicom_pd['height'],dicom_pd['width'] = -1,-1\n",
    "dicom_pd['resize_type'] = 'no'\n",
    "for idx,i in enumerate(reshape_dicom_pd['Patient']):\n",
    "    dicom_pd.loc[dicom_pd.Patient==i,'resize_type'] = reshape_dicom_pd.loc[idx,'resize_type']\n",
    "dicom_pd.head()"
   ]
  },
  {
   "cell_type": "code",
   "execution_count": 32,
   "metadata": {
    "execution": {
     "iopub.execute_input": "2020-10-06T20:49:17.508598Z",
     "iopub.status.busy": "2020-10-06T20:49:17.495476Z",
     "iopub.status.idle": "2020-10-06T20:49:17.511969Z",
     "shell.execute_reply": "2020-10-06T20:49:17.511306Z"
    },
    "papermill": {
     "duration": 0.12097,
     "end_time": "2020-10-06T20:49:17.512132",
     "exception": false,
     "start_time": "2020-10-06T20:49:17.391162",
     "status": "completed"
    },
    "tags": []
   },
   "outputs": [],
   "source": [
    "def load_scan(path):\n",
    "    \"\"\"\n",
    "    Loads scans from a folder and into a list.\n",
    "    \n",
    "    Parameters: path (Folder path)\n",
    "    \n",
    "    Returns: slices (List of slices)\n",
    "    \"\"\"\n",
    "    slices = [pydicom.read_file(path + '/' + s) for s in os.listdir(path)]\n",
    "    slices.sort(key = lambda x: int(x.InstanceNumber))\n",
    "    \n",
    "    try:\n",
    "        slice_thickness = np.abs(slices[0].ImagePositionPatient[2] - slices[1].ImagePositionPatient[2])\n",
    "    except:\n",
    "        try:\n",
    "            slice_thickness = np.abs(slices[0].SliceLocation - slices[1].SliceLocation)\n",
    "        except:\n",
    "            slice_thickness = slices[0].SliceThickness\n",
    "        \n",
    "    for s in slices:\n",
    "        s.SliceThickness = slice_thickness\n",
    "        \n",
    "    return slices\n",
    " \n",
    "def load_scan(path,resize_type='no'):\n",
    "    \"\"\"\n",
    "    Loads scans from a folder and into a list.\n",
    "    \n",
    "    Parameters: path (Folder path)\n",
    "    \n",
    "    Returns: slices (List of slices)\n",
    "    \"\"\"\n",
    "    slices = [pydicom.read_file(path + '/' + s) for s in os.listdir(path)]\n",
    "    slices.sort(key = lambda x: int(x.InstanceNumber))\n",
    "    \n",
    "    try:\n",
    "        slice_thickness = abs(slices[-1].ImagePositionPatient[2] - slices[0].ImagePositionPatient[2])/(len(slices))\n",
    "    except:\n",
    "        try:\n",
    "            slice_thickness = abs(slices[-1].SliceLocation - slices[0].SliceLocation)/(len(slices))\n",
    "        except:\n",
    "            slice_thickness = slices[0].SliceThickness\n",
    "        \n",
    "    for s in slices:\n",
    "        s.SliceThickness = slice_thickness\n",
    "        if resize_type == 'resize':\n",
    "            s.PixelSpacing = s.PixelSpacing*(s.Rows/512)  \n",
    "    return slices\n",
    "\n",
    "def transform_to_hu(slices):\n",
    "    \"\"\"\n",
    "    transform dicom.pixel_array to Hounsfield.\n",
    "    Parameters: list dicoms\n",
    "    Returns:numpy Hounsfield\n",
    "    \"\"\"\n",
    "    \n",
    "    images = np.stack([file.pixel_array for file in slices])\n",
    "    images = images.astype(np.int16)\n",
    "\n",
    "    # convert ouside pixel-values to air:\n",
    "    # I'm using <= -1000 to be sure that other defaults are captured as well\n",
    "    #images[images <= -1200] = 0 #changed\n",
    "    \n",
    "    # convert to HU\n",
    "    for n in range(len(slices)):\n",
    "        \n",
    "        intercept = slices[n].RescaleIntercept\n",
    "        slope = slices[n].RescaleSlope\n",
    "        \n",
    "        if slope != 1:\n",
    "            images[n] = slope * images[n].astype(np.float64)\n",
    "            images[n] = images[n].astype(np.int16)\n",
    "            \n",
    "        images[n] += np.int16(intercept)\n",
    "    \n",
    "    return np.array(images, dtype=np.int16)"
   ]
  },
  {
   "cell_type": "code",
   "execution_count": 33,
   "metadata": {
    "execution": {
     "iopub.execute_input": "2020-10-06T20:49:17.704529Z",
     "iopub.status.busy": "2020-10-06T20:49:17.703294Z",
     "iopub.status.idle": "2020-10-06T20:49:17.706871Z",
     "shell.execute_reply": "2020-10-06T20:49:17.706237Z"
    },
    "papermill": {
     "duration": 0.103677,
     "end_time": "2020-10-06T20:49:17.707023",
     "exception": false,
     "start_time": "2020-10-06T20:49:17.603346",
     "status": "completed"
    },
    "tags": []
   },
   "outputs": [],
   "source": [
    "def generate_internal_mask(image):\n",
    "    \"\"\"\n",
    "    Generates markers for a given image.\n",
    "    Parameters: image\n",
    "    Returns: Internal Marker, External Marker, Watershed Marker\n",
    "    \"\"\"\n",
    "    \n",
    "    #Creation of the internal Marker\n",
    "    marker_internal = image < -400\n",
    "    marker_internal = segmentation.clear_border(marker_internal)\n",
    "    marker_internal_labels = measure.label(marker_internal)\n",
    "    \n",
    "    areas = [r.area for r in measure.regionprops(marker_internal_labels)]\n",
    "    areas.sort()\n",
    "    \n",
    "    if len(areas) > 2:\n",
    "        for region in measure.regionprops(marker_internal_labels):\n",
    "            if region.area < areas[-2]:\n",
    "                for coordinates in region.coords:                \n",
    "                       marker_internal_labels[coordinates[0], coordinates[1]] = 0\n",
    "    \n",
    "    marker_internal = marker_internal_labels > 0\n",
    "    \n",
    "    return marker_internal"
   ]
  },
  {
   "cell_type": "code",
   "execution_count": 34,
   "metadata": {
    "execution": {
     "iopub.execute_input": "2020-10-06T20:49:17.932364Z",
     "iopub.status.busy": "2020-10-06T20:49:17.927064Z",
     "iopub.status.idle": "2020-10-06T20:49:17.953810Z",
     "shell.execute_reply": "2020-10-06T20:49:17.954520Z"
    },
    "papermill": {
     "duration": 0.147693,
     "end_time": "2020-10-06T20:49:17.954692",
     "exception": false,
     "start_time": "2020-10-06T20:49:17.806999",
     "status": "completed"
    },
    "tags": []
   },
   "outputs": [
    {
     "data": {
      "text/plain": [
       "'\\ni=0\\npath = os.path.join(dicom_root_path,dicom_pd.iloc[i].Patient)\\npatient_scans = load_scan(path)\\npatient_images = transform_to_hu(patient_scans)\\n\\npatient_images = preprocess_img(patient_images,dicom_pd.iloc[i])\\npatient_masks = generate_markers_set(patient_images)\\nsegmented_lungs = segment_tissue(patient_images,fill_lung_structures=False)\\nsegmented_lungs_fill = segment_tissue(patient_images, fill_lung_structures=True)\\n'"
      ]
     },
     "execution_count": 34,
     "metadata": {},
     "output_type": "execute_result"
    }
   ],
   "source": [
    "def generate_markers(image):\n",
    "    \"\"\"\n",
    "    Generates markers for a given image.\n",
    "    Parameters: image\n",
    "    Returns: Internal Marker, External Marker, Watershed Marker\n",
    "    \"\"\"\n",
    "    \n",
    "    #Creation of the internal Marker\n",
    "    marker_internal = image < -400\n",
    "    marker_internal = segmentation.clear_border(marker_internal)\n",
    "    marker_internal_labels = measure.label(marker_internal)\n",
    "    \n",
    "    areas = [r.area for r in measure.regionprops(marker_internal_labels)]\n",
    "    areas.sort()\n",
    "    \n",
    "    if len(areas) > 2:\n",
    "        for region in measure.regionprops(marker_internal_labels):\n",
    "            if region.area < areas[-2]:\n",
    "                for coordinates in region.coords:                \n",
    "                       marker_internal_labels[coordinates[0], coordinates[1]] = 0\n",
    "    \n",
    "    marker_internal = marker_internal_labels > 0\n",
    "    \n",
    "    # Creation of the External Marker\n",
    "    external_a = ndimage.binary_dilation(marker_internal, iterations=10)\n",
    "    external_b = ndimage.binary_dilation(marker_internal, iterations=55)\n",
    "    marker_external = external_b ^ external_a\n",
    "    \n",
    "    # Creation of the Watershed Marker\n",
    "    marker_watershed = np.zeros((image.shape[0], image.shape[1]), dtype=np.int)\n",
    "    marker_watershed += marker_internal * 255\n",
    "    marker_watershed += marker_external * 128\n",
    "    \n",
    "    return marker_internal, marker_external, marker_watershed\n",
    "\n",
    "def generate_markers_set(images):\n",
    "    return np.array([generate_markers(img)[0] for img in images])\n",
    "\n",
    "def crop_image(img: np.ndarray):\n",
    "    edge_pixel_value = img[0, 0]\n",
    "    mask = img != edge_pixel_value\n",
    "    return img[np.ix_(mask.any(1),mask.any(0))]\n",
    "\n",
    "def resize_image(img: np.ndarray,reshape=(512,512)):\n",
    "    #print('shape',img.shape)\n",
    "    img = cv2.resize(img,(512,512))\n",
    "    return img\n",
    "\n",
    "def preprocess_img(img,resize_type):\n",
    "    if resize_type == 'resize':\n",
    "        img = [resize_image(im) for im in img]\n",
    "    if resize_type == 'crop':\n",
    "        img = [crop_image(im) for im in img]\n",
    "        \n",
    "    return np.array(img, dtype=np.int64)\n",
    "\n",
    "\n",
    "def preprocess_img1(img,local_pd):\n",
    "    #if local_pd.resize_type == 'resize':\n",
    "    #    img = [resize_image(im) for im in img]\n",
    "    if local_pd.resize_type == 'crop':\n",
    "        img = [crop_image(im) for im in img]\n",
    "        \n",
    "    return np.array(img, dtype=np.int16)\n",
    "\n",
    "\n",
    "def largest_label_volume(im, bg=-1):\n",
    "    vals, counts = np.unique(im, return_counts=True)\n",
    "\n",
    "    counts = counts[vals != bg]\n",
    "    vals = vals[vals != bg]\n",
    "\n",
    "    if len(counts) > 0:\n",
    "        return vals[np.argmax(counts)]\n",
    "    else:\n",
    "        return None\n",
    "\n",
    "\n",
    "def segment_tissue(image, threshold=-500, fill_lung_structures=True):\n",
    "    \n",
    "    labelled_image = np.array(image > threshold, dtype=np.int8)+1\n",
    "    labels = measure.label(labelled_image)#label connectivity\n",
    "    \n",
    "    \n",
    "    #Fill the air around the person\n",
    "    background_label = labels[0,0]\n",
    "    labelled_image[background_label == labels] = 2\n",
    "    \n",
    "    \n",
    "    #labelled_image = labelled_image%2\n",
    "    \n",
    "    labelled_image -= 1 #Make the image actual binary\n",
    "    labelled_image = 1-labelled_image # Invert it, lungs are now 1\n",
    "    \n",
    "    if fill_lung_structures:\n",
    "        # For every slice we determine the largest solid structure\n",
    "        for i, axial_slice in enumerate(labelled_image):\n",
    "            axial_slice = axial_slice - 1\n",
    "            labeling = measure.label(axial_slice)\n",
    "            l_max = largest_label_volume(labeling, bg=0)\n",
    "            \n",
    "            if l_max is not None: #This slice contains some lung\n",
    "                labelled_image[i][labeling != l_max] = 1\n",
    "    \n",
    "    # Remove other air pockets insided body\n",
    "    labels = measure.label(labelled_image, background=0)\n",
    "    l_max = largest_label_volume(labels, bg=0)\n",
    "    if l_max is not None: # There are air pockets\n",
    "        labelled_image[labels != l_max] = 0\n",
    "    \n",
    "    return labelled_image\n",
    "'''\n",
    "i=0\n",
    "path = os.path.join(dicom_root_path,dicom_pd.iloc[i].Patient)\n",
    "patient_scans = load_scan(path)\n",
    "patient_images = transform_to_hu(patient_scans)\n",
    "\n",
    "patient_images = preprocess_img(patient_images,dicom_pd.iloc[i])\n",
    "patient_masks = generate_markers_set(patient_images)\n",
    "segmented_lungs = segment_tissue(patient_images,fill_lung_structures=False)\n",
    "segmented_lungs_fill = segment_tissue(patient_images, fill_lung_structures=True)\n",
    "'''"
   ]
  },
  {
   "cell_type": "code",
   "execution_count": 35,
   "metadata": {
    "execution": {
     "iopub.execute_input": "2020-10-06T20:49:18.142594Z",
     "iopub.status.busy": "2020-10-06T20:49:18.141339Z",
     "iopub.status.idle": "2020-10-06T20:49:18.210324Z",
     "shell.execute_reply": "2020-10-06T20:49:18.209435Z"
    },
    "papermill": {
     "duration": 0.165641,
     "end_time": "2020-10-06T20:49:18.210514",
     "exception": false,
     "start_time": "2020-10-06T20:49:18.044873",
     "status": "completed"
    },
    "tags": []
   },
   "outputs": [
    {
     "data": {
      "text/plain": [
       "2"
      ]
     },
     "execution_count": 35,
     "metadata": {},
     "output_type": "execute_result"
    }
   ],
   "source": [
    "import multiprocessing as mp\n",
    "cores = mp.cpu_count()\n",
    "pool = mp.Pool(processes=cores)\n",
    "cores"
   ]
  },
  {
   "cell_type": "code",
   "execution_count": 36,
   "metadata": {
    "execution": {
     "iopub.execute_input": "2020-10-06T20:49:18.526114Z",
     "iopub.status.busy": "2020-10-06T20:49:18.523876Z",
     "iopub.status.idle": "2020-10-06T20:49:20.265881Z",
     "shell.execute_reply": "2020-10-06T20:49:20.263943Z"
    },
    "papermill": {
     "duration": 1.97296,
     "end_time": "2020-10-06T20:49:20.266067",
     "exception": false,
     "start_time": "2020-10-06T20:49:18.293107",
     "status": "completed"
    },
    "tags": []
   },
   "outputs": [],
   "source": [
    "import sys\n",
    "\n",
    "sys.path.append('../input/efficientnet-pytorch/EfficientNet-PyTorch-master')\n",
    "sys.path.append('../input/pretrainedmodels/pretrainedmodels-0.7.4')\n",
    "sys.path.append('../input/segmentation-models-pytorch/')\n",
    "import pretrainedmodels\n",
    "import segmentation_models_pytorch as smp"
   ]
  },
  {
   "cell_type": "code",
   "execution_count": 37,
   "metadata": {
    "execution": {
     "iopub.execute_input": "2020-10-06T20:49:20.442974Z",
     "iopub.status.busy": "2020-10-06T20:49:20.441879Z",
     "iopub.status.idle": "2020-10-06T20:49:23.068110Z",
     "shell.execute_reply": "2020-10-06T20:49:23.067161Z"
    },
    "papermill": {
     "duration": 2.720973,
     "end_time": "2020-10-06T20:49:23.068274",
     "exception": false,
     "start_time": "2020-10-06T20:49:20.347301",
     "status": "completed"
    },
    "tags": []
   },
   "outputs": [],
   "source": [
    "import torch.nn as nn\n",
    "from torch.utils.data import DataLoader\n",
    "from torch.utils.data.dataset import Dataset\n",
    "device =  torch.device('cuda')\n",
    "model = smp.Unet('densenet121', classes=1, in_channels=1,activation='sigmoid',encoder_weights=None).to(device)\n",
    "model.load_state_dict(torch.load('../input/2020osic/best_lung_Unet_densenet121.pth',device))\n",
    "batch = 8\n",
    "\n",
    "def Unet_mask(model: nn.Module,input_data: DataLoader):\n",
    "    model.eval()\n",
    "    outs = []\n",
    "    for idx, sample in enumerate(test_loader):\n",
    "        image = sample\n",
    "        image = image.to(device)\n",
    "        with torch.no_grad():\n",
    "            out = model(image)\n",
    "        out = out.cpu().data.numpy()\n",
    "        out = np.where(out>0.5,1,0)\n",
    "        out = np.squeeze(out,axis=1)\n",
    "        outs.append(out)\n",
    "\n",
    "    outs = np.concatenate(outs)\n",
    "    return outs"
   ]
  },
  {
   "cell_type": "code",
   "execution_count": 38,
   "metadata": {
    "execution": {
     "iopub.execute_input": "2020-10-06T20:49:23.254117Z",
     "iopub.status.busy": "2020-10-06T20:49:23.249965Z",
     "iopub.status.idle": "2020-10-06T20:49:23.258574Z",
     "shell.execute_reply": "2020-10-06T20:49:23.259160Z"
    },
    "papermill": {
     "duration": 0.104552,
     "end_time": "2020-10-06T20:49:23.259339",
     "exception": false,
     "start_time": "2020-10-06T20:49:23.154787",
     "status": "completed"
    },
    "tags": []
   },
   "outputs": [],
   "source": [
    "class Test_Generate(Dataset):\n",
    "    def __init__(self,imgs_dicom,resize_type='no'):\n",
    "        self.imgs_dicom = imgs_dicom\n",
    "        self.resize_type = resize_type\n",
    "    def __getitem__(self,index):\n",
    "        \n",
    "        slice_img = self.imgs_dicom[index].pixel_array\n",
    "        slice_img = (slice_img-slice_img.min())/(slice_img.max()-slice_img.min())\n",
    "        slice_img = (slice_img*255).astype(np.uint8)\n",
    "        if self.resize_type == 'crop':\n",
    "            slice_img = crop_image(slice_img)\n",
    "        elif self.resize_type == 'resize':\n",
    "            slice_img = cv2.resize(slice_img,(512,512))\n",
    "            \n",
    "        slice_img = slice_img[None,:,:]\n",
    "        slice_img = (slice_img/255).astype(np.float32)\n",
    "        return slice_img\n",
    "        \n",
    "    def __len__(self):\n",
    "        return len(self.imgs_dicom)"
   ]
  },
  {
   "cell_type": "code",
   "execution_count": 39,
   "metadata": {
    "execution": {
     "iopub.execute_input": "2020-10-06T20:49:23.435689Z",
     "iopub.status.busy": "2020-10-06T20:49:23.434091Z",
     "iopub.status.idle": "2020-10-06T20:49:23.436513Z",
     "shell.execute_reply": "2020-10-06T20:49:23.437099Z"
    },
    "papermill": {
     "duration": 0.093743,
     "end_time": "2020-10-06T20:49:23.437258",
     "exception": false,
     "start_time": "2020-10-06T20:49:23.343515",
     "status": "completed"
    },
    "tags": []
   },
   "outputs": [],
   "source": [
    "import cv2\n",
    "thresh=[-1024,0]"
   ]
  },
  {
   "cell_type": "code",
   "execution_count": 40,
   "metadata": {
    "execution": {
     "iopub.execute_input": "2020-10-06T20:49:23.626517Z",
     "iopub.status.busy": "2020-10-06T20:49:23.614933Z",
     "iopub.status.idle": "2020-10-06T20:50:01.325004Z",
     "shell.execute_reply": "2020-10-06T20:50:01.325663Z"
    },
    "papermill": {
     "duration": 37.804258,
     "end_time": "2020-10-06T20:50:01.325855",
     "exception": false,
     "start_time": "2020-10-06T20:49:23.521597",
     "status": "completed"
    },
    "tags": []
   },
   "outputs": [
    {
     "name": "stderr",
     "output_type": "stream",
     "text": [
      "100%|██████████| 5/5 [00:37<00:00,  7.53s/it]\n"
     ]
    },
    {
     "data": {
      "text/html": [
       "<div>\n",
       "<style scoped>\n",
       "    .dataframe tbody tr th:only-of-type {\n",
       "        vertical-align: middle;\n",
       "    }\n",
       "\n",
       "    .dataframe tbody tr th {\n",
       "        vertical-align: top;\n",
       "    }\n",
       "\n",
       "    .dataframe thead th {\n",
       "        text-align: right;\n",
       "    }\n",
       "</style>\n",
       "<table border=\"1\" class=\"dataframe\">\n",
       "  <thead>\n",
       "    <tr style=\"text-align: right;\">\n",
       "      <th></th>\n",
       "      <th>Patient</th>\n",
       "      <th>Volume</th>\n",
       "      <th>Mean</th>\n",
       "      <th>Skew</th>\n",
       "      <th>Kurthosis</th>\n",
       "    </tr>\n",
       "  </thead>\n",
       "  <tbody>\n",
       "    <tr>\n",
       "      <th>0</th>\n",
       "      <td>ID00422637202311677017371</td>\n",
       "      <td>2719.8</td>\n",
       "      <td>-726.11</td>\n",
       "      <td>1.37457</td>\n",
       "      <td>1.21268</td>\n",
       "    </tr>\n",
       "    <tr>\n",
       "      <th>1</th>\n",
       "      <td>ID00421637202311550012437</td>\n",
       "      <td>2073.8</td>\n",
       "      <td>-845.789</td>\n",
       "      <td>2.22324</td>\n",
       "      <td>5.26451</td>\n",
       "    </tr>\n",
       "    <tr>\n",
       "      <th>2</th>\n",
       "      <td>ID00426637202313170790466</td>\n",
       "      <td>4231.57</td>\n",
       "      <td>-720.127</td>\n",
       "      <td>1.26321</td>\n",
       "      <td>0.874549</td>\n",
       "    </tr>\n",
       "    <tr>\n",
       "      <th>3</th>\n",
       "      <td>ID00423637202312137826377</td>\n",
       "      <td>3648.07</td>\n",
       "      <td>-722.895</td>\n",
       "      <td>1.19801</td>\n",
       "      <td>1.01371</td>\n",
       "    </tr>\n",
       "    <tr>\n",
       "      <th>4</th>\n",
       "      <td>ID00419637202311204720264</td>\n",
       "      <td>4658.3</td>\n",
       "      <td>-757.085</td>\n",
       "      <td>1.61976</td>\n",
       "      <td>2.43581</td>\n",
       "    </tr>\n",
       "  </tbody>\n",
       "</table>\n",
       "</div>"
      ],
      "text/plain": [
       "                     Patient   Volume     Mean     Skew Kurthosis\n",
       "0  ID00422637202311677017371   2719.8  -726.11  1.37457   1.21268\n",
       "1  ID00421637202311550012437   2073.8 -845.789  2.22324   5.26451\n",
       "2  ID00426637202313170790466  4231.57 -720.127  1.26321  0.874549\n",
       "3  ID00423637202312137826377  3648.07 -722.895  1.19801   1.01371\n",
       "4  ID00419637202311204720264   4658.3 -757.085  1.61976   2.43581"
      ]
     },
     "execution_count": 40,
     "metadata": {},
     "output_type": "execute_result"
    }
   ],
   "source": [
    "def caculate_lungvolume(patient_scans,patient_images):\n",
    "    \"\"\"\n",
    "    caculate volume of lung from mask\n",
    "    Parameters: list dicom scans,list patient CT image\n",
    "    Returns: volume cm³　(float)\n",
    "    \"\"\"\n",
    "    lung_volume = 0\n",
    "    patient_masks = generate_markers_set(patient_images)\n",
    "    for idx,patient_scan in enumerate(patient_scans):\n",
    "        pixel_spacing = patient_scan.PixelSpacing\n",
    "        slice_thickness = patient_scan.SliceThickness\n",
    "        lung_volume += np.count_nonzero(patient_masks[idx])*pixel_spacing[0]*pixel_spacing[0]*slice_thickness\n",
    "        \n",
    "    return lung_volume*0.001\n",
    "\n",
    "def func_volume(patient_scan,patient_mask):\n",
    "    pixel_spacing = patient_scan.PixelSpacing\n",
    "    slice_thickness = patient_scan.SliceThickness\n",
    "    slice_volume = np.count_nonzero(patient_mask)*pixel_spacing[0]*pixel_spacing[1]*slice_thickness\n",
    "    return slice_volume\n",
    "\n",
    "def caculate_lung_volume(patient_scans,patient_masks):\n",
    "    \"\"\"\n",
    "    caculate volume of lung from mask\n",
    "    Parameters: list dicom scans,list patient CT image\n",
    "    Returns: volume cm³　(float)\n",
    "    \"\"\"\n",
    "    #patient_masks = pool.map(generate_internal_mask,patient_images)\n",
    "    lung_volume = np.array(list(map(func_volume,patient_scans,patient_masks))).sum()\n",
    "\n",
    "    return lung_volume*0.001\n",
    "\n",
    "def caculate_lung_volume (patient_scans,patient_masks):\n",
    "    \"\"\"\n",
    "    caculate volume of lung from mask\n",
    "    Parameters: list dicom scans,list patient CT Mask\n",
    "    Returns: volume cm³　(float)\n",
    "    \"\"\"\n",
    "    lung_volume = 0\n",
    "    for i in range(len(patient_masks)):\n",
    "        \n",
    "        pixel_spacing = patient_scans[i].PixelSpacing\n",
    "        slice_thickness = patient_scans[i].SliceThickness\n",
    "        lung_volume += np.count_nonzero(patient_masks[i])*pixel_spacing[0]*pixel_spacing[1]*slice_thickness\n",
    "        \n",
    "    return lung_volume*0.001\n",
    "''' \n",
    "def caculate_histgram_statistical(patient_images,thresh = [-600,0]): #-500,-50 changed\n",
    "    \"\"\"\n",
    "    caculate hisgram kurthosis of lung hounsfield\n",
    "    Parameters: list patient CT image 512*512,thresh divide lung\n",
    "    Returns: histgram statistical characteristic(Mean,Skew,Kurthosis)\n",
    "    \"\"\"\n",
    "    statistical_characteristic = dict(Mean=0,Skew=0,Kurthosis=0)\n",
    "    num_slices = len(patient_images)\n",
    "    patient_images = patient_images[int(num_slices*0.1):int(num_slices*0.9)]\n",
    "    patient_images_mean = np.mean(patient_images,0)\n",
    "    \n",
    "    s_pixel = patient_images_mean.flatten()\n",
    "    s_pixel = s_pixel[np.where((s_pixel)>thresh[0]&(s_pixel<thresh[1]))]\n",
    "    \n",
    "    statistical_characteristic['Mean'] = np.mean(s_pixel)\n",
    "    statistical_characteristic['Skew'] = skew(s_pixel)\n",
    "    statistical_characteristic['Kurthosis'] = kurtosis(s_pixel)\n",
    "    \n",
    "    return statistical_characteristic\n",
    "''' \n",
    "def caculate_histgram_statistical(patient_images,patient_masks,thresh = [-600,0]):\n",
    "    \"\"\"\n",
    "    caculate hisgram kurthosis of lung hounsfield\n",
    "    Parameters: list patient CT image 512*512,thresh divide lung\n",
    "    Returns: histgram statistical characteristic(Mean,Skew,Kurthosis)\n",
    "    \"\"\"\n",
    "    statistical_characteristic = dict(Mean=0,Skew=0,Kurthosis=0)\n",
    "    num_slices = len(patient_images)\n",
    "    \n",
    "    #patient_images = patient_images[int(num_slices*0.1):int(num_slices*0.9)]\n",
    "    #patient_masks = patient_masks[int(num_slices*0.1):int(num_slices*0.9)]\n",
    "    patient_images = patient_masks*patient_images\n",
    "    patient_images_nonzero = patient_images[np.nonzero(patient_images)]\n",
    "    \n",
    "    s_pixel = patient_images_nonzero.flatten()\n",
    "    s_pixel = s_pixel[np.where((s_pixel>thresh[0])&(s_pixel<thresh[1]))]\n",
    "    \n",
    "    statistical_characteristic['Mean'] = np.mean(s_pixel)\n",
    "    statistical_characteristic['Skew'] = skew(s_pixel)\n",
    "    statistical_characteristic['Kurthosis'] = kurtosis(s_pixel)\n",
    "    \n",
    "    return statistical_characteristic\n",
    "\n",
    "lung_stat_pd = pd.DataFrame(columns=['Patient','Volume','Mean','Skew','Kurthosis'])\n",
    "\n",
    "\n",
    "\n",
    "for i in tqdm(range(len(dicom_pd))):\n",
    "    path = os.path.join(dicom_root_path,dicom_pd.iloc[i].Patient)\n",
    "    lung_stat_pd.loc[i,'Patient'] = dicom_pd.iloc[i].Patient\n",
    "    patient_scans = load_scan(path)\n",
    "    \n",
    "    test_db = Test_Generate(patient_scans,dicom_pd.iloc[i].resize_type)\n",
    "    test_loader = DataLoader(test_db, batch_size=batch, shuffle=False, num_workers=4)\n",
    "    masks = Unet_mask(model,test_loader)\n",
    "    \n",
    "    \n",
    "    patient_images = transform_to_hu(patient_scans)\n",
    "    patient_images = preprocess_img(patient_images,dicom_pd.loc[i,'resize_type'])\n",
    "    \n",
    "    lung_stat_pd.loc[i,'Volume'] = caculate_lung_volume(patient_scans,masks)                           \n",
    "    #patient_images = resize_image(patient_images) if dicom_pd.iloc[i].resize_type=='resize' else patient_images\n",
    "    #patient_images = resize_image(patient_masks) if dicom_pd.iloc[i].resize_type=='resize' else patient_images\n",
    "    \n",
    "    statistical_characteristic = caculate_histgram_statistical(patient_images,masks,thresh)\n",
    "    lung_stat_pd.loc[i,'Mean'] = statistical_characteristic['Mean']\n",
    "    lung_stat_pd.loc[i,'Skew'] = statistical_characteristic['Skew']\n",
    "    lung_stat_pd.loc[i,'Kurthosis'] = statistical_characteristic['Kurthosis']\n",
    "lung_stat_pd.head()"
   ]
  },
  {
   "cell_type": "code",
   "execution_count": 41,
   "metadata": {
    "execution": {
     "iopub.execute_input": "2020-10-06T20:50:01.522970Z",
     "iopub.status.busy": "2020-10-06T20:50:01.521670Z",
     "iopub.status.idle": "2020-10-06T20:50:01.594763Z",
     "shell.execute_reply": "2020-10-06T20:50:01.594016Z"
    },
    "papermill": {
     "duration": 0.180109,
     "end_time": "2020-10-06T20:50:01.594923",
     "exception": false,
     "start_time": "2020-10-06T20:50:01.414814",
     "status": "completed"
    },
    "tags": []
   },
   "outputs": [
    {
     "name": "stdout",
     "output_type": "stream",
     "text": [
      "add infos\n",
      "730\n"
     ]
    },
    {
     "data": {
      "text/html": [
       "<div>\n",
       "<style scoped>\n",
       "    .dataframe tbody tr th:only-of-type {\n",
       "        vertical-align: middle;\n",
       "    }\n",
       "\n",
       "    .dataframe tbody tr th {\n",
       "        vertical-align: top;\n",
       "    }\n",
       "\n",
       "    .dataframe thead th {\n",
       "        text-align: right;\n",
       "    }\n",
       "</style>\n",
       "<table border=\"1\" class=\"dataframe\">\n",
       "  <thead>\n",
       "    <tr style=\"text-align: right;\">\n",
       "      <th></th>\n",
       "      <th>Patient</th>\n",
       "      <th>Weeks</th>\n",
       "      <th>FVC</th>\n",
       "      <th>Percent</th>\n",
       "      <th>Age</th>\n",
       "      <th>Sex</th>\n",
       "      <th>SmokingStatus</th>\n",
       "      <th>Volume</th>\n",
       "      <th>Mean</th>\n",
       "      <th>Skew</th>\n",
       "      <th>Kurthosis</th>\n",
       "    </tr>\n",
       "  </thead>\n",
       "  <tbody>\n",
       "    <tr>\n",
       "      <th>2</th>\n",
       "      <td>ID00422637202311677017371</td>\n",
       "      <td>6</td>\n",
       "      <td>1930</td>\n",
       "      <td>76.672493</td>\n",
       "      <td>73</td>\n",
       "      <td>Male</td>\n",
       "      <td>Ex-smoker</td>\n",
       "      <td>2719.798328</td>\n",
       "      <td>-721.240188</td>\n",
       "      <td>1.38787</td>\n",
       "      <td>1.206415</td>\n",
       "    </tr>\n",
       "  </tbody>\n",
       "</table>\n",
       "</div>"
      ],
      "text/plain": [
       "                     Patient  Weeks   FVC    Percent  Age   Sex SmokingStatus  \\\n",
       "2  ID00422637202311677017371      6  1930  76.672493   73  Male     Ex-smoker   \n",
       "\n",
       "        Volume        Mean     Skew  Kurthosis  \n",
       "2  2719.798328 -721.240188  1.38787   1.206415  "
      ]
     },
     "execution_count": 41,
     "metadata": {},
     "output_type": "execute_result"
    }
   ],
   "source": [
    "dicom_feature=['Volume','Patient','Mean','Skew','Kurthosis']\n",
    "tr = pd.read_csv(f\"{ROOT}/train.csv\")\n",
    "#lungs_df=pd.read_csv('../input/lunf-features/CT_feature.csv')\n",
    "lungs_df=pd.read_csv('../input/osic-feature-extract-from-ct/CT_feature.csv')\n",
    "#pd.read_csv('../input/osic-feature-extract-from-ct/CT_feature.csv')\n",
    "tr.drop_duplicates(keep=False, inplace=True, subset=['Patient','Weeks'])\n",
    "chunk = pd.read_csv(f\"{ROOT}/test.csv\")\n",
    "chunk=pd.merge(chunk,lung_stat_pd.loc[:,dicom_feature],on='Patient')\n",
    "\n",
    "print(\"add infos\")\n",
    "sub = pd.read_csv(f\"{ROOT}/sample_submission.csv\")\n",
    "sub['Patient'] = sub['Patient_Week'].apply(lambda x:x.split('_')[0])\n",
    "sub['Weeks'] = sub['Patient_Week'].apply(lambda x: int(x.split('_')[-1]))\n",
    "print(sub.index.size)\n",
    "sub =  sub[['Patient','Weeks','Confidence','Patient_Week']]\n",
    "sub = sub.merge(chunk.drop('Weeks', axis=1), on=\"Patient\")\n",
    "\n",
    "\n",
    "#lungs_df=lungs_df.iloc[:,1:]\n",
    "lungs_df[lungs_df.Patient=='ID00422637202311677017371']"
   ]
  },
  {
   "cell_type": "code",
   "execution_count": 42,
   "metadata": {
    "execution": {
     "iopub.execute_input": "2020-10-06T20:50:01.788938Z",
     "iopub.status.busy": "2020-10-06T20:50:01.785194Z",
     "iopub.status.idle": "2020-10-06T20:50:02.064350Z",
     "shell.execute_reply": "2020-10-06T20:50:02.063538Z"
    },
    "papermill": {
     "duration": 0.378916,
     "end_time": "2020-10-06T20:50:02.064518",
     "exception": false,
     "start_time": "2020-10-06T20:50:01.685602",
     "status": "completed"
    },
    "tags": []
   },
   "outputs": [
    {
     "data": {
      "text/plain": [
       "(array([ 5., 29., 34., 54., 35., 15.,  3.,  0.]),\n",
       " array([   0, 1000, 2000, 3000, 4000, 5000, 6000, 7000, 8000]),\n",
       " <a list of 8 Patch objects>)"
      ]
     },
     "execution_count": 42,
     "metadata": {},
     "output_type": "execute_result"
    },
    {
     "data": {
      "image/png": "[encoded data removed]",
      "text/plain": [
       "<Figure size 432x288 with 1 Axes>"
      ]
     },
     "metadata": {
      "needs_background": "light"
     },
     "output_type": "display_data"
    }
   ],
   "source": [
    "tr=pd.merge(tr,lungs_df.loc[:,dicom_feature],on='Patient')\n",
    "plt.hist(lungs_df.Volume.values,bins=[0,1000,2000,3000,4000,5000,6000,7000,8000])"
   ]
  },
  {
   "cell_type": "code",
   "execution_count": 43,
   "metadata": {
    "execution": {
     "iopub.execute_input": "2020-10-06T20:50:02.259928Z",
     "iopub.status.busy": "2020-10-06T20:50:02.252493Z",
     "iopub.status.idle": "2020-10-06T20:50:02.268990Z",
     "shell.execute_reply": "2020-10-06T20:50:02.268386Z"
    },
    "papermill": {
     "duration": 0.113548,
     "end_time": "2020-10-06T20:50:02.269161",
     "exception": false,
     "start_time": "2020-10-06T20:50:02.155613",
     "status": "completed"
    },
    "tags": []
   },
   "outputs": [],
   "source": [
    "tr['WHERE'] = 'train'\n",
    "chunk['WHERE'] = 'val'\n",
    "sub['WHERE'] = 'test'\n",
    "data = tr.append([chunk, sub])"
   ]
  },
  {
   "cell_type": "code",
   "execution_count": 44,
   "metadata": {
    "execution": {
     "iopub.execute_input": "2020-10-06T20:50:02.524159Z",
     "iopub.status.busy": "2020-10-06T20:50:02.522883Z",
     "iopub.status.idle": "2020-10-06T20:50:02.540066Z",
     "shell.execute_reply": "2020-10-06T20:50:02.541515Z"
    },
    "papermill": {
     "duration": 0.177952,
     "end_time": "2020-10-06T20:50:02.541811",
     "exception": false,
     "start_time": "2020-10-06T20:50:02.363859",
     "status": "completed"
    },
    "tags": []
   },
   "outputs": [],
   "source": [
    "data['min_week'] = data['Weeks']\n",
    "data.loc[data.WHERE=='test','min_week'] = np.nan\n",
    "data['min_week'] = data.groupby('Patient')['min_week'].transform('min')"
   ]
  },
  {
   "cell_type": "code",
   "execution_count": 45,
   "metadata": {
    "execution": {
     "iopub.execute_input": "2020-10-06T20:50:02.840684Z",
     "iopub.status.busy": "2020-10-06T20:50:02.836425Z",
     "iopub.status.idle": "2020-10-06T20:50:02.861169Z",
     "shell.execute_reply": "2020-10-06T20:50:02.860185Z"
    },
    "papermill": {
     "duration": 0.181589,
     "end_time": "2020-10-06T20:50:02.861365",
     "exception": false,
     "start_time": "2020-10-06T20:50:02.679776",
     "status": "completed"
    },
    "tags": []
   },
   "outputs": [],
   "source": [
    "cut_labels_4 = [0, 1, 2, 3,4 ,5,6,7]\n",
    "cut_bins = [0,1000,2000,3000,4000,5000,6000,7000,8000]\n",
    "data['vol_bins']=-1\n",
    "data['vol_bins']=pd.cut(data['Volume'], bins=cut_bins, labels=cut_labels_4)\n",
    "#data['FVC_grade'] = pd.cut(data['FVC'], bins=cut_bins, labels=cut_labels_4)\n",
    "#data['FVC_grade']=data.FVC_grade.values.astype('int')\n",
    "data=data.fillna(0)\n",
    "data['vol_bins']=data.vol_bins.values.astype('int')"
   ]
  },
  {
   "cell_type": "code",
   "execution_count": 46,
   "metadata": {
    "execution": {
     "iopub.execute_input": "2020-10-06T20:50:03.166575Z",
     "iopub.status.busy": "2020-10-06T20:50:03.165334Z",
     "iopub.status.idle": "2020-10-06T20:50:03.564717Z",
     "shell.execute_reply": "2020-10-06T20:50:03.563367Z"
    },
    "papermill": {
     "duration": 0.528469,
     "end_time": "2020-10-06T20:50:03.564868",
     "exception": false,
     "start_time": "2020-10-06T20:50:03.036399",
     "status": "completed"
    },
    "tags": []
   },
   "outputs": [],
   "source": [
    "data['follow_up_count']=0\n",
    "data=data.sort_values(by=['Patient','Weeks'])\n",
    "for patient in data.Patient.unique():\n",
    "    data.loc[data.Patient==patient,'follow_up_count']=range(data[data.Patient==patient].index.size)"
   ]
  },
  {
   "cell_type": "code",
   "execution_count": 47,
   "metadata": {
    "execution": {
     "iopub.execute_input": "2020-10-06T20:50:03.757788Z",
     "iopub.status.busy": "2020-10-06T20:50:03.756605Z",
     "iopub.status.idle": "2020-10-06T20:50:03.768739Z",
     "shell.execute_reply": "2020-10-06T20:50:03.768017Z"
    },
    "papermill": {
     "duration": 0.113165,
     "end_time": "2020-10-06T20:50:03.768868",
     "exception": false,
     "start_time": "2020-10-06T20:50:03.655703",
     "status": "completed"
    },
    "tags": []
   },
   "outputs": [],
   "source": [
    "data['Age_bins']=-1\n",
    "cut_labels_age = [0, 1, 2, 3 ,4 ]\n",
    "cut_bins = [0, 30, 50, 60,70,100 ]\n",
    "#data['FVC_grade'] = pd.cut(data['FVC'], bins=cut_bins, labels=cut_labels_4)\n",
    "#data.loc[data.Sex=='Male','Age_bins']= pd.cut(data[data.Sex=='Male']['Age'], bins=cut_bins, labels=cut_labels_age)\n",
    "data.loc[:,'Age_bins']= pd.cut(data['Age'], bins=cut_bins, labels=cut_labels_age)\n",
    "\n",
    "data['Age_bins']=data['Age_bins'].astype('int')\n",
    "data=data.fillna(0)"
   ]
  },
  {
   "cell_type": "code",
   "execution_count": 48,
   "metadata": {
    "execution": {
     "iopub.execute_input": "2020-10-06T20:50:03.967618Z",
     "iopub.status.busy": "2020-10-06T20:50:03.961684Z",
     "iopub.status.idle": "2020-10-06T20:50:03.976326Z",
     "shell.execute_reply": "2020-10-06T20:50:03.975658Z"
    },
    "papermill": {
     "duration": 0.116877,
     "end_time": "2020-10-06T20:50:03.976458",
     "exception": false,
     "start_time": "2020-10-06T20:50:03.859581",
     "status": "completed"
    },
    "tags": []
   },
   "outputs": [],
   "source": [
    "data['pct_bins']=-1\n",
    "cut_labels_age = [0, 1, 2, 3 ,4 ,5]\n",
    "cut_bins = [0, 30, 50, 60,70,100,180 ]\n",
    "#data['FVC_grade'] = pd.cut(data['FVC'], bins=cut_bins, labels=cut_labels_4)\n",
    "#data.loc[data.Sex=='Male','Age_bins']= pd.cut(data[data.Sex=='Male']['Age'], bins=cut_bins, labels=cut_labels_age)\n",
    "data.loc[:,'pct_bins']= pd.cut(data['Percent'], bins=cut_bins, labels=cut_labels_age)\n",
    "#data=data.fillna(0)\n",
    "data['pct_bins']=data['pct_bins'].astype('int')\n",
    "data=data.fillna(0)"
   ]
  },
  {
   "cell_type": "code",
   "execution_count": 49,
   "metadata": {
    "execution": {
     "iopub.execute_input": "2020-10-06T20:50:04.164314Z",
     "iopub.status.busy": "2020-10-06T20:50:04.163130Z",
     "iopub.status.idle": "2020-10-06T20:50:04.171377Z",
     "shell.execute_reply": "2020-10-06T20:50:04.170688Z"
    },
    "papermill": {
     "duration": 0.104426,
     "end_time": "2020-10-06T20:50:04.171529",
     "exception": false,
     "start_time": "2020-10-06T20:50:04.067103",
     "status": "completed"
    },
    "tags": []
   },
   "outputs": [],
   "source": [
    "percent_std=data.groupby('Age_bins').Percent.std().values \n",
    "percent_mean=data.groupby('Age_bins').Percent.mean().values"
   ]
  },
  {
   "cell_type": "code",
   "execution_count": 50,
   "metadata": {
    "execution": {
     "iopub.execute_input": "2020-10-06T20:50:04.366281Z",
     "iopub.status.busy": "2020-10-06T20:50:04.365138Z",
     "iopub.status.idle": "2020-10-06T20:50:04.377792Z",
     "shell.execute_reply": "2020-10-06T20:50:04.377075Z"
    },
    "papermill": {
     "duration": 0.112405,
     "end_time": "2020-10-06T20:50:04.377934",
     "exception": false,
     "start_time": "2020-10-06T20:50:04.265529",
     "status": "completed"
    },
    "tags": []
   },
   "outputs": [],
   "source": [
    "base = data.loc[data.Weeks == data.min_week]\n",
    "base = base[['Patient','FVC','Percent','pct_bins']].copy()\n",
    "base.columns = ['Patient','min_FVC','min_Percent','min_pct_bin']\n",
    "'''\n",
    "base = data.loc[data.Weeks == data.min_week]\n",
    "base = base[['Patient','FVC']].copy()\n",
    "base.columns = ['Patient','min_FVC']\n",
    "'''\n",
    "base['nb'] = 1\n",
    "base['nb'] = base.groupby('Patient')['nb'].transform('cumsum')\n",
    "base = base[base.nb==1]\n",
    "base.drop('nb', axis=1, inplace=True)"
   ]
  },
  {
   "cell_type": "code",
   "execution_count": 51,
   "metadata": {
    "execution": {
     "iopub.execute_input": "2020-10-06T20:50:04.565965Z",
     "iopub.status.busy": "2020-10-06T20:50:04.564864Z",
     "iopub.status.idle": "2020-10-06T20:50:04.578137Z",
     "shell.execute_reply": "2020-10-06T20:50:04.577474Z"
    },
    "papermill": {
     "duration": 0.110286,
     "end_time": "2020-10-06T20:50:04.578300",
     "exception": false,
     "start_time": "2020-10-06T20:50:04.468014",
     "status": "completed"
    },
    "tags": []
   },
   "outputs": [],
   "source": [
    "data = data.merge(base, on='Patient', how='left')\n",
    "data['base_week'] = data['Weeks'] - data['min_week']"
   ]
  },
  {
   "cell_type": "code",
   "execution_count": 52,
   "metadata": {
    "execution": {
     "iopub.execute_input": "2020-10-06T20:50:04.768576Z",
     "iopub.status.busy": "2020-10-06T20:50:04.767492Z",
     "iopub.status.idle": "2020-10-06T20:50:04.788506Z",
     "shell.execute_reply": "2020-10-06T20:50:04.787843Z"
    },
    "papermill": {
     "duration": 0.119621,
     "end_time": "2020-10-06T20:50:04.788640",
     "exception": false,
     "start_time": "2020-10-06T20:50:04.669019",
     "status": "completed"
    },
    "tags": []
   },
   "outputs": [],
   "source": [
    "data['diff_fvc_prev']=data['FVC'].diff(1)\n",
    "data=data.fillna(0)\n",
    "patient_mean_chg_df=data.groupby('Patient').diff_fvc_prev.mean().reset_index()\n",
    "patient_mean_chg_df.columns=['Patient','mean_increase']\n",
    "#data['mean_increase']=data.groupby('Patient').diff_fvc_prev.mean().values\n",
    "data=pd.merge(data,patient_mean_chg_df ,on='Patient')"
   ]
  },
  {
   "cell_type": "code",
   "execution_count": 53,
   "metadata": {
    "execution": {
     "iopub.execute_input": "2020-10-06T20:50:04.981372Z",
     "iopub.status.busy": "2020-10-06T20:50:04.979755Z",
     "iopub.status.idle": "2020-10-06T20:50:04.991850Z",
     "shell.execute_reply": "2020-10-06T20:50:04.991109Z"
    },
    "papermill": {
     "duration": 0.112854,
     "end_time": "2020-10-06T20:50:04.991995",
     "exception": false,
     "start_time": "2020-10-06T20:50:04.879141",
     "status": "completed"
    },
    "tags": []
   },
   "outputs": [],
   "source": [
    "COLS = ['Sex','SmokingStatus'] #,'Age'\n",
    "FE = []\n",
    "for col in COLS:\n",
    "    for mod in data[col].unique():\n",
    "        FE.append(mod)\n",
    "        data[mod] = (data[col] == mod).astype(int)"
   ]
  },
  {
   "cell_type": "code",
   "execution_count": 54,
   "metadata": {
    "execution": {
     "iopub.execute_input": "2020-10-06T20:50:05.196707Z",
     "iopub.status.busy": "2020-10-06T20:50:05.195567Z",
     "iopub.status.idle": "2020-10-06T20:50:05.251687Z",
     "shell.execute_reply": "2020-10-06T20:50:05.250920Z"
    },
    "papermill": {
     "duration": 0.168065,
     "end_time": "2020-10-06T20:50:05.251834",
     "exception": false,
     "start_time": "2020-10-06T20:50:05.083769",
     "status": "completed"
    },
    "tags": []
   },
   "outputs": [],
   "source": [
    "data_patient_percent_df=data.groupby('Patient').agg(percent= ('Percent',np.median),height_std= ('Percent',np.mean)).reset_index()\n",
    "data_patient_percent_df.columns=['Patient','Median_percent','Mean_percent']\n",
    "data=pd.merge(data,data_patient_percent_df.loc[:,['Patient','Median_percent']],on='Patient')\n",
    "\n",
    "data_percent_group_mean_df=data.groupby(['Sex','Age_bins','SmokingStatus']).agg(group_pct_mean=('Median_percent',np.median)).reset_index()\n",
    "\n",
    "data_percent_group_mean_df.columns=['Sex','Age_bins','SmokingStatus','group_pct_median']\n",
    "\n",
    "\n",
    "data=pd.merge(data,data_percent_group_mean_df,on=['Sex','Age_bins','SmokingStatus'],how='left')\n",
    "\n",
    "\n",
    "data['med_pct_bins']=-1\n",
    "cut_labels_age = [0, 1, 2, 3 ,4 ,5]\n",
    "cut_bins = [0, 30, 50, 60,70,100,180 ]\n",
    "#data['FVC_grade'] = pd.cut(data['FVC'], bins=cut_bins, labels=cut_labels_4)\n",
    "#data.loc[data.Sex=='Male','Age_bins']= pd.cut(data[data.Sex=='Male']['Age'], bins=cut_bins, labels=cut_labels_age)\n",
    "data.loc[:,'med_pct_bins']= pd.cut(data['group_pct_median'], bins=cut_bins, labels=cut_labels_age)\n",
    "#data=data.fillna(0)\n",
    "data=data.fillna(0)\n",
    "data['med_pct_bins']=data['med_pct_bins'].astype('int')"
   ]
  },
  {
   "cell_type": "code",
   "execution_count": 55,
   "metadata": {
    "execution": {
     "iopub.execute_input": "2020-10-06T20:50:05.441840Z",
     "iopub.status.busy": "2020-10-06T20:50:05.440759Z",
     "iopub.status.idle": "2020-10-06T20:50:05.444999Z",
     "shell.execute_reply": "2020-10-06T20:50:05.444327Z"
    },
    "papermill": {
     "duration": 0.102625,
     "end_time": "2020-10-06T20:50:05.445147",
     "exception": false,
     "start_time": "2020-10-06T20:50:05.342522",
     "status": "completed"
    },
    "tags": []
   },
   "outputs": [],
   "source": [
    "FE_hi=FE.copy()\n",
    "FE_pyt=FE.copy()\n",
    "FE_med=FE.copy()\n",
    "FE_low=FE.copy()\n",
    "data_pow=data.copy()"
   ]
  },
  {
   "cell_type": "code",
   "execution_count": 56,
   "metadata": {
    "execution": {
     "iopub.execute_input": "2020-10-06T20:50:05.651715Z",
     "iopub.status.busy": "2020-10-06T20:50:05.650203Z",
     "iopub.status.idle": "2020-10-06T20:50:05.672317Z",
     "shell.execute_reply": "2020-10-06T20:50:05.671680Z"
    },
    "papermill": {
     "duration": 0.135939,
     "end_time": "2020-10-06T20:50:05.672458",
     "exception": false,
     "start_time": "2020-10-06T20:50:05.536519",
     "status": "completed"
    },
    "tags": []
   },
   "outputs": [],
   "source": [
    "data=data.fillna(0)\n",
    "data['age'] = (data['Age'] - data['Age'].min() ) / ( data['Age'].max() - data['Age'].min() )\n",
    "data['BASE'] = (data['min_FVC'] - data['min_FVC'].min() ) / ( data['min_FVC'].max() - data['min_FVC'].min() )\n",
    "data['week'] = (data['base_week'] - data['base_week'].min() ) / ( data['base_week'].max() - data['base_week'].min() )\n",
    "#data['percent'] = data['Percent']/100.\n",
    "#data['percent']=(data['Percent'] - data['Percent'].min() ) / ( data['Percent'].max() - data['Percent'].min() )\n",
    "data['min_Percent_norm']=(data['min_Percent'] - data['min_Percent'].min() ) / ( data['min_Percent'].max() - data['min_Percent'].min() )\n",
    "data['group_pct_median_norm']=(data['group_pct_median'] - data['group_pct_median'].min() ) / ( data['group_pct_median'].max() - data['group_pct_median'].min() )\n",
    "\n",
    "data['Volume']=data['Volume']/1000.\n",
    "data['Volume']=(data['Volume'] - data['Volume'].min()  ) / ( data['Volume'].max() - data['Volume'].min() )\n",
    "\n",
    "data['Kurthosis']=(data['Kurthosis'] - data['Kurthosis'].min() ) / ( data['Kurthosis'].max() - data['Kurthosis'].min() )\n",
    "data['Mean']=(data['Mean'] - data['Mean'].min() ) / ( data['Mean'].max() - data['Mean'].min() )\n",
    "data['Skew']=(data['Skew'] - data['Skew'].min() ) / ( data['Skew'].max() - data['Skew'].min() )\n",
    " \n",
    "#data['mean_increase']=(data['mean_increase'] - data['mean_increase'].min() ) / ( data['mean_increase'].max() \n",
    "#                                                                                - data['mean_increase'].min() )\n",
    "\n",
    "'''\n",
    "data['percent']=0.\n",
    "data.loc[data.Age_bins==1,'percent'] = (data[data.Age_bins==1]['Percent'] - percent_mean[0] ) /percent_std[0] \n",
    "data.loc[data.Age_bins==2,'percent'] = (data[data.Age_bins==2]['Percent'] - percent_mean[1] ) /percent_std[1]  \n",
    "data.loc[data.Age_bins==3,'percent'] = (data[data.Age_bins==3]['Percent'] - percent_mean[2] ) /percent_std[2]  \n",
    "data.loc[data.Age_bins==4,'percent'] = (data[data.Age_bins==4]['Percent'] - percent_mean[3] ) /percent_std[3]  \n",
    "#data['diff_fvc_prev']=data['FVC'].diff(1)\n",
    "#data['follow_up_diff']=data['Weeks'].diff(1)\n",
    "data=data.fillna(0)\n",
    "'''\n",
    "#data['diff_fvc_prev'] = (data['diff_fvc_prev'] - data['diff_fvc_prev'].min() ) / ( data['diff_fvc_prev'].max() - data['diff_fvc_prev'].min() )\n",
    "#data['follow_up_diff'] = (data['follow_up_diff'] - data['follow_up_diff'].min() ) / ( data['follow_up_diff'].max() - data['follow_up_diff'].min() )\n",
    "#data['follow_up_count']= (data['follow_up_count'] - data['follow_up_count'].min() ) / ( data['follow_up_count'].max())\n",
    "#data['FVC_grade']= (data['FVC_grade'] - data['FVC_grade'].min() ) / ( data['FVC_grade'].max())\n",
    "#\n",
    "#data['normal']= (data['normal'] - data['normal'].min() ) / ( data['normal'].max())\n",
    "\n",
    "#data['max_fvc']=(data['max_fvc'] - data['max_fvc'].min() ) / ( data['max_fvc'].max()) ,'min_Percent','min_pct_bin'\n",
    "FE_med+=['Age_bins','min_pct_bin','min_Percent','week','BASE' ,'Volume','Skew' ]\n",
    "FE_low+=['Age_bins','min_Percent','week','BASE' ]\n",
    "FE_pyt +=  ['Age_bins','med_pct_bins','min_pct_bin','group_pct_median','base_week','min_Percent','min_FVC' ,'Volume','Skew' ]\n",
    "\n",
    "#['Age_bins','group_pct_median_norm','min_pct_bin','med_pct_bins','min_Percent_norm','week','BASE' ,'Volume','Skew' ]\n",
    "#['Age_bins','pct_bins','min_Percent','week','BASE' ,'Volume','Skew' ]"
   ]
  },
  {
   "cell_type": "code",
   "execution_count": 57,
   "metadata": {
    "execution": {
     "iopub.execute_input": "2020-10-06T20:50:05.870090Z",
     "iopub.status.busy": "2020-10-06T20:50:05.868840Z",
     "iopub.status.idle": "2020-10-06T20:50:05.967080Z",
     "shell.execute_reply": "2020-10-06T20:50:05.967828Z"
    },
    "papermill": {
     "duration": 0.204222,
     "end_time": "2020-10-06T20:50:05.968002",
     "exception": false,
     "start_time": "2020-10-06T20:50:05.763780",
     "status": "completed"
    },
    "tags": []
   },
   "outputs": [
    {
     "name": "stdout",
     "output_type": "stream",
     "text": [
      "5\n"
     ]
    },
    {
     "name": "stderr",
     "output_type": "stream",
     "text": [
      "/opt/conda/lib/python3.7/site-packages/sklearn/preprocessing/_data.py:2995: RuntimeWarning: divide by zero encountered in log\n",
      "  loglike = -n_samples / 2 * np.log(x_trans.var())\n"
     ]
    }
   ],
   "source": [
    "#data.rename_columns({'base_week':'diff_from'})\n",
    "from sklearn.preprocessing import MinMaxScaler\n",
    "from sklearn.preprocessing import PowerTransformer\n",
    "powerTransformer = PowerTransformer()\n",
    "#X_train_scaled = powerTransformer.fit_transform(X_train) \n",
    "manual=False\n",
    "if not manual:\n",
    "    \n",
    "    scaler_train=PowerTransformer()\n",
    "    scaler_train_Fvc=PowerTransformer()\n",
    "    #MinMaxScaler()\n",
    "    data_pow['Volume']=data_pow['Volume']/1000.\n",
    "    data_pow.loc[:,['min_Percent', 'group_pct_median'  , 'min_FVC','base_week','Mean','Skew','Volume']]=   scaler_train.fit_transform(data_pow[['min_Percent','group_pct_median' , 'min_FVC','base_week','Mean','Skew','Volume']])\n",
    "    #sub.loc[:,['Percent',  'min_FVC','base_week','Mean','Skew','Volume']]=  scaler_train.fit_transform(sub[['Percent',  'min_FVC','base_week','Mean','Skew','Volume']])\n",
    "    data_pow.loc[:,'FVC']= scaler_train_Fvc.fit_transform(data_pow.loc[:,'FVC'].values.reshape(-1,1))\n",
    "    #data['week'] = (data['base_week'] - data['base_week'].min() ) / ( data['base_week'].max() - data['base_week'].min() )\n",
    "    #sub['week'] = (sub['base_week'] - data['base_week'].min() ) / ( data['base_week'].max() - data['base_week'].min() )\n",
    "    \n",
    "    #FE=FE+['Age_bins','pct_bins','min_Percent','min_FVC', 'base_week','Skew','Volume']\n",
    "    #FE +=  ['Age_bins','med_pct_bins','min_pct_bin','group_pct_median','base_week','min_Percent','min_FVC' ,'Volume','Skew' ]\n",
    "    \n",
    "    FE_hi +=  ['Age_bins','med_pct_bins','min_pct_bin','group_pct_median','base_week','min_Percent','min_FVC' ,'Volume','Skew' ]\n",
    "\n",
    "    print(len(FE) ) "
   ]
  },
  {
   "cell_type": "code",
   "execution_count": 58,
   "metadata": {
    "execution": {
     "iopub.execute_input": "2020-10-06T20:50:06.164267Z",
     "iopub.status.busy": "2020-10-06T20:50:06.163235Z",
     "iopub.status.idle": "2020-10-06T20:50:11.430178Z",
     "shell.execute_reply": "2020-10-06T20:50:11.430785Z"
    },
    "papermill": {
     "duration": 5.367516,
     "end_time": "2020-10-06T20:50:11.430944",
     "exception": false,
     "start_time": "2020-10-06T20:50:06.063428",
     "status": "completed"
    },
    "tags": []
   },
   "outputs": [
    {
     "data": {
      "text/plain": [
       "<matplotlib.axes._subplots.AxesSubplot at 0x7f41c12e1cd0>"
      ]
     },
     "execution_count": 58,
     "metadata": {},
     "output_type": "execute_result"
    },
    {
     "data": {
      "image/png": "[encoded data removed]",
      "text/plain": [
       "<Figure size 1224x720 with 2 Axes>"
      ]
     },
     "metadata": {
      "needs_background": "light"
     },
     "output_type": "display_data"
    }
   ],
   "source": [
    "import seaborn as sns\n",
    "plt.figure(figsize=(17,10))\n",
    "sns.heatmap(data.corr(), annot=True, cmap=plt.cm.plasma)"
   ]
  },
  {
   "cell_type": "code",
   "execution_count": 59,
   "metadata": {
    "execution": {
     "iopub.execute_input": "2020-10-06T20:50:11.725255Z",
     "iopub.status.busy": "2020-10-06T20:50:11.723634Z",
     "iopub.status.idle": "2020-10-06T20:50:11.729342Z",
     "shell.execute_reply": "2020-10-06T20:50:11.730415Z"
    },
    "papermill": {
     "duration": 0.183702,
     "end_time": "2020-10-06T20:50:11.730652",
     "exception": false,
     "start_time": "2020-10-06T20:50:11.546950",
     "status": "completed"
    },
    "tags": []
   },
   "outputs": [
    {
     "data": {
      "text/plain": [
       "Index(['Patient', 'Weeks', 'FVC', 'Percent', 'Age', 'Sex', 'SmokingStatus',\n",
       "       'Volume', 'Mean', 'Skew', 'Kurthosis', 'WHERE', 'Confidence',\n",
       "       'Patient_Week', 'min_week', 'vol_bins', 'follow_up_count', 'Age_bins',\n",
       "       'pct_bins', 'min_FVC', 'min_Percent', 'min_pct_bin', 'base_week',\n",
       "       'diff_fvc_prev', 'mean_increase', 'Male', 'Female', 'Ex-smoker',\n",
       "       'Never smoked', 'Currently smokes', 'Median_percent',\n",
       "       'group_pct_median', 'med_pct_bins', 'age', 'BASE', 'week',\n",
       "       'min_Percent_norm', 'group_pct_median_norm'],\n",
       "      dtype='object')"
      ]
     },
     "execution_count": 59,
     "metadata": {},
     "output_type": "execute_result"
    }
   ],
   "source": [
    "data.columns"
   ]
  },
  {
   "cell_type": "code",
   "execution_count": 60,
   "metadata": {
    "execution": {
     "iopub.execute_input": "2020-10-06T20:50:11.989453Z",
     "iopub.status.busy": "2020-10-06T20:50:11.988297Z",
     "iopub.status.idle": "2020-10-06T20:50:12.000022Z",
     "shell.execute_reply": "2020-10-06T20:50:11.999412Z"
    },
    "papermill": {
     "duration": 0.125936,
     "end_time": "2020-10-06T20:50:12.000177",
     "exception": false,
     "start_time": "2020-10-06T20:50:11.874241",
     "status": "completed"
    },
    "tags": []
   },
   "outputs": [],
   "source": [
    "tr = data.loc[data.WHERE=='train']\n",
    "tr_pow=data_pow.loc[data.WHERE=='train']\n",
    "chunk = data.loc[data.WHERE=='val']\n",
    "sub = data.loc[data.WHERE=='test'] #joined with chunk above\n",
    "sub_hi=data_pow.loc[data.WHERE=='test']\n",
    "#del data"
   ]
  },
  {
   "cell_type": "code",
   "execution_count": 61,
   "metadata": {
    "execution": {
     "iopub.execute_input": "2020-10-06T20:50:12.632340Z",
     "iopub.status.busy": "2020-10-06T20:50:12.221448Z",
     "iopub.status.idle": "2020-10-06T20:50:12.707449Z",
     "shell.execute_reply": "2020-10-06T20:50:12.706773Z"
    },
    "papermill": {
     "duration": 0.601399,
     "end_time": "2020-10-06T20:50:12.707597",
     "exception": false,
     "start_time": "2020-10-06T20:50:12.106198",
     "status": "completed"
    },
    "tags": []
   },
   "outputs": [],
   "source": [
    "C1, C2 = tf.constant(70, dtype='float32'), tf.constant(800, dtype=\"float32\")\n",
    "#=============================#\n",
    "def score(y_true, y_pred):\n",
    "    tf.dtypes.cast(y_true, tf.float32)\n",
    "    tf.dtypes.cast(y_pred, tf.float32)\n",
    "    sigma = y_pred[:, 2] - y_pred[:, 0]\n",
    "    fvc_pred = y_pred[:, 1]\n",
    "    \n",
    "    #sigma_clip = sigma + C1\n",
    "    sigma_clip = tf.maximum(sigma, C1)\n",
    "    delta = tf.abs(y_true[:, 0] - fvc_pred)\n",
    "    #print(delta,C2,C1)\n",
    "    delta = tf.minimum(delta, C2)\n",
    "    sq2 = tf.sqrt( tf.dtypes.cast(2, dtype=tf.float32) )\n",
    "    metric = (delta / sigma_clip)*sq2 + tf.math.log(sigma_clip* sq2)\n",
    "    return K.mean(metric)\n",
    "\n",
    "def smooth_L1_loss(y_true, y_pred):\n",
    "    h = tf.keras.losses.Huber(delta=100.)\n",
    "    return h(y_true, y_pred)\n",
    "\n",
    "def qloss(y_true, y_pred):\n",
    "    # Pinball loss for multiple quantiles\n",
    "    #qs = [np.random.uniform(0.06,0.2), np.random.uniform(0.35,0.5), np.random.uniform(0.7,0.8)]\n",
    "    qs = [0.2 , 0.5 , 0.8 ]\n",
    "    q = tf.constant(np.array([qs]), dtype=tf.float32)\n",
    "    q800 = tf.constant(np.array([800.]), dtype=tf.float32)\n",
    "    e = y_true - y_pred\n",
    "    #smooth_L1_loss(y_true,y_pred)\n",
    "    #y_true - y_pred\n",
    "    v = tf.maximum(q*e, (q-1)*e)#+0.2*tf.maximum(q800,e)\n",
    "    return K.mean(v)\n",
    "#=============================#\n",
    "def mloss(_lambda):\n",
    "    def loss(y_true, y_pred):\n",
    "        return _lambda * qloss(y_true, y_pred) + (1 - _lambda)*score(y_true, y_pred)\n",
    "    return loss\n",
    "#=================\n",
    "def make_model(nh):\n",
    "    z = L.Input((nh,), name=\"Patient\")\n",
    "    x = L.Dense(100, activation=\"relu\", name=\"d1\")(z)\n",
    "    #x=L.MaxPool1D()(x)\n",
    "    #x = L.Dense(50, activation=\"relu\", name=\"d2\")(x)\n",
    "    #x=L.MaxPool1D()(x)\n",
    "    x = L.Dense(100, activation=\"relu\", name=\"d3\")(x)\n",
    "    \n",
    "    ''' \n",
    "    batch_size=K.shape(x)[0]\n",
    "    #print(x.shape,batch_size)\n",
    "    x=K.reshape(x,(batch_size,100,1)) \n",
    "    #print(x.shape)\n",
    "    x1=L.MaxPool1D( )(x)\n",
    "    x2=L.AvgPool1D( )( x)\n",
    "    print(x2.shape,x1.shape)\n",
    "    x1=K.reshape(x1,(batch_size,50))   \n",
    "    x2=K.reshape(x2,(batch_size,50)) \n",
    "    x=K.concatenate([x1,x2],axis=1)\n",
    "    x=K.reshape(x,(batch_size,100)) \n",
    "    #print(x.shape)               \n",
    "    #x = L.Dense(100, activation=\"relu\", name=\"d3\")(x)\n",
    "    '''\n",
    "    p1 = L.Dense(3, activation=\"linear\", name=\"p1\")(x)\n",
    "    p2 = L.Dense(3, activation=\"relu\", name=\"p2\")(x)\n",
    "    preds = L.Lambda(lambda x: x[0] + tf.cumsum(x[1], axis=1), \n",
    "                     name=\"preds\")([p1, p2])\n",
    "    \n",
    "    model = M.Model(z, preds, name=\"CNN\")\n",
    "    #model.compile(loss=qloss, optimizer=\"adam\", metrics=[score])\n",
    "    model.compile(loss=mloss(0.6), optimizer=tf.keras.optimizers.Adam(lr=8e-2, beta_1=0.9, beta_2=0.999, \n",
    "                                                                      epsilon=None, decay=0.01, amsgrad=False), \n",
    "                  metrics=[score])\n",
    "    return model"
   ]
  },
  {
   "cell_type": "code",
   "execution_count": 62,
   "metadata": {
    "execution": {
     "iopub.execute_input": "2020-10-06T20:50:12.931408Z",
     "iopub.status.busy": "2020-10-06T20:50:12.930187Z",
     "iopub.status.idle": "2020-10-06T20:50:12.945758Z",
     "shell.execute_reply": "2020-10-06T20:50:12.945155Z"
    },
    "papermill": {
     "duration": 0.133323,
     "end_time": "2020-10-06T20:50:12.945900",
     "exception": false,
     "start_time": "2020-10-06T20:50:12.812577",
     "status": "completed"
    },
    "tags": []
   },
   "outputs": [],
   "source": [
    "y_low = tr['FVC'].values.astype(np.float)\n",
    "z_low = tr[FE_low].values\n",
    "ze_low = sub[FE_low].values\n",
    "nh1 = z_low.shape[1]\n",
    "\n",
    "y_hi = tr_pow['FVC'].values.astype(np.float)\n",
    "z_hi = tr_pow[FE_hi].values\n",
    "ze_hi = sub_hi[FE_hi].values\n",
    "nh2 = z_hi.shape[1] \n",
    "\n",
    "y_pyt = tr['FVC'].values.astype(np.float)\n",
    "z_pyt = tr[FE_pyt].values\n",
    "ze_pyt = sub[FE_pyt].values\n",
    " \n",
    "\n",
    "y_med = tr['FVC'].values.astype(np.float)\n",
    "z_med = tr[FE_med].values\n",
    "ze_med = sub[FE_med].values\n",
    "nh3 = z_med.shape[1] "
   ]
  },
  {
   "cell_type": "code",
   "execution_count": 63,
   "metadata": {
    "execution": {
     "iopub.execute_input": "2020-10-06T20:50:13.200900Z",
     "iopub.status.busy": "2020-10-06T20:50:13.199748Z",
     "iopub.status.idle": "2020-10-06T20:50:13.207010Z",
     "shell.execute_reply": "2020-10-06T20:50:13.206134Z"
    },
    "papermill": {
     "duration": 0.156157,
     "end_time": "2020-10-06T20:50:13.207236",
     "exception": false,
     "start_time": "2020-10-06T20:50:13.051079",
     "status": "completed"
    },
    "tags": []
   },
   "outputs": [],
   "source": [
    "NFOLD = 5\n",
    "kf = KFold(n_splits=NFOLD)"
   ]
  },
  {
   "cell_type": "code",
   "execution_count": 64,
   "metadata": {
    "execution": {
     "iopub.execute_input": "2020-10-06T20:50:13.576565Z",
     "iopub.status.busy": "2020-10-06T20:50:13.571932Z",
     "iopub.status.idle": "2020-10-06T20:54:29.797915Z",
     "shell.execute_reply": "2020-10-06T20:54:29.797186Z"
    },
    "papermill": {
     "duration": 256.433635,
     "end_time": "2020-10-06T20:54:29.798087",
     "exception": false,
     "start_time": "2020-10-06T20:50:13.364452",
     "status": "completed"
    },
    "tags": []
   },
   "outputs": [
    {
     "name": "stdout",
     "output_type": "stream",
     "text": [
      "FOLD 1\n",
      "train [39.48667526245117, 6.691788673400879]\n",
      "val [44.24418640136719, 6.858059406280518]\n",
      "predict val...\n",
      "predict test... 5\n",
      "FOLD 2\n",
      "train [39.7991943359375, 6.688143253326416]\n",
      "val [38.23630142211914, 6.655994415283203]\n",
      "predict val...\n",
      "predict test... 5\n",
      "FOLD 3\n",
      "train [35.642333984375, 6.552924156188965]\n",
      "val [53.22988510131836, 6.889411926269531]\n",
      "predict val...\n",
      "predict test... 5\n",
      "FOLD 4\n",
      "train [40.84168243408203, 6.71117639541626]\n",
      "val [33.873390197753906, 6.556999683380127]\n",
      "predict val...\n",
      "predict test... 5\n",
      "FOLD 5\n",
      "train [39.25, 6.659409523010254]\n",
      "val [39.937129974365234, 6.7261176109313965]\n",
      "predict val...\n",
      "predict test... 5\n",
      "CPU times: user 4min 45s, sys: 22.2 s, total: 5min 8s\n",
      "Wall time: 4min 16s\n"
     ]
    }
   ],
   "source": [
    "%%time\n",
    "cnt = 0\n",
    "EPOCHS =800\n",
    "\n",
    "\n",
    "from keras.callbacks import EarlyStopping,ModelCheckpoint\n",
    "#earlyStopping =  EarlyStopping(monitor='val_loss', patience=100, verbose=0, mode='min')\n",
    "pred_rounds=[]\n",
    "for r in range(1):\n",
    "    #NFOLD=0\n",
    "    pe_low = np.zeros((ze_low.shape[0], 3))\n",
    "    pred_low = np.zeros((z_low.shape[0], 3))\n",
    "    \n",
    "    for tr_idx, val_idx in kf.split(z_low):\n",
    "        #checkpoint = ModelCheckpoint('{cnt}_bestmodel.pth', monitor='val_loss', verbose=1, save_best_only=True, \n",
    "        #                         mode='auto')\n",
    "\n",
    "        cnt += 1\n",
    "        #filepath=f'{cnt}_bestmodel.hdf5'\n",
    "        #checkpoint = ModelCheckpoint(filepath, monitor='val_score', verbose=0, save_best_only=True, mode='min')\n",
    "        print(f\"FOLD {cnt}\")\n",
    "\n",
    "        tr_arry=z_low[tr_idx]\n",
    "        val=z_low[val_idx]\n",
    "        y_tr=y_low[tr_idx]\n",
    "        y_val=y_low[val_idx]\n",
    "        net = make_model(nh1)\n",
    "        net.fit(tr_arry, y_tr, batch_size=BATCH_SIZE, epochs=EPOCHS, #callbacks=[checkpoint],\n",
    "\n",
    "                validation_data=(val, y_val), verbose=0) #\n",
    "        print(\"train\", net.evaluate(tr_arry, y_tr, verbose=0, batch_size=BATCH_SIZE))\n",
    "        print(\"val\", net.evaluate(val, y_val, verbose=0, batch_size=BATCH_SIZE))\n",
    "        print(\"predict val...\")\n",
    "        #net.load_model('/kaggle/working/'+f'{cnt}_bestmodel.pth')\n",
    "        #net.load_weights(filepath)\n",
    "        pred_low[val_idx] = net.predict(val, batch_size=BATCH_SIZE, verbose=0)\n",
    "        print(\"predict test...\",NFOLD)\n",
    "        pe_low += net.predict(ze_low, batch_size=BATCH_SIZE, verbose=0) / NFOLD\n",
    "    #pred_rounds.append(pe)\n",
    "#=============="
   ]
  },
  {
   "cell_type": "code",
   "execution_count": 65,
   "metadata": {
    "execution": {
     "iopub.execute_input": "2020-10-06T20:54:30.028412Z",
     "iopub.status.busy": "2020-10-06T20:54:30.026466Z",
     "iopub.status.idle": "2020-10-06T20:58:48.738099Z",
     "shell.execute_reply": "2020-10-06T20:58:48.737016Z"
    },
    "papermill": {
     "duration": 258.831568,
     "end_time": "2020-10-06T20:58:48.738296",
     "exception": false,
     "start_time": "2020-10-06T20:54:29.906728",
     "status": "completed"
    },
    "tags": []
   },
   "outputs": [
    {
     "name": "stdout",
     "output_type": "stream",
     "text": [
      "FOLD 1\n",
      "train [38.76130676269531, 6.689312934875488]\n",
      "val [42.3601188659668, 6.829736709594727]\n",
      "predict val...\n",
      "predict test... 5\n",
      "FOLD 2\n",
      "train [38.77976989746094, 6.672355651855469]\n",
      "val [38.127288818359375, 6.654741287231445]\n",
      "predict val...\n",
      "predict test... 5\n",
      "FOLD 3\n",
      "train [35.6963005065918, 6.572758674621582]\n",
      "val [51.97804641723633, 6.8511061668396]\n",
      "predict val...\n",
      "predict test... 5\n",
      "FOLD 4\n",
      "train [39.53409194946289, 6.714964389801025]\n",
      "val [36.27939224243164, 6.630760192871094]\n",
      "predict val...\n",
      "predict test... 5\n",
      "FOLD 5\n",
      "train [38.485225677490234, 6.646700859069824]\n",
      "val [39.0633659362793, 6.722283840179443]\n",
      "predict val...\n",
      "predict test... 5\n",
      "CPU times: user 4min 49s, sys: 21.8 s, total: 5min 11s\n",
      "Wall time: 4min 18s\n"
     ]
    }
   ],
   "source": [
    "%%time\n",
    "cnt = 0\n",
    "EPOCHS =800\n",
    "\n",
    "\n",
    "from keras.callbacks import EarlyStopping,ModelCheckpoint\n",
    "#earlyStopping =  EarlyStopping(monitor='val_loss', patience=100, verbose=0, mode='min')\n",
    "pred_rounds=[]\n",
    "for r in range(1):\n",
    "    #NFOLD=0\n",
    "    pe_med = np.zeros((ze_med.shape[0], 3))\n",
    "    pred_med = np.zeros((z_med.shape[0], 3))\n",
    "    \n",
    "    for tr_idx, val_idx in kf.split(z_med):\n",
    "        #checkpoint = ModelCheckpoint('{cnt}_bestmodel.pth', monitor='val_loss', verbose=1, save_best_only=True, \n",
    "        #                         mode='auto')\n",
    "\n",
    "        cnt += 1\n",
    "        #filepath=f'{cnt}_bestmodel.hdf5'\n",
    "        #checkpoint = ModelCheckpoint(filepath, monitor='val_score', verbose=0, save_best_only=True, mode='min')\n",
    "        print(f\"FOLD {cnt}\")\n",
    "\n",
    "        tr_arry=z_med[tr_idx]\n",
    "        val=z_med[val_idx]\n",
    "        y_tr=y_med[tr_idx]\n",
    "        y_val=y_med[val_idx]\n",
    "        net = make_model(nh3)\n",
    "        net.fit(tr_arry, y_tr, batch_size=BATCH_SIZE, epochs=EPOCHS, #callbacks=[checkpoint],\n",
    "\n",
    "                validation_data=(val, y_val), verbose=0) #\n",
    "        print(\"train\", net.evaluate(tr_arry, y_tr, verbose=0, batch_size=BATCH_SIZE))\n",
    "        print(\"val\", net.evaluate(val, y_val, verbose=0, batch_size=BATCH_SIZE))\n",
    "        print(\"predict val...\")\n",
    "        #net.load_model('/kaggle/working/'+f'{cnt}_bestmodel.pth')\n",
    "        #net.load_weights(filepath)\n",
    "        pred_med[val_idx] = net.predict(val, batch_size=BATCH_SIZE, verbose=0)\n",
    "        print(\"predict test...\",NFOLD)\n",
    "        pe_med+= net.predict(ze_med, batch_size=BATCH_SIZE, verbose=0) / NFOLD\n",
    "    #pred_rounds.append(pe)\n",
    "#=============="
   ]
  },
  {
   "cell_type": "code",
   "execution_count": 66,
   "metadata": {
    "execution": {
     "iopub.execute_input": "2020-10-06T20:58:48.980612Z",
     "iopub.status.busy": "2020-10-06T20:58:48.978548Z",
     "iopub.status.idle": "2020-10-06T21:03:04.390157Z",
     "shell.execute_reply": "2020-10-06T21:03:04.391139Z"
    },
    "papermill": {
     "duration": 255.539496,
     "end_time": "2020-10-06T21:03:04.391392",
     "exception": false,
     "start_time": "2020-10-06T20:58:48.851896",
     "status": "completed"
    },
    "tags": []
   },
   "outputs": [
    {
     "name": "stdout",
     "output_type": "stream",
     "text": [
      "FOLD 1\n",
      "train [1.8866376876831055, 4.598831653594971]\n",
      "val [1.8924391269683838, 4.599450588226318]\n",
      "predict val...\n",
      "predict test... 5\n",
      "FOLD 2\n",
      "train [1.8793745040893555, 4.598298072814941]\n",
      "val [1.901677131652832, 4.599924564361572]\n",
      "predict val...\n",
      "predict test... 5\n",
      "FOLD 3\n",
      "train [1.8797193765640259, 4.598349571228027]\n",
      "val [1.9268357753753662, 4.601089954376221]\n",
      "predict val...\n",
      "predict test... 5\n",
      "FOLD 4\n",
      "train [1.8873720169067383, 4.59890079498291]\n",
      "val [1.8889422416687012, 4.598948001861572]\n",
      "predict val...\n",
      "predict test... 5\n",
      "FOLD 5\n",
      "train [1.8855596780776978, 4.598734378814697]\n",
      "val [1.9025477170944214, 4.599823951721191]\n",
      "predict val...\n",
      "predict test... 5\n",
      "CPU times: user 4min 45s, sys: 21.5 s, total: 5min 7s\n",
      "Wall time: 4min 15s\n"
     ]
    }
   ],
   "source": [
    "%%time\n",
    "cnt = 0\n",
    "EPOCHS =800\n",
    "\n",
    "\n",
    "from keras.callbacks import EarlyStopping,ModelCheckpoint\n",
    "#earlyStopping =  EarlyStopping(monitor='val_loss', patience=100, verbose=0, mode='min')\n",
    "pred_rounds=[]\n",
    "for r in range(1):\n",
    "    #NFOLD=0\n",
    "    pe_hi = np.zeros((ze_hi.shape[0], 3))\n",
    "    pred_hi = np.zeros((z_hi.shape[0], 3))\n",
    "    \n",
    "    for tr_idx, val_idx in kf.split(z_hi):\n",
    "        #checkpoint = ModelCheckpoint('{cnt}_bestmodel.pth', monitor='val_loss', verbose=1, save_best_only=True, \n",
    "        #                         mode='auto')\n",
    "\n",
    "        cnt += 1\n",
    "        #filepath=f'{cnt}_bestmodel.hdf5'\n",
    "        #checkpoint = ModelCheckpoint(filepath, monitor='val_score', verbose=0, save_best_only=True, mode='min')\n",
    "        print(f\"FOLD {cnt}\")\n",
    "\n",
    "        tr_arry=z_hi[tr_idx]\n",
    "        val=z_hi[val_idx]\n",
    "        y_tr=y_hi[tr_idx]\n",
    "        y_val=y_hi[val_idx]\n",
    "        net = make_model(nh2)\n",
    "        net.fit(tr_arry, y_tr, batch_size=BATCH_SIZE, epochs=EPOCHS, #callbacks=[checkpoint],\n",
    "\n",
    "                validation_data=(val, y_val), verbose=0) #\n",
    "        print(\"train\", net.evaluate(tr_arry, y_tr, verbose=0, batch_size=BATCH_SIZE))\n",
    "        print(\"val\", net.evaluate(val, y_val, verbose=0, batch_size=BATCH_SIZE))\n",
    "        print(\"predict val...\")\n",
    "        #net.load_model('/kaggle/working/'+f'{cnt}_bestmodel.pth')\n",
    "        #net.load_weights(filepath)\n",
    "        pred_hi[val_idx] = net.predict(val, batch_size=BATCH_SIZE, verbose=0)\n",
    "        print(\"predict test...\",NFOLD)\n",
    "        pe_hi += net.predict(ze_hi, batch_size=BATCH_SIZE, verbose=0) / NFOLD\n",
    "    #pred_rounds.append(pe)\n",
    "#=============="
   ]
  },
  {
   "cell_type": "code",
   "execution_count": 67,
   "metadata": {
    "execution": {
     "iopub.execute_input": "2020-10-06T21:03:04.668744Z",
     "iopub.status.busy": "2020-10-06T21:03:04.666413Z",
     "iopub.status.idle": "2020-10-06T21:03:04.673105Z",
     "shell.execute_reply": "2020-10-06T21:03:04.672073Z"
    },
    "papermill": {
     "duration": 0.140323,
     "end_time": "2020-10-06T21:03:04.673308",
     "exception": false,
     "start_time": "2020-10-06T21:03:04.532985",
     "status": "completed"
    },
    "tags": []
   },
   "outputs": [
    {
     "name": "stdout",
     "output_type": "stream",
     "text": [
      "153.44435239909913 255.24709838469565\n",
      "0.24023926235793244 0.3023938111014397\n",
      "153.40584339054865 260.30063635611765\n"
     ]
    }
   ],
   "source": [
    "sigma_opt = mean_absolute_error(y_low, pred_low[:, 1])\n",
    "unc = pred_low[:,2] - pred_low[:, 0]\n",
    "sigma_mean = np.mean(unc)\n",
    "print(sigma_opt, sigma_mean)\n",
    "\n",
    "sigma_opt = mean_absolute_error(y_hi, pred_hi[:, 1])\n",
    "unc = pred_hi[:,2] - pred_hi[:, 0]\n",
    "sigma_mean = np.mean(unc)\n",
    "print(sigma_opt, sigma_mean)\n",
    "\n",
    "\n",
    "sigma_opt = mean_absolute_error(y_med, pred_med[:, 1])\n",
    "unc = pred_med[:,2] - pred_med[:, 0]\n",
    "sigma_mean = np.mean(unc)\n",
    "print(sigma_opt, sigma_mean)"
   ]
  },
  {
   "cell_type": "code",
   "execution_count": 68,
   "metadata": {
    "execution": {
     "iopub.execute_input": "2020-10-06T21:03:04.924636Z",
     "iopub.status.busy": "2020-10-06T21:03:04.923618Z",
     "iopub.status.idle": "2020-10-06T21:03:04.928678Z",
     "shell.execute_reply": "2020-10-06T21:03:04.929302Z"
    },
    "papermill": {
     "duration": 0.130319,
     "end_time": "2020-10-06T21:03:04.929459",
     "exception": false,
     "start_time": "2020-10-06T21:03:04.799140",
     "status": "completed"
    },
    "tags": []
   },
   "outputs": [
    {
     "name": "stdout",
     "output_type": "stream",
     "text": [
      "157.93603515625 260.30063635611765 398.328369140625 1.0\n"
     ]
    }
   ],
   "source": [
    "print(unc.min(), unc.mean(), unc.max(), (unc>=0).mean())"
   ]
  },
  {
   "cell_type": "code",
   "execution_count": 69,
   "metadata": {
    "execution": {
     "iopub.execute_input": "2020-10-06T21:03:05.183048Z",
     "iopub.status.busy": "2020-10-06T21:03:05.181943Z",
     "iopub.status.idle": "2020-10-06T21:03:05.197372Z",
     "shell.execute_reply": "2020-10-06T21:03:05.198328Z"
    },
    "papermill": {
     "duration": 0.146609,
     "end_time": "2020-10-06T21:03:05.198585",
     "exception": false,
     "start_time": "2020-10-06T21:03:05.051976",
     "status": "completed"
    },
    "tags": []
   },
   "outputs": [
    {
     "name": "stderr",
     "output_type": "stream",
     "text": [
      "/opt/conda/lib/python3.7/site-packages/ipykernel_launcher.py:1: SettingWithCopyWarning: \n",
      "A value is trying to be set on a copy of a slice from a DataFrame.\n",
      "Try using .loc[row_indexer,col_indexer] = value instead\n",
      "\n",
      "See the caveats in the documentation: https://pandas.pydata.org/pandas-docs/stable/user_guide/indexing.html#returning-a-view-versus-a-copy\n",
      "  \"\"\"Entry point for launching an IPython kernel.\n",
      "/opt/conda/lib/python3.7/site-packages/ipykernel_launcher.py:5: SettingWithCopyWarning: \n",
      "A value is trying to be set on a copy of a slice from a DataFrame.\n",
      "Try using .loc[row_indexer,col_indexer] = value instead\n",
      "\n",
      "See the caveats in the documentation: https://pandas.pydata.org/pandas-docs/stable/user_guide/indexing.html#returning-a-view-versus-a-copy\n",
      "  \"\"\"\n",
      "/opt/conda/lib/python3.7/site-packages/ipykernel_launcher.py:9: SettingWithCopyWarning: \n",
      "A value is trying to be set on a copy of a slice from a DataFrame.\n",
      "Try using .loc[row_indexer,col_indexer] = value instead\n",
      "\n",
      "See the caveats in the documentation: https://pandas.pydata.org/pandas-docs/stable/user_guide/indexing.html#returning-a-view-versus-a-copy\n",
      "  if __name__ == '__main__':\n",
      "/opt/conda/lib/python3.7/site-packages/ipykernel_launcher.py:10: SettingWithCopyWarning: \n",
      "A value is trying to be set on a copy of a slice from a DataFrame.\n",
      "Try using .loc[row_indexer,col_indexer] = value instead\n",
      "\n",
      "See the caveats in the documentation: https://pandas.pydata.org/pandas-docs/stable/user_guide/indexing.html#returning-a-view-versus-a-copy\n",
      "  # Remove the CWD from sys.path while we load stuff.\n"
     ]
    }
   ],
   "source": [
    "sub_hi['FVC1'] =scaler_train_Fvc.inverse_transform((pe_hi[:, 1] ).reshape(-1,1))\n",
    "pe2=scaler_train_Fvc.inverse_transform((pe_hi[:, 2] ).reshape(-1,1))\n",
    "pe1=scaler_train_Fvc.inverse_transform((pe_hi[:,0]).reshape(-1,1))\n",
    "                                       \n",
    "sub_hi['Confidence1'] =  pe2-pe1\n",
    "\n",
    "\n",
    "\n",
    "sub['FVC1']=pe_low[:, 1]*0.5+ pe_med[:, 1]*0.5\n",
    "sub['Confidence1'] = (pe_low[:, 2] - pe_low[:, 0])*0.5 +(pe_med[:, 2] - pe_med[:, 0])*0.5  #*1.05\n",
    "\n",
    " \n",
    "#sub['FVC1'] = 0.996*pred[:, 1]\n",
    "#sub['Confidence1'] = pred[:, 2] - pred[:, 0]"
   ]
  },
  {
   "cell_type": "code",
   "execution_count": 70,
   "metadata": {
    "execution": {
     "iopub.execute_input": "2020-10-06T21:03:05.448619Z",
     "iopub.status.busy": "2020-10-06T21:03:05.447327Z",
     "iopub.status.idle": "2020-10-06T21:03:05.454331Z",
     "shell.execute_reply": "2020-10-06T21:03:05.454859Z"
    },
    "papermill": {
     "duration": 0.135127,
     "end_time": "2020-10-06T21:03:05.455055",
     "exception": false,
     "start_time": "2020-10-06T21:03:05.319928",
     "status": "completed"
    },
    "tags": []
   },
   "outputs": [],
   "source": [
    "subm = sub[['Patient_Week','FVC','Confidence','FVC1','Confidence1']].copy()\n",
    "subm_hi = sub_hi[['Patient_Week','FVC','Confidence','FVC1','Confidence1']].copy()"
   ]
  },
  {
   "cell_type": "code",
   "execution_count": 71,
   "metadata": {
    "execution": {
     "iopub.execute_input": "2020-10-06T21:03:05.708665Z",
     "iopub.status.busy": "2020-10-06T21:03:05.707668Z",
     "iopub.status.idle": "2020-10-06T21:03:05.711872Z",
     "shell.execute_reply": "2020-10-06T21:03:05.711269Z"
    },
    "papermill": {
     "duration": 0.137885,
     "end_time": "2020-10-06T21:03:05.711995",
     "exception": false,
     "start_time": "2020-10-06T21:03:05.574110",
     "status": "completed"
    },
    "tags": []
   },
   "outputs": [],
   "source": [
    "subm.loc[~subm.FVC1.isnull(),'FVC'] = subm.loc[~subm.FVC1.isnull(),'FVC1']\n",
    "\n",
    "subm['Confidence1'] =subm.Confidence1.apply(lambda x: 70. if x <70 else x)\n",
    "subm.loc[~subm.FVC1.isnull(),'Confidence'] = subm.loc[~subm.FVC1.isnull(),'Confidence1']"
   ]
  },
  {
   "cell_type": "code",
   "execution_count": 72,
   "metadata": {
    "execution": {
     "iopub.execute_input": "2020-10-06T21:03:05.967605Z",
     "iopub.status.busy": "2020-10-06T21:03:05.965369Z",
     "iopub.status.idle": "2020-10-06T21:03:05.968536Z",
     "shell.execute_reply": "2020-10-06T21:03:05.969122Z"
    },
    "papermill": {
     "duration": 0.138204,
     "end_time": "2020-10-06T21:03:05.969275",
     "exception": false,
     "start_time": "2020-10-06T21:03:05.831071",
     "status": "completed"
    },
    "tags": []
   },
   "outputs": [],
   "source": [
    "subm_hi.loc[~subm_hi.FVC1.isnull(),'FVC'] = subm_hi.loc[~subm_hi.FVC1.isnull(),'FVC1']\n",
    "subm_hi['Confidence1'] =subm_hi.Confidence1.apply(lambda x: 70. if x <70 else x)\n",
    "subm_hi.loc[~subm_hi.FVC1.isnull(),'Confidence'] = subm_hi.loc[~subm_hi.FVC1.isnull(),'Confidence1']"
   ]
  },
  {
   "cell_type": "code",
   "execution_count": 73,
   "metadata": {
    "execution": {
     "iopub.execute_input": "2020-10-06T21:03:06.223163Z",
     "iopub.status.busy": "2020-10-06T21:03:06.222099Z",
     "iopub.status.idle": "2020-10-06T21:03:06.225454Z",
     "shell.execute_reply": "2020-10-06T21:03:06.225981Z"
    },
    "papermill": {
     "duration": 0.135054,
     "end_time": "2020-10-06T21:03:06.226161",
     "exception": false,
     "start_time": "2020-10-06T21:03:06.091107",
     "status": "completed"
    },
    "tags": []
   },
   "outputs": [],
   "source": [
    "def laplace_log_likelihood_oof(df, pred_col,\n",
    "                               confidence_col,\n",
    "                               return_values = False):\n",
    "    \"\"\"\n",
    "    Calculates the modified Laplace Log Likelihood score for this competition.\n",
    "    \"\"\"\n",
    "    df = df.copy()\n",
    "    df['Patient_Week'] = df['Patient'] + '_' + df['Weeks'].astype('str')\n",
    "    df = df.loc[df['Patient_Week'].isin(final3)]\n",
    "    actual_fvc = df['FVC']\n",
    "    predicted_fvc = df[pred_col]\n",
    "    confidence=df[confidence_col]  \n",
    "    sd_clipped = np.maximum(confidence, 70)\n",
    "    delta = np.minimum(np.abs(actual_fvc - predicted_fvc), 1000)\n",
    "    metric = - np.sqrt(2) * delta / sd_clipped - np.log(np.sqrt(2) * sd_clipped)\n",
    "\n",
    "    if return_values:\n",
    "        return metric\n",
    "    else:\n",
    "        return np.mean(metric)"
   ]
  },
  {
   "cell_type": "code",
   "execution_count": 74,
   "metadata": {
    "execution": {
     "iopub.execute_input": "2020-10-06T21:03:06.479768Z",
     "iopub.status.busy": "2020-10-06T21:03:06.478771Z",
     "iopub.status.idle": "2020-10-06T21:03:06.482437Z",
     "shell.execute_reply": "2020-10-06T21:03:06.482965Z"
    },
    "papermill": {
     "duration": 0.136209,
     "end_time": "2020-10-06T21:03:06.483144",
     "exception": false,
     "start_time": "2020-10-06T21:03:06.346935",
     "status": "completed"
    },
    "tags": []
   },
   "outputs": [],
   "source": [
    "oof_df = tr[['Patient','Weeks','FVC']].copy()\n",
    "oof_df['FVC1'] = pred_low[:, 1]*0.5+ pred_med[:, 1]*0.5\n",
    "oof_df['Confidence1'] = (pred_low[:, 2] - pred_low[:, 0])*0.5 +(pred_med[:, 2] - pred_med[:, 0])*0.5  #*1.05"
   ]
  },
  {
   "cell_type": "code",
   "execution_count": 75,
   "metadata": {
    "execution": {
     "iopub.execute_input": "2020-10-06T21:03:06.734768Z",
     "iopub.status.busy": "2020-10-06T21:03:06.733629Z",
     "iopub.status.idle": "2020-10-06T21:03:06.752100Z",
     "shell.execute_reply": "2020-10-06T21:03:06.751461Z"
    },
    "papermill": {
     "duration": 0.149269,
     "end_time": "2020-10-06T21:03:06.752239",
     "exception": false,
     "start_time": "2020-10-06T21:03:06.602970",
     "status": "completed"
    },
    "tags": []
   },
   "outputs": [],
   "source": [
    "otest = pd.read_csv('../input/osic-pulmonary-fibrosis-progression/test.csv')\n",
    "for i in range(len(otest)):\n",
    "    subm.loc[subm['Patient_Week']==otest.Patient[i]+'_'+str(otest.Weeks[i]), 'FVC'] = otest.FVC[i]\n",
    "    subm.loc[subm['Patient_Week']==otest.Patient[i]+'_'+str(otest.Weeks[i]), 'Confidence'] = 0.1"
   ]
  },
  {
   "cell_type": "code",
   "execution_count": 76,
   "metadata": {
    "execution": {
     "iopub.execute_input": "2020-10-06T21:03:07.015627Z",
     "iopub.status.busy": "2020-10-06T21:03:07.014673Z",
     "iopub.status.idle": "2020-10-06T21:03:07.019730Z",
     "shell.execute_reply": "2020-10-06T21:03:07.019145Z"
    },
    "papermill": {
     "duration": 0.147805,
     "end_time": "2020-10-06T21:03:07.019866",
     "exception": false,
     "start_time": "2020-10-06T21:03:06.872061",
     "status": "completed"
    },
    "tags": []
   },
   "outputs": [],
   "source": [
    "otest = pd.read_csv('../input/osic-pulmonary-fibrosis-progression/test.csv')\n",
    "for i in range(len(otest)):\n",
    "    subm_hi.loc[subm_hi['Patient_Week']==otest.Patient[i]+'_'+str(otest.Weeks[i]), 'FVC'] = otest.FVC[i]\n",
    "    subm_hi.loc[subm_hi['Patient_Week']==otest.Patient[i]+'_'+str(otest.Weeks[i]), 'Confidence'] = 0.1"
   ]
  },
  {
   "cell_type": "code",
   "execution_count": 77,
   "metadata": {
    "execution": {
     "iopub.execute_input": "2020-10-06T21:03:07.272393Z",
     "iopub.status.busy": "2020-10-06T21:03:07.271285Z",
     "iopub.status.idle": "2020-10-06T21:03:07.279548Z",
     "shell.execute_reply": "2020-10-06T21:03:07.280200Z"
    },
    "papermill": {
     "duration": 0.138478,
     "end_time": "2020-10-06T21:03:07.280363",
     "exception": false,
     "start_time": "2020-10-06T21:03:07.141885",
     "status": "completed"
    },
    "tags": []
   },
   "outputs": [],
   "source": [
    "final3 = (tr.groupby('Patient').tail(3)['Patient'] + '_' + tr.groupby('Patient').tail(3)['Weeks'].astype('str')).values"
   ]
  },
  {
   "cell_type": "code",
   "execution_count": 78,
   "metadata": {
    "execution": {
     "iopub.execute_input": "2020-10-06T21:03:07.540053Z",
     "iopub.status.busy": "2020-10-06T21:03:07.538018Z",
     "iopub.status.idle": "2020-10-06T21:03:07.543509Z",
     "shell.execute_reply": "2020-10-06T21:03:07.542732Z"
    },
    "papermill": {
     "duration": 0.143175,
     "end_time": "2020-10-06T21:03:07.543653",
     "exception": false,
     "start_time": "2020-10-06T21:03:07.400478",
     "status": "completed"
    },
    "tags": []
   },
   "outputs": [
    {
     "name": "stdout",
     "output_type": "stream",
     "text": [
      "OOF Score 1: -7.00124\n"
     ]
    }
   ],
   "source": [
    "oof_score1 = laplace_log_likelihood_oof(oof_df, 'FVC1','Confidence1')\n",
    "print(f'OOF Score 1: {oof_score1:0.5f}')"
   ]
  },
  {
   "cell_type": "code",
   "execution_count": 79,
   "metadata": {
    "execution": {
     "iopub.execute_input": "2020-10-06T21:03:07.814960Z",
     "iopub.status.busy": "2020-10-06T21:03:07.813727Z",
     "iopub.status.idle": "2020-10-06T21:03:08.307764Z",
     "shell.execute_reply": "2020-10-06T21:03:08.307115Z"
    },
    "papermill": {
     "duration": 0.637918,
     "end_time": "2020-10-06T21:03:08.307896",
     "exception": false,
     "start_time": "2020-10-06T21:03:07.669978",
     "status": "completed"
    },
    "tags": []
   },
   "outputs": [
    {
     "ename": "NameError",
     "evalue": "name 'df4' is not defined",
     "output_type": "error",
     "traceback": [
      "\u001b[0;31m---------------------------------------------------------------------------\u001b[0m",
      "\u001b[0;31mNameError\u001b[0m                                 Traceback (most recent call last)",
      "\u001b[0;32m<ipython-input-79-e9ae58f210e4>\u001b[0m in \u001b[0;36m<module>\u001b[0;34m\u001b[0m\n\u001b[0;32m----> 1\u001b[0;31m \u001b[0mdf4\u001b[0m\u001b[0;34m\u001b[0m\u001b[0;34m\u001b[0m\u001b[0m\n\u001b[0m",
      "\u001b[0;31mNameError\u001b[0m: name 'df4' is not defined"
     ]
    }
   ],
   "source": [
    "df4"
   ]
  },
  {
   "cell_type": "code",
   "execution_count": 80,
   "metadata": {
    "execution": {
     "iopub.execute_input": "2020-10-06T21:03:08.566246Z",
     "iopub.status.busy": "2020-10-06T21:03:08.565109Z",
     "iopub.status.idle": "2020-10-06T21:03:08.594200Z",
     "shell.execute_reply": "2020-10-06T21:03:08.593499Z"
    },
    "papermill": {
     "duration": 0.164673,
     "end_time": "2020-10-06T21:03:08.594352",
     "exception": false,
     "start_time": "2020-10-06T21:03:08.429679",
     "status": "completed"
    },
    "tags": []
   },
   "outputs": [
    {
     "data": {
      "text/html": [
       "<div>\n",
       "<style scoped>\n",
       "    .dataframe tbody tr th:only-of-type {\n",
       "        vertical-align: middle;\n",
       "    }\n",
       "\n",
       "    .dataframe tbody tr th {\n",
       "        vertical-align: top;\n",
       "    }\n",
       "\n",
       "    .dataframe thead th {\n",
       "        text-align: right;\n",
       "    }\n",
       "</style>\n",
       "<table border=\"1\" class=\"dataframe\">\n",
       "  <thead>\n",
       "    <tr style=\"text-align: right;\">\n",
       "      <th></th>\n",
       "      <th>Patient_Week</th>\n",
       "      <th>FVC</th>\n",
       "      <th>Confidence</th>\n",
       "    </tr>\n",
       "  </thead>\n",
       "  <tbody>\n",
       "    <tr>\n",
       "      <th>0</th>\n",
       "      <td>ID00419637202311204720264_-12</td>\n",
       "      <td>3139.981531</td>\n",
       "      <td>229.893470</td>\n",
       "    </tr>\n",
       "    <tr>\n",
       "      <th>1</th>\n",
       "      <td>ID00419637202311204720264_-11</td>\n",
       "      <td>3135.120998</td>\n",
       "      <td>230.183826</td>\n",
       "    </tr>\n",
       "    <tr>\n",
       "      <th>2</th>\n",
       "      <td>ID00419637202311204720264_-10</td>\n",
       "      <td>3129.394508</td>\n",
       "      <td>230.945739</td>\n",
       "    </tr>\n",
       "    <tr>\n",
       "      <th>3</th>\n",
       "      <td>ID00419637202311204720264_-9</td>\n",
       "      <td>3124.540161</td>\n",
       "      <td>234.724408</td>\n",
       "    </tr>\n",
       "    <tr>\n",
       "      <th>4</th>\n",
       "      <td>ID00419637202311204720264_-8</td>\n",
       "      <td>3117.400257</td>\n",
       "      <td>235.829856</td>\n",
       "    </tr>\n",
       "  </tbody>\n",
       "</table>\n",
       "</div>"
      ],
      "text/plain": [
       "                    Patient_Week          FVC  Confidence\n",
       "0  ID00419637202311204720264_-12  3139.981531  229.893470\n",
       "1  ID00419637202311204720264_-11  3135.120998  230.183826\n",
       "2  ID00419637202311204720264_-10  3129.394508  230.945739\n",
       "3   ID00419637202311204720264_-9  3124.540161  234.724408\n",
       "4   ID00419637202311204720264_-8  3117.400257  235.829856"
      ]
     },
     "execution_count": 80,
     "metadata": {},
     "output_type": "execute_result"
    }
   ],
   "source": [
    "df4 = pd.merge(subm[['Patient_Week','FVC','Confidence']],subm_hi[['Patient_Week','FVC','Confidence']],on='Patient_Week')\n",
    "df4['Confidence'] = (2*df4['Confidence_x'] + df4['Confidence_y'])/3.0\n",
    "df4['FVC'] = (2*df4['FVC_x'] + df4['FVC_y'])/3.0\n",
    "df4 = df4[['Patient_Week','FVC','Confidence']]\n",
    "df4.to_csv('submission4.csv', index=False)\n",
    "df4.head()"
   ]
  },
  {
   "cell_type": "code",
   "execution_count": 81,
   "metadata": {
    "execution": {
     "iopub.execute_input": "2020-10-06T21:03:09.086246Z",
     "iopub.status.busy": "2020-10-06T21:03:09.085086Z",
     "iopub.status.idle": "2020-10-06T21:03:09.122022Z",
     "shell.execute_reply": "2020-10-06T21:03:09.123663Z"
    },
    "papermill": {
     "duration": 0.287809,
     "end_time": "2020-10-06T21:03:09.123926",
     "exception": false,
     "start_time": "2020-10-06T21:03:08.836117",
     "status": "completed"
    },
    "tags": []
   },
   "outputs": [
    {
     "data": {
      "text/html": [
       "<div>\n",
       "<style scoped>\n",
       "    .dataframe tbody tr th:only-of-type {\n",
       "        vertical-align: middle;\n",
       "    }\n",
       "\n",
       "    .dataframe tbody tr th {\n",
       "        vertical-align: top;\n",
       "    }\n",
       "\n",
       "    .dataframe thead th {\n",
       "        text-align: right;\n",
       "    }\n",
       "</style>\n",
       "<table border=\"1\" class=\"dataframe\">\n",
       "  <thead>\n",
       "    <tr style=\"text-align: right;\">\n",
       "      <th></th>\n",
       "      <th>Patient_Week</th>\n",
       "      <th>FVC</th>\n",
       "      <th>Confidence</th>\n",
       "    </tr>\n",
       "  </thead>\n",
       "  <tbody>\n",
       "    <tr>\n",
       "      <th>0</th>\n",
       "      <td>ID00419637202311204720264_-12</td>\n",
       "      <td>3050.260211</td>\n",
       "      <td>261.321882</td>\n",
       "    </tr>\n",
       "    <tr>\n",
       "      <th>1</th>\n",
       "      <td>ID00419637202311204720264_-11</td>\n",
       "      <td>3046.188174</td>\n",
       "      <td>261.804207</td>\n",
       "    </tr>\n",
       "    <tr>\n",
       "      <th>2</th>\n",
       "      <td>ID00419637202311204720264_-10</td>\n",
       "      <td>3041.816386</td>\n",
       "      <td>262.454275</td>\n",
       "    </tr>\n",
       "    <tr>\n",
       "      <th>3</th>\n",
       "      <td>ID00419637202311204720264_-9</td>\n",
       "      <td>3037.739056</td>\n",
       "      <td>264.161477</td>\n",
       "    </tr>\n",
       "    <tr>\n",
       "      <th>4</th>\n",
       "      <td>ID00419637202311204720264_-8</td>\n",
       "      <td>3032.861306</td>\n",
       "      <td>264.937971</td>\n",
       "    </tr>\n",
       "  </tbody>\n",
       "</table>\n",
       "</div>"
      ],
      "text/plain": [
       "                    Patient_Week          FVC  Confidence\n",
       "0  ID00419637202311204720264_-12  3050.260211  261.321882\n",
       "1  ID00419637202311204720264_-11  3046.188174  261.804207\n",
       "2  ID00419637202311204720264_-10  3041.816386  262.454275\n",
       "3   ID00419637202311204720264_-9  3037.739056  264.161477\n",
       "4   ID00419637202311204720264_-8  3032.861306  264.937971"
      ]
     },
     "execution_count": 81,
     "metadata": {},
     "output_type": "execute_result"
    }
   ],
   "source": [
    "tmp = pd.merge(df2[['Patient_Week','FVC','Confidence']],df4[['Patient_Week','FVC','Confidence']],on='Patient_Week')\n",
    "tmp['Confidence'] = 0.65*tmp['Confidence_x'] + 0.35*tmp['Confidence_y']\n",
    "tmp['FVC'] = 0.65*tmp['FVC_x'] + 0.35*tmp['FVC_y']\n",
    "tmp = tmp[['Patient_Week','FVC','Confidence']]\n",
    "tmp.head()"
   ]
  },
  {
   "cell_type": "code",
   "execution_count": 82,
   "metadata": {
    "execution": {
     "iopub.execute_input": "2020-10-06T21:03:09.518947Z",
     "iopub.status.busy": "2020-10-06T21:03:09.517793Z",
     "iopub.status.idle": "2020-10-06T21:03:09.571312Z",
     "shell.execute_reply": "2020-10-06T21:03:09.573110Z"
    },
    "papermill": {
     "duration": 0.255557,
     "end_time": "2020-10-06T21:03:09.573380",
     "exception": false,
     "start_time": "2020-10-06T21:03:09.317823",
     "status": "completed"
    },
    "tags": []
   },
   "outputs": [
    {
     "data": {
      "text/html": [
       "<div>\n",
       "<style scoped>\n",
       "    .dataframe tbody tr th:only-of-type {\n",
       "        vertical-align: middle;\n",
       "    }\n",
       "\n",
       "    .dataframe tbody tr th {\n",
       "        vertical-align: top;\n",
       "    }\n",
       "\n",
       "    .dataframe thead th {\n",
       "        text-align: right;\n",
       "    }\n",
       "</style>\n",
       "<table border=\"1\" class=\"dataframe\">\n",
       "  <thead>\n",
       "    <tr style=\"text-align: right;\">\n",
       "      <th></th>\n",
       "      <th>Patient_Week</th>\n",
       "      <th>FVC_x</th>\n",
       "      <th>Confidence_x</th>\n",
       "      <th>FVC_y</th>\n",
       "      <th>Confidence_y</th>\n",
       "      <th>FVC</th>\n",
       "      <th>Confidence</th>\n",
       "    </tr>\n",
       "  </thead>\n",
       "  <tbody>\n",
       "    <tr>\n",
       "      <th>0</th>\n",
       "      <td>ID00419637202311204720264_-12</td>\n",
       "      <td>2951.215576</td>\n",
       "      <td>367.666565</td>\n",
       "      <td>3050.260211</td>\n",
       "      <td>261.321882</td>\n",
       "      <td>3006.284762</td>\n",
       "      <td>288.977474</td>\n",
       "    </tr>\n",
       "    <tr>\n",
       "      <th>1</th>\n",
       "      <td>ID00419637202311204720264_-11</td>\n",
       "      <td>2949.578125</td>\n",
       "      <td>367.859619</td>\n",
       "      <td>3046.188174</td>\n",
       "      <td>261.804207</td>\n",
       "      <td>3003.298736</td>\n",
       "      <td>289.198940</td>\n",
       "    </tr>\n",
       "    <tr>\n",
       "      <th>2</th>\n",
       "      <td>ID00419637202311204720264_-10</td>\n",
       "      <td>2947.940918</td>\n",
       "      <td>368.052734</td>\n",
       "      <td>3041.816386</td>\n",
       "      <td>262.454275</td>\n",
       "      <td>3000.212874</td>\n",
       "      <td>289.476561</td>\n",
       "    </tr>\n",
       "    <tr>\n",
       "      <th>3</th>\n",
       "      <td>ID00419637202311204720264_-9</td>\n",
       "      <td>2946.303467</td>\n",
       "      <td>368.245941</td>\n",
       "      <td>3037.739056</td>\n",
       "      <td>264.161477</td>\n",
       "      <td>2997.225084</td>\n",
       "      <td>290.106810</td>\n",
       "    </tr>\n",
       "    <tr>\n",
       "      <th>4</th>\n",
       "      <td>ID00419637202311204720264_-8</td>\n",
       "      <td>2944.666016</td>\n",
       "      <td>368.439362</td>\n",
       "      <td>3032.861306</td>\n",
       "      <td>264.937971</td>\n",
       "      <td>2993.970487</td>\n",
       "      <td>290.427116</td>\n",
       "    </tr>\n",
       "  </tbody>\n",
       "</table>\n",
       "</div>"
      ],
      "text/plain": [
       "                    Patient_Week        FVC_x  Confidence_x        FVC_y  \\\n",
       "0  ID00419637202311204720264_-12  2951.215576    367.666565  3050.260211   \n",
       "1  ID00419637202311204720264_-11  2949.578125    367.859619  3046.188174   \n",
       "2  ID00419637202311204720264_-10  2947.940918    368.052734  3041.816386   \n",
       "3   ID00419637202311204720264_-9  2946.303467    368.245941  3037.739056   \n",
       "4   ID00419637202311204720264_-8  2944.666016    368.439362  3032.861306   \n",
       "\n",
       "   Confidence_y          FVC  Confidence  \n",
       "0    261.321882  3006.284762  288.977474  \n",
       "1    261.804207  3003.298736  289.198940  \n",
       "2    262.454275  3000.212874  289.476561  \n",
       "3    264.161477  2997.225084  290.106810  \n",
       "4    264.937971  2993.970487  290.427116  "
      ]
     },
     "execution_count": 82,
     "metadata": {},
     "output_type": "execute_result"
    }
   ],
   "source": [
    "#df = pd.merge(pd.merge(df1,df2,on='Patient_Week'),df3,on='Patient_Week')\n",
    "df = pd.merge(pd.merge(df1,tmp,on='Patient_Week'),df3,on='Patient_Week')\n",
    "df['FVC'] = (df['FVC_x'] + df['FVC_y'] + df['FVC'])/3.0\n",
    "df['Confidence'] = (df['Confidence_x'] + df['Confidence_y'] + df['Confidence'])/3.0\n",
    "df[['Patient_Week','FVC','Confidence']].to_csv('submission.csv', index=False)\n",
    "df.head()"
   ]
  },
  {
   "cell_type": "code",
   "execution_count": null,
   "metadata": {
    "_cell_guid": "79c7e3d0-c299-4dcb-8224-4455121ee9b0",
    "_uuid": "d629ff2d2480ee46fbb7e2d37f6b5fab8052498a",
    "collapsed": true,
    "papermill": {
     "duration": 0.149531,
     "end_time": "2020-10-06T21:03:09.941229",
     "exception": false,
     "start_time": "2020-10-06T21:03:09.791698",
     "status": "completed"
    },
    "tags": []
   },
   "outputs": [],
   "source": []
  }
 ],
 "metadata": {
  "kernelspec": {
   "display_name": "Python 3",
   "language": "python",
   "name": "python3"
  },
  "language_info": {
   "codemirror_mode": {
    "name": "ipython",
    "version": 3
   },
   "file_extension": ".py",
   "mimetype": "text/x-python",
   "name": "python",
   "nbconvert_exporter": "python",
   "pygments_lexer": "ipython3",
   "version": "3.7.6"
  },
  "papermill": {
   "duration": 929.6119,
   "end_time": "2020-10-06T21:03:12.025187",
   "environment_variables": {},
   "exception": null,
   "input_path": "__notebook__.ipynb",
   "output_path": "__notebook__.ipynb",
   "parameters": {},
   "start_time": "2020-10-06T20:47:42.413287",
   "version": "2.1.0"
  }
 },
 "nbformat": 4,
 "nbformat_minor": 4
}
